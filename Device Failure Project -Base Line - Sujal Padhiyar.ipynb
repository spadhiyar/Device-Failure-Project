{
 "cells": [
  {
   "cell_type": "markdown",
   "metadata": {},
   "source": [
    "# Problem statement:- \n",
    "This is data set of one of the truck company, who wants to do predictive analysis on manitainance parameter so that they can predict device failure before truck goes out for its delivery, so we need to develop algorithm which can predict which truck should not go out for delivery."
   ]
  },
  {
   "cell_type": "code",
   "execution_count": 2,
   "metadata": {
    "collapsed": true
   },
   "outputs": [],
   "source": [
    "import numpy as np\n",
    "import pandas as pd\n",
    "import seaborn as sns\n",
    "import matplotlib.pyplot as plt\n",
    "import seaborn as sns\n",
    "%matplotlib inline\n",
    "from sklearn.linear_model import LogisticRegression #logistic regression\n",
    "from sklearn import svm #support vector Machine\n",
    "from sklearn.ensemble import RandomForestClassifier #Random Forest\n",
    "from sklearn.neighbors import KNeighborsClassifier #KNN\n",
    "from sklearn.naive_bayes import GaussianNB #Naive bayes\n",
    "from sklearn.tree import DecisionTreeClassifier #Decision Tree\n",
    "from sklearn.ensemble import GradientBoostingClassifier \n",
    "from sklearn.ensemble import AdaBoostClassifier \n",
    "from sklearn.model_selection import train_test_split as tts #training and testing data split\n",
    "from sklearn import metrics #accuracy measure\n",
    "from sklearn.metrics import confusion_matrix #for confusion matrix"
   ]
  },
  {
   "cell_type": "code",
   "execution_count": 3,
   "metadata": {
    "collapsed": true
   },
   "outputs": [],
   "source": [
    "df=pd.read_csv('failures.csv')"
   ]
  },
  {
   "cell_type": "code",
   "execution_count": 5,
   "metadata": {
    "collapsed": true
   },
   "outputs": [],
   "source": [
    "df_prep=df.copy()"
   ]
  },
  {
   "cell_type": "code",
   "execution_count": 14,
   "metadata": {
    "collapsed": true
   },
   "outputs": [],
   "source": [
    "df_prep['month'] = df_prep.date.map(lambda x: x.split('-')[1])"
   ]
  },
  {
   "cell_type": "code",
   "execution_count": 15,
   "metadata": {},
   "outputs": [
    {
     "data": {
      "text/html": [
       "<div>\n",
       "<style>\n",
       "    .dataframe thead tr:only-child th {\n",
       "        text-align: right;\n",
       "    }\n",
       "\n",
       "    .dataframe thead th {\n",
       "        text-align: left;\n",
       "    }\n",
       "\n",
       "    .dataframe tbody tr th {\n",
       "        vertical-align: top;\n",
       "    }\n",
       "</style>\n",
       "<table border=\"1\" class=\"dataframe\">\n",
       "  <thead>\n",
       "    <tr style=\"text-align: right;\">\n",
       "      <th></th>\n",
       "      <th>date</th>\n",
       "      <th>device</th>\n",
       "      <th>failure</th>\n",
       "      <th>attribute1</th>\n",
       "      <th>attribute2</th>\n",
       "      <th>attribute3</th>\n",
       "      <th>attribute4</th>\n",
       "      <th>attribute5</th>\n",
       "      <th>attribute6</th>\n",
       "      <th>attribute7</th>\n",
       "      <th>attribute8</th>\n",
       "      <th>attribute9</th>\n",
       "      <th>month</th>\n",
       "    </tr>\n",
       "  </thead>\n",
       "  <tbody>\n",
       "    <tr>\n",
       "      <th>0</th>\n",
       "      <td>2015-01-01</td>\n",
       "      <td>S1F01085</td>\n",
       "      <td>0</td>\n",
       "      <td>215630672</td>\n",
       "      <td>56</td>\n",
       "      <td>0</td>\n",
       "      <td>52</td>\n",
       "      <td>6</td>\n",
       "      <td>407438</td>\n",
       "      <td>0</td>\n",
       "      <td>0</td>\n",
       "      <td>7</td>\n",
       "      <td>01</td>\n",
       "    </tr>\n",
       "    <tr>\n",
       "      <th>1</th>\n",
       "      <td>2015-01-01</td>\n",
       "      <td>S1F0166B</td>\n",
       "      <td>0</td>\n",
       "      <td>61370680</td>\n",
       "      <td>0</td>\n",
       "      <td>3</td>\n",
       "      <td>0</td>\n",
       "      <td>6</td>\n",
       "      <td>403174</td>\n",
       "      <td>0</td>\n",
       "      <td>0</td>\n",
       "      <td>0</td>\n",
       "      <td>01</td>\n",
       "    </tr>\n",
       "    <tr>\n",
       "      <th>2</th>\n",
       "      <td>2015-01-01</td>\n",
       "      <td>S1F01E6Y</td>\n",
       "      <td>0</td>\n",
       "      <td>173295968</td>\n",
       "      <td>0</td>\n",
       "      <td>0</td>\n",
       "      <td>0</td>\n",
       "      <td>12</td>\n",
       "      <td>237394</td>\n",
       "      <td>0</td>\n",
       "      <td>0</td>\n",
       "      <td>0</td>\n",
       "      <td>01</td>\n",
       "    </tr>\n",
       "    <tr>\n",
       "      <th>3</th>\n",
       "      <td>2015-01-01</td>\n",
       "      <td>S1F01JE0</td>\n",
       "      <td>0</td>\n",
       "      <td>79694024</td>\n",
       "      <td>0</td>\n",
       "      <td>0</td>\n",
       "      <td>0</td>\n",
       "      <td>6</td>\n",
       "      <td>410186</td>\n",
       "      <td>0</td>\n",
       "      <td>0</td>\n",
       "      <td>0</td>\n",
       "      <td>01</td>\n",
       "    </tr>\n",
       "    <tr>\n",
       "      <th>4</th>\n",
       "      <td>2015-01-01</td>\n",
       "      <td>S1F01R2B</td>\n",
       "      <td>0</td>\n",
       "      <td>135970480</td>\n",
       "      <td>0</td>\n",
       "      <td>0</td>\n",
       "      <td>0</td>\n",
       "      <td>15</td>\n",
       "      <td>313173</td>\n",
       "      <td>0</td>\n",
       "      <td>0</td>\n",
       "      <td>3</td>\n",
       "      <td>01</td>\n",
       "    </tr>\n",
       "  </tbody>\n",
       "</table>\n",
       "</div>"
      ],
      "text/plain": [
       "         date    device  failure  attribute1  attribute2  attribute3  \\\n",
       "0  2015-01-01  S1F01085        0   215630672          56           0   \n",
       "1  2015-01-01  S1F0166B        0    61370680           0           3   \n",
       "2  2015-01-01  S1F01E6Y        0   173295968           0           0   \n",
       "3  2015-01-01  S1F01JE0        0    79694024           0           0   \n",
       "4  2015-01-01  S1F01R2B        0   135970480           0           0   \n",
       "\n",
       "   attribute4  attribute5  attribute6  attribute7  attribute8  attribute9  \\\n",
       "0          52           6      407438           0           0           7   \n",
       "1           0           6      403174           0           0           0   \n",
       "2           0          12      237394           0           0           0   \n",
       "3           0           6      410186           0           0           0   \n",
       "4           0          15      313173           0           0           3   \n",
       "\n",
       "  month  \n",
       "0    01  \n",
       "1    01  \n",
       "2    01  \n",
       "3    01  \n",
       "4    01  "
      ]
     },
     "execution_count": 15,
     "metadata": {},
     "output_type": "execute_result"
    }
   ],
   "source": [
    "df_prep.head()"
   ]
  },
  {
   "cell_type": "code",
   "execution_count": 16,
   "metadata": {},
   "outputs": [
    {
     "data": {
      "text/plain": [
       "<matplotlib.axes._subplots.AxesSubplot at 0x10b5d93c8>"
      ]
     },
     "execution_count": 16,
     "metadata": {},
     "output_type": "execute_result"
    },
    {
     "data": {
      "image/png": "[encoded data removed]",
      "text/plain": [
       "<matplotlib.figure.Figure at 0x109a25ef0>"
      ]
     },
     "metadata": {},
     "output_type": "display_data"
    }
   ],
   "source": [
    "df_prep.groupby('month')['failure'].mean().plot()"
   ]
  },
  {
   "cell_type": "code",
   "execution_count": 21,
   "metadata": {
    "collapsed": true
   },
   "outputs": [],
   "source": [
    "defaultid = df_prep[df_prep.failure == 1].device.unique()"
   ]
  },
  {
   "cell_type": "code",
   "execution_count": 34,
   "metadata": {},
   "outputs": [
    {
     "data": {
      "text/plain": [
       "(106,)"
      ]
     },
     "execution_count": 34,
     "metadata": {},
     "output_type": "execute_result"
    }
   ],
   "source": [
    "defaultid.shape"
   ]
  },
  {
   "cell_type": "code",
   "execution_count": 54,
   "metadata": {
    "collapsed": true
   },
   "outputs": [],
   "source": [
    "defaults=df_prep[df_prep.device.isin(defaultid)]"
   ]
  },
  {
   "cell_type": "code",
   "execution_count": 55,
   "metadata": {},
   "outputs": [
    {
     "data": {
      "text/html": [
       "<div>\n",
       "<style>\n",
       "    .dataframe thead tr:only-child th {\n",
       "        text-align: right;\n",
       "    }\n",
       "\n",
       "    .dataframe thead th {\n",
       "        text-align: left;\n",
       "    }\n",
       "\n",
       "    .dataframe tbody tr th {\n",
       "        vertical-align: top;\n",
       "    }\n",
       "</style>\n",
       "<table border=\"1\" class=\"dataframe\">\n",
       "  <thead>\n",
       "    <tr style=\"text-align: right;\">\n",
       "      <th></th>\n",
       "      <th>date</th>\n",
       "      <th>device</th>\n",
       "      <th>failure</th>\n",
       "      <th>attribute1</th>\n",
       "      <th>attribute2</th>\n",
       "      <th>attribute3</th>\n",
       "      <th>attribute4</th>\n",
       "      <th>attribute5</th>\n",
       "      <th>attribute6</th>\n",
       "      <th>attribute7</th>\n",
       "      <th>attribute8</th>\n",
       "      <th>attribute9</th>\n",
       "      <th>month</th>\n",
       "    </tr>\n",
       "  </thead>\n",
       "  <tbody>\n",
       "    <tr>\n",
       "      <th>7</th>\n",
       "      <td>2015-01-01</td>\n",
       "      <td>S1F023H2</td>\n",
       "      <td>0</td>\n",
       "      <td>141503600</td>\n",
       "      <td>0</td>\n",
       "      <td>0</td>\n",
       "      <td>1</td>\n",
       "      <td>19</td>\n",
       "      <td>494462</td>\n",
       "      <td>16</td>\n",
       "      <td>16</td>\n",
       "      <td>3</td>\n",
       "      <td>01</td>\n",
       "    </tr>\n",
       "    <tr>\n",
       "      <th>23</th>\n",
       "      <td>2015-01-01</td>\n",
       "      <td>S1F03YZM</td>\n",
       "      <td>0</td>\n",
       "      <td>55587136</td>\n",
       "      <td>0</td>\n",
       "      <td>0</td>\n",
       "      <td>0</td>\n",
       "      <td>7</td>\n",
       "      <td>199132</td>\n",
       "      <td>0</td>\n",
       "      <td>0</td>\n",
       "      <td>0</td>\n",
       "      <td>01</td>\n",
       "    </tr>\n",
       "    <tr>\n",
       "      <th>44</th>\n",
       "      <td>2015-01-01</td>\n",
       "      <td>S1F09DZQ</td>\n",
       "      <td>0</td>\n",
       "      <td>12568128</td>\n",
       "      <td>136</td>\n",
       "      <td>0</td>\n",
       "      <td>2</td>\n",
       "      <td>6</td>\n",
       "      <td>380112</td>\n",
       "      <td>0</td>\n",
       "      <td>0</td>\n",
       "      <td>2</td>\n",
       "      <td>01</td>\n",
       "    </tr>\n",
       "    <tr>\n",
       "      <th>63</th>\n",
       "      <td>2015-01-01</td>\n",
       "      <td>S1F0CTDN</td>\n",
       "      <td>0</td>\n",
       "      <td>50147888</td>\n",
       "      <td>528</td>\n",
       "      <td>0</td>\n",
       "      <td>4</td>\n",
       "      <td>9</td>\n",
       "      <td>381198</td>\n",
       "      <td>32</td>\n",
       "      <td>32</td>\n",
       "      <td>3</td>\n",
       "      <td>01</td>\n",
       "    </tr>\n",
       "    <tr>\n",
       "      <th>74</th>\n",
       "      <td>2015-01-01</td>\n",
       "      <td>S1F0DSTY</td>\n",
       "      <td>0</td>\n",
       "      <td>8471680</td>\n",
       "      <td>0</td>\n",
       "      <td>0</td>\n",
       "      <td>0</td>\n",
       "      <td>11</td>\n",
       "      <td>436682</td>\n",
       "      <td>0</td>\n",
       "      <td>0</td>\n",
       "      <td>0</td>\n",
       "      <td>01</td>\n",
       "    </tr>\n",
       "  </tbody>\n",
       "</table>\n",
       "</div>"
      ],
      "text/plain": [
       "          date    device  failure  attribute1  attribute2  attribute3  \\\n",
       "7   2015-01-01  S1F023H2        0   141503600           0           0   \n",
       "23  2015-01-01  S1F03YZM        0    55587136           0           0   \n",
       "44  2015-01-01  S1F09DZQ        0    12568128         136           0   \n",
       "63  2015-01-01  S1F0CTDN        0    50147888         528           0   \n",
       "74  2015-01-01  S1F0DSTY        0     8471680           0           0   \n",
       "\n",
       "    attribute4  attribute5  attribute6  attribute7  attribute8  attribute9  \\\n",
       "7            1          19      494462          16          16           3   \n",
       "23           0           7      199132           0           0           0   \n",
       "44           2           6      380112           0           0           2   \n",
       "63           4           9      381198          32          32           3   \n",
       "74           0          11      436682           0           0           0   \n",
       "\n",
       "   month  \n",
       "7     01  \n",
       "23    01  \n",
       "44    01  \n",
       "63    01  \n",
       "74    01  "
      ]
     },
     "execution_count": 55,
     "metadata": {},
     "output_type": "execute_result"
    }
   ],
   "source": [
    "defaults.head()"
   ]
  },
  {
   "cell_type": "code",
   "execution_count": 56,
   "metadata": {},
   "outputs": [
    {
     "data": {
      "text/plain": [
       "(10713, 13)"
      ]
     },
     "execution_count": 56,
     "metadata": {},
     "output_type": "execute_result"
    }
   ],
   "source": [
    "defaults.shape"
   ]
  },
  {
   "cell_type": "code",
   "execution_count": 65,
   "metadata": {},
   "outputs": [
    {
     "data": {
      "text/plain": [
       "106"
      ]
     },
     "execution_count": 65,
     "metadata": {},
     "output_type": "execute_result"
    }
   ],
   "source": [
    "defaults.device.nunique()"
   ]
  },
  {
   "cell_type": "code",
   "execution_count": 59,
   "metadata": {
    "collapsed": true
   },
   "outputs": [],
   "source": [
    "defaults1=df_prep[~df_prep.device.isin(defaultid)]"
   ]
  },
  {
   "cell_type": "code",
   "execution_count": 60,
   "metadata": {},
   "outputs": [
    {
     "data": {
      "text/plain": [
       "(113781, 13)"
      ]
     },
     "execution_count": 60,
     "metadata": {},
     "output_type": "execute_result"
    }
   ],
   "source": [
    "defaults1.shape"
   ]
  },
  {
   "cell_type": "code",
   "execution_count": 62,
   "metadata": {},
   "outputs": [
    {
     "data": {
      "text/html": [
       "<div>\n",
       "<style>\n",
       "    .dataframe thead tr:only-child th {\n",
       "        text-align: right;\n",
       "    }\n",
       "\n",
       "    .dataframe thead th {\n",
       "        text-align: left;\n",
       "    }\n",
       "\n",
       "    .dataframe tbody tr th {\n",
       "        vertical-align: top;\n",
       "    }\n",
       "</style>\n",
       "<table border=\"1\" class=\"dataframe\">\n",
       "  <thead>\n",
       "    <tr style=\"text-align: right;\">\n",
       "      <th></th>\n",
       "      <th>date</th>\n",
       "      <th>device</th>\n",
       "      <th>failure</th>\n",
       "      <th>attribute1</th>\n",
       "      <th>attribute2</th>\n",
       "      <th>attribute3</th>\n",
       "      <th>attribute4</th>\n",
       "      <th>attribute5</th>\n",
       "      <th>attribute6</th>\n",
       "      <th>attribute7</th>\n",
       "      <th>attribute8</th>\n",
       "      <th>attribute9</th>\n",
       "      <th>month</th>\n",
       "    </tr>\n",
       "  </thead>\n",
       "  <tbody>\n",
       "  </tbody>\n",
       "</table>\n",
       "</div>"
      ],
      "text/plain": [
       "Empty DataFrame\n",
       "Columns: [date, device, failure, attribute1, attribute2, attribute3, attribute4, attribute5, attribute6, attribute7, attribute8, attribute9, month]\n",
       "Index: []"
      ]
     },
     "execution_count": 62,
     "metadata": {},
     "output_type": "execute_result"
    }
   ],
   "source": [
    "defaults1[defaults1.device=='S1F03YZM']"
   ]
  },
  {
   "cell_type": "code",
   "execution_count": 64,
   "metadata": {},
   "outputs": [
    {
     "data": {
      "text/plain": [
       "1062"
      ]
     },
     "execution_count": 64,
     "metadata": {},
     "output_type": "execute_result"
    }
   ],
   "source": [
    "defaults1.device.nunique()"
   ]
  },
  {
   "cell_type": "code",
   "execution_count": 43,
   "metadata": {},
   "outputs": [
    {
     "data": {
      "text/plain": [
       "1168"
      ]
     },
     "execution_count": 43,
     "metadata": {},
     "output_type": "execute_result"
    }
   ],
   "source": [
    "df.device.nunique()"
   ]
  },
  {
   "cell_type": "code",
   "execution_count": 33,
   "metadata": {},
   "outputs": [
    {
     "data": {
      "text/plain": [
       "<matplotlib.axes._subplots.AxesSubplot at 0x109953400>"
      ]
     },
     "execution_count": 33,
     "metadata": {},
     "output_type": "execute_result"
    },
    {
     "data": {
      "image/png": "[encoded data removed]",
      "text/plain": [
       "<matplotlib.figure.Figure at 0x10993e668>"
      ]
     },
     "metadata": {},
     "output_type": "display_data"
    }
   ],
   "source": [
    "defaults.groupby('month')['failure'].mean().plot()"
   ]
  },
  {
   "cell_type": "code",
   "execution_count": 66,
   "metadata": {},
   "outputs": [
    {
     "data": {
      "text/plain": [
       "month\n",
       "01    2812\n",
       "02    1897\n",
       "03    1813\n",
       "04    1481\n",
       "05    1125\n",
       "06     799\n",
       "07     518\n",
       "08     138\n",
       "09      90\n",
       "10      40\n",
       "Name: failure, dtype: int64"
      ]
     },
     "execution_count": 66,
     "metadata": {},
     "output_type": "execute_result"
    }
   ],
   "source": [
    "defaults.groupby('month')['failure'].count()"
   ]
  },
  {
   "cell_type": "code",
   "execution_count": 4,
   "metadata": {
    "scrolled": true
   },
   "outputs": [
    {
     "name": "stdout",
     "output_type": "stream",
     "text": [
      "<class 'pandas.core.frame.DataFrame'>\n",
      "RangeIndex: 124494 entries, 0 to 124493\n",
      "Data columns (total 12 columns):\n",
      "date          124494 non-null object\n",
      "device        124494 non-null object\n",
      "failure       124494 non-null int64\n",
      "attribute1    124494 non-null int64\n",
      "attribute2    124494 non-null int64\n",
      "attribute3    124494 non-null int64\n",
      "attribute4    124494 non-null int64\n",
      "attribute5    124494 non-null int64\n",
      "attribute6    124494 non-null int64\n",
      "attribute7    124494 non-null int64\n",
      "attribute8    124494 non-null int64\n",
      "attribute9    124494 non-null int64\n",
      "dtypes: int64(10), object(2)\n",
      "memory usage: 11.4+ MB\n"
     ]
    },
    {
     "data": {
      "text/plain": [
       "(         date    device  failure  attribute1  attribute2  attribute3  \\\n",
       " 0  2015-01-01  S1F01085        0   215630672          56           0   \n",
       " 1  2015-01-01  S1F0166B        0    61370680           0           3   \n",
       " 2  2015-01-01  S1F01E6Y        0   173295968           0           0   \n",
       " 3  2015-01-01  S1F01JE0        0    79694024           0           0   \n",
       " 4  2015-01-01  S1F01R2B        0   135970480           0           0   \n",
       " \n",
       "    attribute4  attribute5  attribute6  attribute7  attribute8  attribute9  \n",
       " 0          52           6      407438           0           0           7  \n",
       " 1           0           6      403174           0           0           0  \n",
       " 2           0          12      237394           0           0           0  \n",
       " 3           0           6      410186           0           0           0  \n",
       " 4           0          15      313173           0           0           3  ,\n",
       "               date    device  failure  attribute1  attribute2  attribute3  \\\n",
       " 124489  2015-11-02  Z1F0MA1S        0    18310224           0           0   \n",
       " 124490  2015-11-02  Z1F0Q8RT        0   172556680          96         107   \n",
       " 124491  2015-11-02  Z1F0QK05        0    19029120        4832           0   \n",
       " 124492  2015-11-02  Z1F0QL3N        0   226953408           0           0   \n",
       " 124493  2015-11-02  Z1F0QLC1        0    17572840           0           0   \n",
       " \n",
       "         attribute4  attribute5  attribute6  attribute7  attribute8  attribute9  \n",
       " 124489           0          10      353705           8           8           0  \n",
       " 124490           4          11      332792           0           0          13  \n",
       " 124491           0          11      350410           0           0           0  \n",
       " 124492           0          12      358980           0           0           0  \n",
       " 124493           0          10      351431           0           0           0  ,\n",
       " None)"
      ]
     },
     "execution_count": 4,
     "metadata": {},
     "output_type": "execute_result"
    }
   ],
   "source": [
    "df.head(),df.tail(),df.info()"
   ]
  },
  {
   "cell_type": "code",
   "execution_count": 7,
   "metadata": {},
   "outputs": [
    {
     "data": {
      "text/plain": [
       "date          0\n",
       "device        0\n",
       "failure       0\n",
       "attribute1    0\n",
       "attribute2    0\n",
       "attribute3    0\n",
       "attribute4    0\n",
       "attribute5    0\n",
       "attribute6    0\n",
       "attribute7    0\n",
       "attribute8    0\n",
       "attribute9    0\n",
       "dtype: int64"
      ]
     },
     "execution_count": 7,
     "metadata": {},
     "output_type": "execute_result"
    }
   ],
   "source": [
    "df.isnull().sum()"
   ]
  },
  {
   "cell_type": "code",
   "execution_count": 8,
   "metadata": {},
   "outputs": [
    {
     "data": {
      "text/plain": [
       "date          object\n",
       "device        object\n",
       "failure        int64\n",
       "attribute1     int64\n",
       "attribute2     int64\n",
       "attribute3     int64\n",
       "attribute4     int64\n",
       "attribute5     int64\n",
       "attribute6     int64\n",
       "attribute7     int64\n",
       "attribute8     int64\n",
       "attribute9     int64\n",
       "dtype: object"
      ]
     },
     "execution_count": 8,
     "metadata": {},
     "output_type": "execute_result"
    }
   ],
   "source": [
    "df.dtypes"
   ]
  },
  {
   "cell_type": "markdown",
   "metadata": {},
   "source": [
    "# 1. Need to convert date in to datetime format\n",
    "# 2. classify  attribute for categorical & continues"
   ]
  },
  {
   "cell_type": "code",
   "execution_count": 9,
   "metadata": {},
   "outputs": [
    {
     "data": {
      "text/plain": [
       "0    124388\n",
       "1       106\n",
       "Name: failure, dtype: int64"
      ]
     },
     "execution_count": 9,
     "metadata": {},
     "output_type": "execute_result"
    }
   ],
   "source": [
    "df.failure.value_counts()"
   ]
  },
  {
   "cell_type": "markdown",
   "metadata": {},
   "source": [
    "# Highly imbalanced data with failure rate less then 0.9 %"
   ]
  },
  {
   "cell_type": "code",
   "execution_count": 11,
   "metadata": {},
   "outputs": [
    {
     "data": {
      "text/html": [
       "<div>\n",
       "<style>\n",
       "    .dataframe thead tr:only-child th {\n",
       "        text-align: right;\n",
       "    }\n",
       "\n",
       "    .dataframe thead th {\n",
       "        text-align: left;\n",
       "    }\n",
       "\n",
       "    .dataframe tbody tr th {\n",
       "        vertical-align: top;\n",
       "    }\n",
       "</style>\n",
       "<table border=\"1\" class=\"dataframe\">\n",
       "  <thead>\n",
       "    <tr style=\"text-align: right;\">\n",
       "      <th></th>\n",
       "      <th>failure</th>\n",
       "      <th>attribute1</th>\n",
       "      <th>attribute2</th>\n",
       "      <th>attribute3</th>\n",
       "      <th>attribute4</th>\n",
       "      <th>attribute5</th>\n",
       "      <th>attribute6</th>\n",
       "      <th>attribute7</th>\n",
       "      <th>attribute8</th>\n",
       "      <th>attribute9</th>\n",
       "    </tr>\n",
       "  </thead>\n",
       "  <tbody>\n",
       "    <tr>\n",
       "      <th>count</th>\n",
       "      <td>124494.000000</td>\n",
       "      <td>1.244940e+05</td>\n",
       "      <td>124494.000000</td>\n",
       "      <td>124494.000000</td>\n",
       "      <td>124494.000000</td>\n",
       "      <td>124494.000000</td>\n",
       "      <td>124494.000000</td>\n",
       "      <td>124494.000000</td>\n",
       "      <td>124494.000000</td>\n",
       "      <td>124494.000000</td>\n",
       "    </tr>\n",
       "    <tr>\n",
       "      <th>mean</th>\n",
       "      <td>0.000851</td>\n",
       "      <td>1.223868e+08</td>\n",
       "      <td>159.484762</td>\n",
       "      <td>9.940455</td>\n",
       "      <td>1.741120</td>\n",
       "      <td>14.222693</td>\n",
       "      <td>260172.858025</td>\n",
       "      <td>0.292528</td>\n",
       "      <td>0.292528</td>\n",
       "      <td>12.451524</td>\n",
       "    </tr>\n",
       "    <tr>\n",
       "      <th>std</th>\n",
       "      <td>0.029167</td>\n",
       "      <td>7.045960e+07</td>\n",
       "      <td>2179.657730</td>\n",
       "      <td>185.747321</td>\n",
       "      <td>22.908507</td>\n",
       "      <td>15.943021</td>\n",
       "      <td>99151.009852</td>\n",
       "      <td>7.436924</td>\n",
       "      <td>7.436924</td>\n",
       "      <td>191.425623</td>\n",
       "    </tr>\n",
       "    <tr>\n",
       "      <th>min</th>\n",
       "      <td>0.000000</td>\n",
       "      <td>0.000000e+00</td>\n",
       "      <td>0.000000</td>\n",
       "      <td>0.000000</td>\n",
       "      <td>0.000000</td>\n",
       "      <td>1.000000</td>\n",
       "      <td>8.000000</td>\n",
       "      <td>0.000000</td>\n",
       "      <td>0.000000</td>\n",
       "      <td>0.000000</td>\n",
       "    </tr>\n",
       "    <tr>\n",
       "      <th>25%</th>\n",
       "      <td>0.000000</td>\n",
       "      <td>6.127675e+07</td>\n",
       "      <td>0.000000</td>\n",
       "      <td>0.000000</td>\n",
       "      <td>0.000000</td>\n",
       "      <td>8.000000</td>\n",
       "      <td>221452.000000</td>\n",
       "      <td>0.000000</td>\n",
       "      <td>0.000000</td>\n",
       "      <td>0.000000</td>\n",
       "    </tr>\n",
       "    <tr>\n",
       "      <th>50%</th>\n",
       "      <td>0.000000</td>\n",
       "      <td>1.227957e+08</td>\n",
       "      <td>0.000000</td>\n",
       "      <td>0.000000</td>\n",
       "      <td>0.000000</td>\n",
       "      <td>10.000000</td>\n",
       "      <td>249799.500000</td>\n",
       "      <td>0.000000</td>\n",
       "      <td>0.000000</td>\n",
       "      <td>0.000000</td>\n",
       "    </tr>\n",
       "    <tr>\n",
       "      <th>75%</th>\n",
       "      <td>0.000000</td>\n",
       "      <td>1.833084e+08</td>\n",
       "      <td>0.000000</td>\n",
       "      <td>0.000000</td>\n",
       "      <td>0.000000</td>\n",
       "      <td>12.000000</td>\n",
       "      <td>310266.000000</td>\n",
       "      <td>0.000000</td>\n",
       "      <td>0.000000</td>\n",
       "      <td>0.000000</td>\n",
       "    </tr>\n",
       "    <tr>\n",
       "      <th>max</th>\n",
       "      <td>1.000000</td>\n",
       "      <td>2.441405e+08</td>\n",
       "      <td>64968.000000</td>\n",
       "      <td>24929.000000</td>\n",
       "      <td>1666.000000</td>\n",
       "      <td>98.000000</td>\n",
       "      <td>689161.000000</td>\n",
       "      <td>832.000000</td>\n",
       "      <td>832.000000</td>\n",
       "      <td>18701.000000</td>\n",
       "    </tr>\n",
       "  </tbody>\n",
       "</table>\n",
       "</div>"
      ],
      "text/plain": [
       "             failure    attribute1     attribute2     attribute3  \\\n",
       "count  124494.000000  1.244940e+05  124494.000000  124494.000000   \n",
       "mean        0.000851  1.223868e+08     159.484762       9.940455   \n",
       "std         0.029167  7.045960e+07    2179.657730     185.747321   \n",
       "min         0.000000  0.000000e+00       0.000000       0.000000   \n",
       "25%         0.000000  6.127675e+07       0.000000       0.000000   \n",
       "50%         0.000000  1.227957e+08       0.000000       0.000000   \n",
       "75%         0.000000  1.833084e+08       0.000000       0.000000   \n",
       "max         1.000000  2.441405e+08   64968.000000   24929.000000   \n",
       "\n",
       "          attribute4     attribute5     attribute6     attribute7  \\\n",
       "count  124494.000000  124494.000000  124494.000000  124494.000000   \n",
       "mean        1.741120      14.222693  260172.858025       0.292528   \n",
       "std        22.908507      15.943021   99151.009852       7.436924   \n",
       "min         0.000000       1.000000       8.000000       0.000000   \n",
       "25%         0.000000       8.000000  221452.000000       0.000000   \n",
       "50%         0.000000      10.000000  249799.500000       0.000000   \n",
       "75%         0.000000      12.000000  310266.000000       0.000000   \n",
       "max      1666.000000      98.000000  689161.000000     832.000000   \n",
       "\n",
       "          attribute8     attribute9  \n",
       "count  124494.000000  124494.000000  \n",
       "mean        0.292528      12.451524  \n",
       "std         7.436924     191.425623  \n",
       "min         0.000000       0.000000  \n",
       "25%         0.000000       0.000000  \n",
       "50%         0.000000       0.000000  \n",
       "75%         0.000000       0.000000  \n",
       "max       832.000000   18701.000000  "
      ]
     },
     "execution_count": 11,
     "metadata": {},
     "output_type": "execute_result"
    }
   ],
   "source": [
    "df.describe()"
   ]
  },
  {
   "cell_type": "code",
   "execution_count": 12,
   "metadata": {
    "collapsed": true
   },
   "outputs": [],
   "source": [
    "#fig = plt.figure(figsize = (10,5))\n",
    "#plt.plot(df.attribute5,df.failure,'o')\n",
    "#plt.title(\"Relationship between attributes\")\n",
    "#plt.xlabel('X (Attribute3)')\n",
    "#plt.ylabel('Y (failure)')"
   ]
  },
  {
   "cell_type": "code",
   "execution_count": 18,
   "metadata": {
    "scrolled": true
   },
   "outputs": [
    {
     "data": {
      "text/plain": [
       "(array([   56,     0,  1536,   168,  5160,   392,  1984,   192,   496,\n",
       "          928,  1952,   128,   744,   136,  7928,   360,     8,   464,\n",
       "        21528,  1392,   352,  7448,   104,   528,   800,   520,  1888,\n",
       "         1232,   368,  6336, 17408,  1056,  1160,  2288,  1184,    32,\n",
       "        64728,   712,  7024,   424, 54896,  1080,  2336,  4960,  5560,\n",
       "          992,   112,    72,    16,   792, 64776,  4768,   944,   600,\n",
       "         6328,   160,  1064,  1552,  6264,   440,  4072,  4240,  1960,\n",
       "          256,   736, 44008,  2000,   376,    24,    40,    80,   344,\n",
       "         1936,   232, 24656,   728,   240,  1208,  7944,  7800,  1912,\n",
       "         1248, 56736,   280,  6280,   512,  8392,   504, 21544,  8120,\n",
       "         6128, 54752,   632,  1072,  6288,  2008,   680,  1944,  1592,\n",
       "         2016,   752,   144, 21928,  8160,   808,  1152,  1176, 61592,\n",
       "        47944,   120,  6352,  4248,  1656,  2024,   936,   760, 21944,\n",
       "         1400,  8688,   816,  6360, 10096, 49768, 64784,   288,  1664,\n",
       "         2096, 64736,  2568,   176, 49840,  1104,  2032,   976,  1416,\n",
       "          200,  4792,  2040,  1488,  1920,   480,  1928,   152,  4808,\n",
       "         1240,    48,   872,  4920,  1880,   656,  6416,  1616,  1968,\n",
       "         1440,  6464,  1976,   824,   664,  1624,  2344,  6472,  1848,\n",
       "          840,  1560,  3800,  6504,  3432,    88,   952,   304,  3840,\n",
       "         1312,  6544,    96,  1576,   328,  3848,   608,  2848,  3528,\n",
       "        10288,  4264, 44024,  4280,   960,  4304, 44152,   208,  4312,\n",
       "         1992,   704,   488,  6656,  1088,   184,  6680,  2304,  2056,\n",
       "         6720,  1096,  2464,   624,  6744, 44176,  2232,  6792,  2296,\n",
       "         6912,   832,  2352,   640,  6992,  2608, 16408,  7096,  2664,\n",
       "        21816,   776,  7128, 44224,  2904,   912,  7160,  4440,  3016,\n",
       "         1320,  7216,  3032,  7240,  4448, 44232,  3064,  5184,  4456,\n",
       "        46264,  3096,  5192,  4464,  3104,  6344,  7344,  4488,  3112,\n",
       "         7384, 46280,  3152,  7400,  3160,  7440,  3216,  7456,  3376,\n",
       "         7504,  1584,  2576,  3440,  7544,  3456, 46296,  3472,  7552,\n",
       "         7624,   216,  2064,  2280,  3488,   224,   296, 46304,  4496,\n",
       "          248,  8488, 10328, 10064, 10232,  1600, 10336,  3512, 46328,\n",
       "        46400,   400,   336, 10344, 46408,   472,  2072, 10352,   432,\n",
       "         1632, 10360,  3536, 10592,  3552,  4512,  1672, 34912,  7640,\n",
       "         1720,   264,  1296, 37936,  7648,  4536,  1744,  2320, 43712,\n",
       "         7672, 51976,  7680, 46496,  1752, 22816,   896,  1768,  2144,\n",
       "        23400,  7712,   848,  1776, 23936,  7752,   864,  1800,  2360,\n",
       "        24680,  7768,  2104,   920,  1808,  2368, 24792,  3576,   552,\n",
       "         1816, 24904,  3584, 10304,  1864,  3592,  7888, 46520, 24920,\n",
       "         8064, 46584,  2192, 24976, 46848,   616,  2472, 46872,  8136,\n",
       "         7808, 24984,  3600,  8104,   984,  8544,  1032,  8760,  1048,\n",
       "         9008,  1120,  1128,  9592,   560,  1136,  9848,  1192,  2256,\n",
       "         2376,  3608,  9920,  2384,  9952,  2392,   408,  3616,  1200,\n",
       "         9960,  1504,   320,  2920,  1256,  9984,  3352, 10024,  6800,\n",
       "          536, 10168,  6808,  3624,  7520, 10184,  7904, 10248,  9536,\n",
       "         3696, 10392, 10448, 10648, 11216, 11432, 11856,  2272, 11872,\n",
       "        11880, 11888, 12360, 23208,  1264, 32936, 33000,  2712, 33016,\n",
       "         2424,  1280,  2432, 10200, 33024, 35616,  2328, 16864,  1288,\n",
       "        10368, 62296, 10376,  2440, 10384,  1336,   448,  1464, 10440,\n",
       "          456,    64,  1648,  1112,  1832,  2048, 13560, 27856,  2520,\n",
       "         2480,  2488,  2496,  2528,  2400,  2536,  2416,  2448,   544,\n",
       "         2544,   272,  2552,  2600,   568,  1144,   576,   384,   648,\n",
       "         2456,   416,  2616,  2656,  1376,   584,  1840,  2704,  9264,\n",
       "         2720, 28344,  2744, 64968,  2768, 14856, 14904,  4360, 14920,\n",
       "        15304,  2784, 15328, 15336,  2792,  2808,  2816,  2824, 21200,\n",
       "         2832,  2856,  2880,  2912,  2936,  2944,  2984,  2992,   672,\n",
       "         3040,  4816,  3048,   592,  2248,  3000,  3072,  7960,  3080,\n",
       "         1024,  7968,  7976,  8480,  8520,  2640,  8528,  3128,  3288,\n",
       "         2648,  8536,  3136,  1000,  3144,  3200,   888,   968,  1040,\n",
       "         1424,  4472, 12928,  2208,  1360, 13088,  3248,  4080,  1480,\n",
       "        64584,  4160,  1568,  5624, 33528,  6048, 41232,  6080,  3272,\n",
       "        56584,  6096,  6304,  6176, 17704,  6216,  6248, 18072,  6272,\n",
       "        19200, 64464, 64472,  6368,  6376,  6480,  6856,  4832, 64792]),\n",
       " array([215630672,  61370680, 173295968, ...,  19029120, 226953408,\n",
       "         17572840]),\n",
       " array([407438, 403174, 237394, ..., 350410, 358980, 351431]))"
      ]
     },
     "execution_count": 18,
     "metadata": {},
     "output_type": "execute_result"
    }
   ],
   "source": [
    "df.attribute2.unique(),df.attribute1.unique(),df.attribute6.unique()"
   ]
  },
  {
   "cell_type": "code",
   "execution_count": 19,
   "metadata": {},
   "outputs": [
    {
     "name": "stderr",
     "output_type": "stream",
     "text": [
      "/Users/SKYLER/anaconda3/lib/python3.6/site-packages/ipykernel_launcher.py:8: RuntimeWarning: divide by zero encountered in log\n",
      "  \n",
      "/Users/SKYLER/anaconda3/lib/python3.6/site-packages/ipykernel_launcher.py:9: RuntimeWarning: divide by zero encountered in log\n",
      "  if __name__ == '__main__':\n"
     ]
    },
    {
     "data": {
      "image/png": "[encoded data removed]",
      "text/plain": [
       "<matplotlib.figure.Figure at 0x1a16814780>"
      ]
     },
     "metadata": {},
     "output_type": "display_data"
    }
   ],
   "source": [
    "fig, (ax1, ax2) = plt.subplots(ncols=2, figsize=(20, 20))\n",
    "\n",
    "ax1.set_title('Before Log')\n",
    "sns.kdeplot((df['attribute1']), ax=ax1)\n",
    "sns.kdeplot((df['attribute2']), ax=ax1)\n",
    "sns.kdeplot((df['attribute6']), ax=ax1)\n",
    "ax2.set_title('After log')\n",
    "sns.kdeplot(np.log(df['attribute1']), ax=ax2)\n",
    "sns.kdeplot(np.log(df['attribute2']), ax=ax2)\n",
    "sns.kdeplot(np.log(df['attribute6']), ax=ax2)\n",
    "plt.show()"
   ]
  },
  {
   "cell_type": "code",
   "execution_count": 20,
   "metadata": {},
   "outputs": [
    {
     "data": {
      "text/plain": [
       "<matplotlib.axes._subplots.AxesSubplot at 0x10bedd3c8>"
      ]
     },
     "execution_count": 20,
     "metadata": {},
     "output_type": "execute_result"
    },
    {
     "data": {
      "image/png": "[encoded data removed]",
      "text/plain": [
       "<matplotlib.figure.Figure at 0x1a149f29e8>"
      ]
     },
     "metadata": {},
     "output_type": "display_data"
    }
   ],
   "source": [
    "fig, ax = plt.subplots(figsize=(10, 7))\n",
    "Corr = df[df.columns].corr()\n",
    "sns.heatmap(Corr,annot=True,linewidths=0.5)"
   ]
  },
  {
   "cell_type": "markdown",
   "metadata": {},
   "source": [
    "attribute7 & attribute8 column are same\n",
    "\n",
    "attribute3 & attribute9 have good correlaton but its not too high"
   ]
  },
  {
   "cell_type": "code",
   "execution_count": 21,
   "metadata": {},
   "outputs": [
    {
     "data": {
      "text/plain": [
       "Text(0,0.5,'Y (Attribute3)')"
      ]
     },
     "execution_count": 21,
     "metadata": {},
     "output_type": "execute_result"
    },
    {
     "data": {
      "image/png": "[encoded data removed]",
      "text/plain": [
       "<matplotlib.figure.Figure at 0x1a146b55c0>"
      ]
     },
     "metadata": {},
     "output_type": "display_data"
    }
   ],
   "source": [
    "fig = plt.figure(figsize = (14,5))\n",
    "plt.plot(df.attribute9,df.attribute3,'o')\n",
    "plt.title(\"Relationship between attributes\")\n",
    "plt.xlabel('X (Attribute9)')\n",
    "plt.ylabel('Y (Attribute3)')"
   ]
  },
  {
   "cell_type": "code",
   "execution_count": 22,
   "metadata": {
    "collapsed": true
   },
   "outputs": [],
   "source": [
    "df1=df[df['failure']==1]"
   ]
  },
  {
   "cell_type": "code",
   "execution_count": 23,
   "metadata": {},
   "outputs": [
    {
     "data": {
      "text/plain": [
       "Text(0,0.5,'Y (Attribute3)')"
      ]
     },
     "execution_count": 23,
     "metadata": {},
     "output_type": "execute_result"
    },
    {
     "data": {
      "image/png": "[encoded data removed]",
      "text/plain": [
       "<matplotlib.figure.Figure at 0x1a14f112e8>"
      ]
     },
     "metadata": {},
     "output_type": "display_data"
    }
   ],
   "source": [
    "fig = plt.figure(figsize = (14,5))\n",
    "plt.plot(df1.attribute9,df1.attribute3,'o')\n",
    "plt.title(\"Relationship between attributes for failure\")\n",
    "plt.xlabel('X (Attribute9)')\n",
    "plt.ylabel('Y (Attribute3)')"
   ]
  },
  {
   "cell_type": "code",
   "execution_count": 24,
   "metadata": {
    "collapsed": true
   },
   "outputs": [],
   "source": [
    "df2=df[df['failure']==0]"
   ]
  },
  {
   "cell_type": "code",
   "execution_count": 25,
   "metadata": {},
   "outputs": [
    {
     "data": {
      "text/plain": [
       "Text(0,0.5,'Y (Attribute3)')"
      ]
     },
     "execution_count": 25,
     "metadata": {},
     "output_type": "execute_result"
    },
    {
     "data": {
      "image/png": "[encoded data removed]",
      "text/plain": [
       "<matplotlib.figure.Figure at 0x1a14f09128>"
      ]
     },
     "metadata": {},
     "output_type": "display_data"
    }
   ],
   "source": [
    "fig = plt.figure(figsize = (14,5))\n",
    "plt.plot(df2.attribute9,df2.attribute3,'o')\n",
    "plt.title(\"Relationship between attributes for failure\")\n",
    "plt.xlabel('X (Attribute9)')\n",
    "plt.ylabel('Y (Attribute3)')"
   ]
  },
  {
   "cell_type": "markdown",
   "metadata": {},
   "source": [
    "Convert date to datetime format & extract number of woring days for machine till installation"
   ]
  },
  {
   "cell_type": "code",
   "execution_count": 27,
   "metadata": {
    "collapsed": true
   },
   "outputs": [],
   "source": [
    "#df['day']=df['date'].apply(lambda x: x.strftime('%d'))\n",
    "#df['month']=df['date'].apply(lambda x: x.strftime('%m'))\n",
    "#df['year']=df['date'].apply(lambda x: x.strftime('%Y'))\n",
    "\n",
    "#df['day']=df['day'].astype('int')\n",
    "#df['month']=df['month'].astype('int')\n",
    "#df['year']=df['year'].astype('int')"
   ]
  },
  {
   "cell_type": "code",
   "execution_count": 28,
   "metadata": {
    "collapsed": true
   },
   "outputs": [],
   "source": [
    "df['date'] = pd.to_datetime(df['date'])"
   ]
  },
  {
   "cell_type": "code",
   "execution_count": 29,
   "metadata": {
    "collapsed": true
   },
   "outputs": [],
   "source": [
    "df['work_days']=df.groupby('device')['date'].rank(method='dense')"
   ]
  },
  {
   "cell_type": "code",
   "execution_count": 96,
   "metadata": {},
   "outputs": [
    {
     "data": {
      "text/html": [
       "<div>\n",
       "<style>\n",
       "    .dataframe thead tr:only-child th {\n",
       "        text-align: right;\n",
       "    }\n",
       "\n",
       "    .dataframe thead th {\n",
       "        text-align: left;\n",
       "    }\n",
       "\n",
       "    .dataframe tbody tr th {\n",
       "        vertical-align: top;\n",
       "    }\n",
       "</style>\n",
       "<table border=\"1\" class=\"dataframe\">\n",
       "  <thead>\n",
       "    <tr style=\"text-align: right;\">\n",
       "      <th></th>\n",
       "      <th>date</th>\n",
       "      <th>device</th>\n",
       "      <th>failure</th>\n",
       "      <th>attribute1</th>\n",
       "      <th>attribute2</th>\n",
       "      <th>attribute3</th>\n",
       "      <th>attribute4</th>\n",
       "      <th>attribute5</th>\n",
       "      <th>attribute6</th>\n",
       "      <th>attribute7</th>\n",
       "      <th>attribute8</th>\n",
       "      <th>attribute9</th>\n",
       "      <th>work_days</th>\n",
       "    </tr>\n",
       "  </thead>\n",
       "  <tbody>\n",
       "    <tr>\n",
       "      <th>124444</th>\n",
       "      <td>2015-10-31</td>\n",
       "      <td>W1F05X69</td>\n",
       "      <td>0</td>\n",
       "      <td>154942192</td>\n",
       "      <td>0</td>\n",
       "      <td>0</td>\n",
       "      <td>2</td>\n",
       "      <td>5</td>\n",
       "      <td>348867</td>\n",
       "      <td>0</td>\n",
       "      <td>0</td>\n",
       "      <td>4</td>\n",
       "      <td>303.0</td>\n",
       "    </tr>\n",
       "    <tr>\n",
       "      <th>124445</th>\n",
       "      <td>2015-10-31</td>\n",
       "      <td>W1F0FEH7</td>\n",
       "      <td>0</td>\n",
       "      <td>137545632</td>\n",
       "      <td>0</td>\n",
       "      <td>0</td>\n",
       "      <td>0</td>\n",
       "      <td>12</td>\n",
       "      <td>357925</td>\n",
       "      <td>0</td>\n",
       "      <td>0</td>\n",
       "      <td>0</td>\n",
       "      <td>303.0</td>\n",
       "    </tr>\n",
       "    <tr>\n",
       "      <th>124446</th>\n",
       "      <td>2015-10-31</td>\n",
       "      <td>W1F0FY92</td>\n",
       "      <td>0</td>\n",
       "      <td>81032808</td>\n",
       "      <td>0</td>\n",
       "      <td>1</td>\n",
       "      <td>6</td>\n",
       "      <td>15</td>\n",
       "      <td>353661</td>\n",
       "      <td>0</td>\n",
       "      <td>0</td>\n",
       "      <td>1</td>\n",
       "      <td>303.0</td>\n",
       "    </tr>\n",
       "    <tr>\n",
       "      <th>124447</th>\n",
       "      <td>2015-10-31</td>\n",
       "      <td>W1F0FZPA</td>\n",
       "      <td>0</td>\n",
       "      <td>106998760</td>\n",
       "      <td>0</td>\n",
       "      <td>0</td>\n",
       "      <td>0</td>\n",
       "      <td>15</td>\n",
       "      <td>353321</td>\n",
       "      <td>0</td>\n",
       "      <td>0</td>\n",
       "      <td>0</td>\n",
       "      <td>303.0</td>\n",
       "    </tr>\n",
       "    <tr>\n",
       "      <th>124448</th>\n",
       "      <td>2015-10-31</td>\n",
       "      <td>W1F0G9T7</td>\n",
       "      <td>0</td>\n",
       "      <td>5600008</td>\n",
       "      <td>0</td>\n",
       "      <td>0</td>\n",
       "      <td>0</td>\n",
       "      <td>13</td>\n",
       "      <td>352805</td>\n",
       "      <td>104</td>\n",
       "      <td>104</td>\n",
       "      <td>2</td>\n",
       "      <td>303.0</td>\n",
       "    </tr>\n",
       "    <tr>\n",
       "      <th>124449</th>\n",
       "      <td>2015-10-31</td>\n",
       "      <td>W1F0JH87</td>\n",
       "      <td>0</td>\n",
       "      <td>213846176</td>\n",
       "      <td>0</td>\n",
       "      <td>4</td>\n",
       "      <td>0</td>\n",
       "      <td>11</td>\n",
       "      <td>352551</td>\n",
       "      <td>0</td>\n",
       "      <td>0</td>\n",
       "      <td>0</td>\n",
       "      <td>303.0</td>\n",
       "    </tr>\n",
       "    <tr>\n",
       "      <th>124450</th>\n",
       "      <td>2015-10-31</td>\n",
       "      <td>W1F0JXDL</td>\n",
       "      <td>0</td>\n",
       "      <td>33975240</td>\n",
       "      <td>160</td>\n",
       "      <td>0</td>\n",
       "      <td>0</td>\n",
       "      <td>10</td>\n",
       "      <td>354969</td>\n",
       "      <td>0</td>\n",
       "      <td>0</td>\n",
       "      <td>0</td>\n",
       "      <td>303.0</td>\n",
       "    </tr>\n",
       "    <tr>\n",
       "      <th>124451</th>\n",
       "      <td>2015-10-31</td>\n",
       "      <td>W1F0JY02</td>\n",
       "      <td>0</td>\n",
       "      <td>1401232</td>\n",
       "      <td>0</td>\n",
       "      <td>0</td>\n",
       "      <td>0</td>\n",
       "      <td>8</td>\n",
       "      <td>350759</td>\n",
       "      <td>0</td>\n",
       "      <td>0</td>\n",
       "      <td>0</td>\n",
       "      <td>303.0</td>\n",
       "    </tr>\n",
       "    <tr>\n",
       "      <th>124452</th>\n",
       "      <td>2015-10-31</td>\n",
       "      <td>W1F0N84F</td>\n",
       "      <td>0</td>\n",
       "      <td>74954920</td>\n",
       "      <td>0</td>\n",
       "      <td>0</td>\n",
       "      <td>0</td>\n",
       "      <td>8</td>\n",
       "      <td>401101</td>\n",
       "      <td>0</td>\n",
       "      <td>0</td>\n",
       "      <td>1</td>\n",
       "      <td>275.0</td>\n",
       "    </tr>\n",
       "    <tr>\n",
       "      <th>124453</th>\n",
       "      <td>2015-10-31</td>\n",
       "      <td>W1F0SJJ2</td>\n",
       "      <td>0</td>\n",
       "      <td>144542632</td>\n",
       "      <td>0</td>\n",
       "      <td>0</td>\n",
       "      <td>0</td>\n",
       "      <td>12</td>\n",
       "      <td>355333</td>\n",
       "      <td>0</td>\n",
       "      <td>0</td>\n",
       "      <td>0</td>\n",
       "      <td>303.0</td>\n",
       "    </tr>\n",
       "    <tr>\n",
       "      <th>124454</th>\n",
       "      <td>2015-10-31</td>\n",
       "      <td>Z1F0GB8A</td>\n",
       "      <td>0</td>\n",
       "      <td>170308872</td>\n",
       "      <td>0</td>\n",
       "      <td>0</td>\n",
       "      <td>0</td>\n",
       "      <td>9</td>\n",
       "      <td>355070</td>\n",
       "      <td>0</td>\n",
       "      <td>0</td>\n",
       "      <td>0</td>\n",
       "      <td>303.0</td>\n",
       "    </tr>\n",
       "    <tr>\n",
       "      <th>124455</th>\n",
       "      <td>2015-10-31</td>\n",
       "      <td>Z1F0GE1M</td>\n",
       "      <td>0</td>\n",
       "      <td>235777792</td>\n",
       "      <td>0</td>\n",
       "      <td>0</td>\n",
       "      <td>0</td>\n",
       "      <td>10</td>\n",
       "      <td>349229</td>\n",
       "      <td>0</td>\n",
       "      <td>0</td>\n",
       "      <td>0</td>\n",
       "      <td>303.0</td>\n",
       "    </tr>\n",
       "    <tr>\n",
       "      <th>124456</th>\n",
       "      <td>2015-10-31</td>\n",
       "      <td>Z1F0KJDS</td>\n",
       "      <td>0</td>\n",
       "      <td>161935008</td>\n",
       "      <td>0</td>\n",
       "      <td>0</td>\n",
       "      <td>0</td>\n",
       "      <td>11</td>\n",
       "      <td>355984</td>\n",
       "      <td>0</td>\n",
       "      <td>0</td>\n",
       "      <td>0</td>\n",
       "      <td>303.0</td>\n",
       "    </tr>\n",
       "    <tr>\n",
       "      <th>124457</th>\n",
       "      <td>2015-10-31</td>\n",
       "      <td>Z1F0KKN4</td>\n",
       "      <td>0</td>\n",
       "      <td>171609168</td>\n",
       "      <td>0</td>\n",
       "      <td>0</td>\n",
       "      <td>0</td>\n",
       "      <td>9</td>\n",
       "      <td>350844</td>\n",
       "      <td>0</td>\n",
       "      <td>0</td>\n",
       "      <td>0</td>\n",
       "      <td>303.0</td>\n",
       "    </tr>\n",
       "    <tr>\n",
       "      <th>124458</th>\n",
       "      <td>2015-10-31</td>\n",
       "      <td>Z1F0MA1S</td>\n",
       "      <td>0</td>\n",
       "      <td>184310392</td>\n",
       "      <td>0</td>\n",
       "      <td>0</td>\n",
       "      <td>0</td>\n",
       "      <td>10</td>\n",
       "      <td>353052</td>\n",
       "      <td>0</td>\n",
       "      <td>0</td>\n",
       "      <td>0</td>\n",
       "      <td>303.0</td>\n",
       "    </tr>\n",
       "    <tr>\n",
       "      <th>124459</th>\n",
       "      <td>2015-10-31</td>\n",
       "      <td>Z1F0Q8RT</td>\n",
       "      <td>0</td>\n",
       "      <td>184353576</td>\n",
       "      <td>96</td>\n",
       "      <td>107</td>\n",
       "      <td>4</td>\n",
       "      <td>11</td>\n",
       "      <td>332166</td>\n",
       "      <td>0</td>\n",
       "      <td>0</td>\n",
       "      <td>13</td>\n",
       "      <td>303.0</td>\n",
       "    </tr>\n",
       "    <tr>\n",
       "      <th>124460</th>\n",
       "      <td>2015-10-31</td>\n",
       "      <td>Z1F0QK05</td>\n",
       "      <td>0</td>\n",
       "      <td>30912880</td>\n",
       "      <td>4832</td>\n",
       "      <td>0</td>\n",
       "      <td>0</td>\n",
       "      <td>11</td>\n",
       "      <td>349802</td>\n",
       "      <td>0</td>\n",
       "      <td>0</td>\n",
       "      <td>0</td>\n",
       "      <td>303.0</td>\n",
       "    </tr>\n",
       "    <tr>\n",
       "      <th>124461</th>\n",
       "      <td>2015-10-31</td>\n",
       "      <td>Z1F0QL3N</td>\n",
       "      <td>0</td>\n",
       "      <td>62018104</td>\n",
       "      <td>0</td>\n",
       "      <td>0</td>\n",
       "      <td>0</td>\n",
       "      <td>12</td>\n",
       "      <td>356937</td>\n",
       "      <td>0</td>\n",
       "      <td>0</td>\n",
       "      <td>0</td>\n",
       "      <td>303.0</td>\n",
       "    </tr>\n",
       "    <tr>\n",
       "      <th>124462</th>\n",
       "      <td>2015-10-31</td>\n",
       "      <td>Z1F0QLC1</td>\n",
       "      <td>0</td>\n",
       "      <td>32117368</td>\n",
       "      <td>0</td>\n",
       "      <td>0</td>\n",
       "      <td>0</td>\n",
       "      <td>10</td>\n",
       "      <td>350840</td>\n",
       "      <td>0</td>\n",
       "      <td>0</td>\n",
       "      <td>0</td>\n",
       "      <td>303.0</td>\n",
       "    </tr>\n",
       "    <tr>\n",
       "      <th>124463</th>\n",
       "      <td>2015-11-02</td>\n",
       "      <td>S1F0E9EP</td>\n",
       "      <td>0</td>\n",
       "      <td>205465736</td>\n",
       "      <td>0</td>\n",
       "      <td>0</td>\n",
       "      <td>12</td>\n",
       "      <td>11</td>\n",
       "      <td>353337</td>\n",
       "      <td>0</td>\n",
       "      <td>0</td>\n",
       "      <td>0</td>\n",
       "      <td>304.0</td>\n",
       "    </tr>\n",
       "    <tr>\n",
       "      <th>124464</th>\n",
       "      <td>2015-11-02</td>\n",
       "      <td>S1F0EGMT</td>\n",
       "      <td>0</td>\n",
       "      <td>159867281</td>\n",
       "      <td>0</td>\n",
       "      <td>0</td>\n",
       "      <td>13</td>\n",
       "      <td>11</td>\n",
       "      <td>347165</td>\n",
       "      <td>32</td>\n",
       "      <td>32</td>\n",
       "      <td>0</td>\n",
       "      <td>304.0</td>\n",
       "    </tr>\n",
       "    <tr>\n",
       "      <th>124465</th>\n",
       "      <td>2015-11-02</td>\n",
       "      <td>S1F0FGBQ</td>\n",
       "      <td>0</td>\n",
       "      <td>198816136</td>\n",
       "      <td>0</td>\n",
       "      <td>0</td>\n",
       "      <td>0</td>\n",
       "      <td>12</td>\n",
       "      <td>309988</td>\n",
       "      <td>0</td>\n",
       "      <td>0</td>\n",
       "      <td>0</td>\n",
       "      <td>304.0</td>\n",
       "    </tr>\n",
       "    <tr>\n",
       "      <th>124466</th>\n",
       "      <td>2015-11-02</td>\n",
       "      <td>S1F0FP0C</td>\n",
       "      <td>0</td>\n",
       "      <td>179176160</td>\n",
       "      <td>0</td>\n",
       "      <td>0</td>\n",
       "      <td>0</td>\n",
       "      <td>12</td>\n",
       "      <td>356892</td>\n",
       "      <td>0</td>\n",
       "      <td>0</td>\n",
       "      <td>0</td>\n",
       "      <td>304.0</td>\n",
       "    </tr>\n",
       "    <tr>\n",
       "      <th>124467</th>\n",
       "      <td>2015-11-02</td>\n",
       "      <td>S1F0GCED</td>\n",
       "      <td>0</td>\n",
       "      <td>94904784</td>\n",
       "      <td>64792</td>\n",
       "      <td>0</td>\n",
       "      <td>7</td>\n",
       "      <td>11</td>\n",
       "      <td>341541</td>\n",
       "      <td>0</td>\n",
       "      <td>0</td>\n",
       "      <td>0</td>\n",
       "      <td>304.0</td>\n",
       "    </tr>\n",
       "    <tr>\n",
       "      <th>124468</th>\n",
       "      <td>2015-11-02</td>\n",
       "      <td>S1F0GGPP</td>\n",
       "      <td>0</td>\n",
       "      <td>183027976</td>\n",
       "      <td>0</td>\n",
       "      <td>2112</td>\n",
       "      <td>0</td>\n",
       "      <td>12</td>\n",
       "      <td>362350</td>\n",
       "      <td>0</td>\n",
       "      <td>0</td>\n",
       "      <td>0</td>\n",
       "      <td>304.0</td>\n",
       "    </tr>\n",
       "    <tr>\n",
       "      <th>124469</th>\n",
       "      <td>2015-11-02</td>\n",
       "      <td>S1F0GPXY</td>\n",
       "      <td>0</td>\n",
       "      <td>100353624</td>\n",
       "      <td>0</td>\n",
       "      <td>0</td>\n",
       "      <td>0</td>\n",
       "      <td>11</td>\n",
       "      <td>352831</td>\n",
       "      <td>0</td>\n",
       "      <td>0</td>\n",
       "      <td>10</td>\n",
       "      <td>304.0</td>\n",
       "    </tr>\n",
       "    <tr>\n",
       "      <th>124470</th>\n",
       "      <td>2015-11-02</td>\n",
       "      <td>S1F0H6JG</td>\n",
       "      <td>0</td>\n",
       "      <td>159855344</td>\n",
       "      <td>0</td>\n",
       "      <td>0</td>\n",
       "      <td>0</td>\n",
       "      <td>10</td>\n",
       "      <td>345928</td>\n",
       "      <td>0</td>\n",
       "      <td>0</td>\n",
       "      <td>0</td>\n",
       "      <td>304.0</td>\n",
       "    </tr>\n",
       "    <tr>\n",
       "      <th>124471</th>\n",
       "      <td>2015-11-02</td>\n",
       "      <td>S1F0KYCR</td>\n",
       "      <td>0</td>\n",
       "      <td>123741008</td>\n",
       "      <td>0</td>\n",
       "      <td>0</td>\n",
       "      <td>0</td>\n",
       "      <td>12</td>\n",
       "      <td>354413</td>\n",
       "      <td>0</td>\n",
       "      <td>0</td>\n",
       "      <td>0</td>\n",
       "      <td>304.0</td>\n",
       "    </tr>\n",
       "    <tr>\n",
       "      <th>124472</th>\n",
       "      <td>2015-11-02</td>\n",
       "      <td>S1F0S561</td>\n",
       "      <td>0</td>\n",
       "      <td>73661456</td>\n",
       "      <td>0</td>\n",
       "      <td>0</td>\n",
       "      <td>0</td>\n",
       "      <td>16</td>\n",
       "      <td>351675</td>\n",
       "      <td>0</td>\n",
       "      <td>0</td>\n",
       "      <td>0</td>\n",
       "      <td>190.0</td>\n",
       "    </tr>\n",
       "    <tr>\n",
       "      <th>124473</th>\n",
       "      <td>2015-11-02</td>\n",
       "      <td>S1F10HH5</td>\n",
       "      <td>0</td>\n",
       "      <td>42128776</td>\n",
       "      <td>0</td>\n",
       "      <td>0</td>\n",
       "      <td>0</td>\n",
       "      <td>12</td>\n",
       "      <td>484090</td>\n",
       "      <td>0</td>\n",
       "      <td>0</td>\n",
       "      <td>0</td>\n",
       "      <td>180.0</td>\n",
       "    </tr>\n",
       "    <tr>\n",
       "      <th>124474</th>\n",
       "      <td>2015-11-02</td>\n",
       "      <td>S1F10RWZ</td>\n",
       "      <td>0</td>\n",
       "      <td>146729096</td>\n",
       "      <td>0</td>\n",
       "      <td>0</td>\n",
       "      <td>0</td>\n",
       "      <td>15</td>\n",
       "      <td>358307</td>\n",
       "      <td>0</td>\n",
       "      <td>0</td>\n",
       "      <td>0</td>\n",
       "      <td>238.0</td>\n",
       "    </tr>\n",
       "    <tr>\n",
       "      <th>124475</th>\n",
       "      <td>2015-11-02</td>\n",
       "      <td>W1F05X69</td>\n",
       "      <td>0</td>\n",
       "      <td>201954496</td>\n",
       "      <td>0</td>\n",
       "      <td>0</td>\n",
       "      <td>2</td>\n",
       "      <td>5</td>\n",
       "      <td>351522</td>\n",
       "      <td>0</td>\n",
       "      <td>0</td>\n",
       "      <td>4</td>\n",
       "      <td>304.0</td>\n",
       "    </tr>\n",
       "    <tr>\n",
       "      <th>124476</th>\n",
       "      <td>2015-11-02</td>\n",
       "      <td>W1F0FEH7</td>\n",
       "      <td>0</td>\n",
       "      <td>54054848</td>\n",
       "      <td>0</td>\n",
       "      <td>0</td>\n",
       "      <td>0</td>\n",
       "      <td>12</td>\n",
       "      <td>360054</td>\n",
       "      <td>0</td>\n",
       "      <td>0</td>\n",
       "      <td>0</td>\n",
       "      <td>304.0</td>\n",
       "    </tr>\n",
       "    <tr>\n",
       "      <th>124477</th>\n",
       "      <td>2015-11-02</td>\n",
       "      <td>W1F0FY92</td>\n",
       "      <td>0</td>\n",
       "      <td>128174672</td>\n",
       "      <td>0</td>\n",
       "      <td>1</td>\n",
       "      <td>6</td>\n",
       "      <td>15</td>\n",
       "      <td>356320</td>\n",
       "      <td>0</td>\n",
       "      <td>0</td>\n",
       "      <td>1</td>\n",
       "      <td>304.0</td>\n",
       "    </tr>\n",
       "    <tr>\n",
       "      <th>124478</th>\n",
       "      <td>2015-11-02</td>\n",
       "      <td>W1F0FZPA</td>\n",
       "      <td>0</td>\n",
       "      <td>91318232</td>\n",
       "      <td>0</td>\n",
       "      <td>0</td>\n",
       "      <td>0</td>\n",
       "      <td>15</td>\n",
       "      <td>353974</td>\n",
       "      <td>0</td>\n",
       "      <td>0</td>\n",
       "      <td>0</td>\n",
       "      <td>304.0</td>\n",
       "    </tr>\n",
       "    <tr>\n",
       "      <th>124479</th>\n",
       "      <td>2015-11-02</td>\n",
       "      <td>W1F0G9T7</td>\n",
       "      <td>0</td>\n",
       "      <td>159174456</td>\n",
       "      <td>0</td>\n",
       "      <td>0</td>\n",
       "      <td>0</td>\n",
       "      <td>13</td>\n",
       "      <td>354826</td>\n",
       "      <td>104</td>\n",
       "      <td>104</td>\n",
       "      <td>2</td>\n",
       "      <td>304.0</td>\n",
       "    </tr>\n",
       "    <tr>\n",
       "      <th>124480</th>\n",
       "      <td>2015-11-02</td>\n",
       "      <td>W1F0JH87</td>\n",
       "      <td>0</td>\n",
       "      <td>130553176</td>\n",
       "      <td>0</td>\n",
       "      <td>4</td>\n",
       "      <td>0</td>\n",
       "      <td>11</td>\n",
       "      <td>354600</td>\n",
       "      <td>0</td>\n",
       "      <td>0</td>\n",
       "      <td>0</td>\n",
       "      <td>304.0</td>\n",
       "    </tr>\n",
       "    <tr>\n",
       "      <th>124481</th>\n",
       "      <td>2015-11-02</td>\n",
       "      <td>W1F0JXDL</td>\n",
       "      <td>0</td>\n",
       "      <td>80454336</td>\n",
       "      <td>160</td>\n",
       "      <td>0</td>\n",
       "      <td>0</td>\n",
       "      <td>10</td>\n",
       "      <td>357655</td>\n",
       "      <td>0</td>\n",
       "      <td>0</td>\n",
       "      <td>0</td>\n",
       "      <td>304.0</td>\n",
       "    </tr>\n",
       "    <tr>\n",
       "      <th>124482</th>\n",
       "      <td>2015-11-02</td>\n",
       "      <td>W1F0JY02</td>\n",
       "      <td>0</td>\n",
       "      <td>226850672</td>\n",
       "      <td>0</td>\n",
       "      <td>0</td>\n",
       "      <td>0</td>\n",
       "      <td>8</td>\n",
       "      <td>351379</td>\n",
       "      <td>0</td>\n",
       "      <td>0</td>\n",
       "      <td>0</td>\n",
       "      <td>304.0</td>\n",
       "    </tr>\n",
       "    <tr>\n",
       "      <th>124483</th>\n",
       "      <td>2015-11-02</td>\n",
       "      <td>W1F0N84F</td>\n",
       "      <td>0</td>\n",
       "      <td>230641240</td>\n",
       "      <td>0</td>\n",
       "      <td>0</td>\n",
       "      <td>0</td>\n",
       "      <td>8</td>\n",
       "      <td>403165</td>\n",
       "      <td>0</td>\n",
       "      <td>0</td>\n",
       "      <td>1</td>\n",
       "      <td>276.0</td>\n",
       "    </tr>\n",
       "    <tr>\n",
       "      <th>124484</th>\n",
       "      <td>2015-11-02</td>\n",
       "      <td>W1F0SJJ2</td>\n",
       "      <td>0</td>\n",
       "      <td>47525320</td>\n",
       "      <td>0</td>\n",
       "      <td>0</td>\n",
       "      <td>0</td>\n",
       "      <td>12</td>\n",
       "      <td>357421</td>\n",
       "      <td>0</td>\n",
       "      <td>0</td>\n",
       "      <td>0</td>\n",
       "      <td>304.0</td>\n",
       "    </tr>\n",
       "    <tr>\n",
       "      <th>124485</th>\n",
       "      <td>2015-11-02</td>\n",
       "      <td>Z1F0GB8A</td>\n",
       "      <td>0</td>\n",
       "      <td>92823192</td>\n",
       "      <td>0</td>\n",
       "      <td>0</td>\n",
       "      <td>0</td>\n",
       "      <td>9</td>\n",
       "      <td>357127</td>\n",
       "      <td>0</td>\n",
       "      <td>0</td>\n",
       "      <td>0</td>\n",
       "      <td>304.0</td>\n",
       "    </tr>\n",
       "    <tr>\n",
       "      <th>124486</th>\n",
       "      <td>2015-11-02</td>\n",
       "      <td>Z1F0GE1M</td>\n",
       "      <td>0</td>\n",
       "      <td>222878704</td>\n",
       "      <td>0</td>\n",
       "      <td>0</td>\n",
       "      <td>0</td>\n",
       "      <td>10</td>\n",
       "      <td>349826</td>\n",
       "      <td>0</td>\n",
       "      <td>0</td>\n",
       "      <td>0</td>\n",
       "      <td>304.0</td>\n",
       "    </tr>\n",
       "    <tr>\n",
       "      <th>124487</th>\n",
       "      <td>2015-11-02</td>\n",
       "      <td>Z1F0KJDS</td>\n",
       "      <td>0</td>\n",
       "      <td>79883648</td>\n",
       "      <td>0</td>\n",
       "      <td>0</td>\n",
       "      <td>0</td>\n",
       "      <td>11</td>\n",
       "      <td>358121</td>\n",
       "      <td>0</td>\n",
       "      <td>0</td>\n",
       "      <td>0</td>\n",
       "      <td>304.0</td>\n",
       "    </tr>\n",
       "    <tr>\n",
       "      <th>124488</th>\n",
       "      <td>2015-11-02</td>\n",
       "      <td>Z1F0KKN4</td>\n",
       "      <td>0</td>\n",
       "      <td>218765712</td>\n",
       "      <td>0</td>\n",
       "      <td>0</td>\n",
       "      <td>0</td>\n",
       "      <td>9</td>\n",
       "      <td>353525</td>\n",
       "      <td>0</td>\n",
       "      <td>0</td>\n",
       "      <td>0</td>\n",
       "      <td>304.0</td>\n",
       "    </tr>\n",
       "    <tr>\n",
       "      <th>124489</th>\n",
       "      <td>2015-11-02</td>\n",
       "      <td>Z1F0MA1S</td>\n",
       "      <td>0</td>\n",
       "      <td>18310224</td>\n",
       "      <td>0</td>\n",
       "      <td>0</td>\n",
       "      <td>0</td>\n",
       "      <td>10</td>\n",
       "      <td>353705</td>\n",
       "      <td>8</td>\n",
       "      <td>8</td>\n",
       "      <td>0</td>\n",
       "      <td>304.0</td>\n",
       "    </tr>\n",
       "    <tr>\n",
       "      <th>124490</th>\n",
       "      <td>2015-11-02</td>\n",
       "      <td>Z1F0Q8RT</td>\n",
       "      <td>0</td>\n",
       "      <td>172556680</td>\n",
       "      <td>96</td>\n",
       "      <td>107</td>\n",
       "      <td>4</td>\n",
       "      <td>11</td>\n",
       "      <td>332792</td>\n",
       "      <td>0</td>\n",
       "      <td>0</td>\n",
       "      <td>13</td>\n",
       "      <td>304.0</td>\n",
       "    </tr>\n",
       "    <tr>\n",
       "      <th>124491</th>\n",
       "      <td>2015-11-02</td>\n",
       "      <td>Z1F0QK05</td>\n",
       "      <td>0</td>\n",
       "      <td>19029120</td>\n",
       "      <td>4832</td>\n",
       "      <td>0</td>\n",
       "      <td>0</td>\n",
       "      <td>11</td>\n",
       "      <td>350410</td>\n",
       "      <td>0</td>\n",
       "      <td>0</td>\n",
       "      <td>0</td>\n",
       "      <td>304.0</td>\n",
       "    </tr>\n",
       "    <tr>\n",
       "      <th>124492</th>\n",
       "      <td>2015-11-02</td>\n",
       "      <td>Z1F0QL3N</td>\n",
       "      <td>0</td>\n",
       "      <td>226953408</td>\n",
       "      <td>0</td>\n",
       "      <td>0</td>\n",
       "      <td>0</td>\n",
       "      <td>12</td>\n",
       "      <td>358980</td>\n",
       "      <td>0</td>\n",
       "      <td>0</td>\n",
       "      <td>0</td>\n",
       "      <td>304.0</td>\n",
       "    </tr>\n",
       "    <tr>\n",
       "      <th>124493</th>\n",
       "      <td>2015-11-02</td>\n",
       "      <td>Z1F0QLC1</td>\n",
       "      <td>0</td>\n",
       "      <td>17572840</td>\n",
       "      <td>0</td>\n",
       "      <td>0</td>\n",
       "      <td>0</td>\n",
       "      <td>10</td>\n",
       "      <td>351431</td>\n",
       "      <td>0</td>\n",
       "      <td>0</td>\n",
       "      <td>0</td>\n",
       "      <td>304.0</td>\n",
       "    </tr>\n",
       "  </tbody>\n",
       "</table>\n",
       "</div>"
      ],
      "text/plain": [
       "             date    device  failure  attribute1  attribute2  attribute3  \\\n",
       "124444 2015-10-31  W1F05X69        0   154942192           0           0   \n",
       "124445 2015-10-31  W1F0FEH7        0   137545632           0           0   \n",
       "124446 2015-10-31  W1F0FY92        0    81032808           0           1   \n",
       "124447 2015-10-31  W1F0FZPA        0   106998760           0           0   \n",
       "124448 2015-10-31  W1F0G9T7        0     5600008           0           0   \n",
       "124449 2015-10-31  W1F0JH87        0   213846176           0           4   \n",
       "124450 2015-10-31  W1F0JXDL        0    33975240         160           0   \n",
       "124451 2015-10-31  W1F0JY02        0     1401232           0           0   \n",
       "124452 2015-10-31  W1F0N84F        0    74954920           0           0   \n",
       "124453 2015-10-31  W1F0SJJ2        0   144542632           0           0   \n",
       "124454 2015-10-31  Z1F0GB8A        0   170308872           0           0   \n",
       "124455 2015-10-31  Z1F0GE1M        0   235777792           0           0   \n",
       "124456 2015-10-31  Z1F0KJDS        0   161935008           0           0   \n",
       "124457 2015-10-31  Z1F0KKN4        0   171609168           0           0   \n",
       "124458 2015-10-31  Z1F0MA1S        0   184310392           0           0   \n",
       "124459 2015-10-31  Z1F0Q8RT        0   184353576          96         107   \n",
       "124460 2015-10-31  Z1F0QK05        0    30912880        4832           0   \n",
       "124461 2015-10-31  Z1F0QL3N        0    62018104           0           0   \n",
       "124462 2015-10-31  Z1F0QLC1        0    32117368           0           0   \n",
       "124463 2015-11-02  S1F0E9EP        0   205465736           0           0   \n",
       "124464 2015-11-02  S1F0EGMT        0   159867281           0           0   \n",
       "124465 2015-11-02  S1F0FGBQ        0   198816136           0           0   \n",
       "124466 2015-11-02  S1F0FP0C        0   179176160           0           0   \n",
       "124467 2015-11-02  S1F0GCED        0    94904784       64792           0   \n",
       "124468 2015-11-02  S1F0GGPP        0   183027976           0        2112   \n",
       "124469 2015-11-02  S1F0GPXY        0   100353624           0           0   \n",
       "124470 2015-11-02  S1F0H6JG        0   159855344           0           0   \n",
       "124471 2015-11-02  S1F0KYCR        0   123741008           0           0   \n",
       "124472 2015-11-02  S1F0S561        0    73661456           0           0   \n",
       "124473 2015-11-02  S1F10HH5        0    42128776           0           0   \n",
       "124474 2015-11-02  S1F10RWZ        0   146729096           0           0   \n",
       "124475 2015-11-02  W1F05X69        0   201954496           0           0   \n",
       "124476 2015-11-02  W1F0FEH7        0    54054848           0           0   \n",
       "124477 2015-11-02  W1F0FY92        0   128174672           0           1   \n",
       "124478 2015-11-02  W1F0FZPA        0    91318232           0           0   \n",
       "124479 2015-11-02  W1F0G9T7        0   159174456           0           0   \n",
       "124480 2015-11-02  W1F0JH87        0   130553176           0           4   \n",
       "124481 2015-11-02  W1F0JXDL        0    80454336         160           0   \n",
       "124482 2015-11-02  W1F0JY02        0   226850672           0           0   \n",
       "124483 2015-11-02  W1F0N84F        0   230641240           0           0   \n",
       "124484 2015-11-02  W1F0SJJ2        0    47525320           0           0   \n",
       "124485 2015-11-02  Z1F0GB8A        0    92823192           0           0   \n",
       "124486 2015-11-02  Z1F0GE1M        0   222878704           0           0   \n",
       "124487 2015-11-02  Z1F0KJDS        0    79883648           0           0   \n",
       "124488 2015-11-02  Z1F0KKN4        0   218765712           0           0   \n",
       "124489 2015-11-02  Z1F0MA1S        0    18310224           0           0   \n",
       "124490 2015-11-02  Z1F0Q8RT        0   172556680          96         107   \n",
       "124491 2015-11-02  Z1F0QK05        0    19029120        4832           0   \n",
       "124492 2015-11-02  Z1F0QL3N        0   226953408           0           0   \n",
       "124493 2015-11-02  Z1F0QLC1        0    17572840           0           0   \n",
       "\n",
       "        attribute4  attribute5  attribute6  attribute7  attribute8  \\\n",
       "124444           2           5      348867           0           0   \n",
       "124445           0          12      357925           0           0   \n",
       "124446           6          15      353661           0           0   \n",
       "124447           0          15      353321           0           0   \n",
       "124448           0          13      352805         104         104   \n",
       "124449           0          11      352551           0           0   \n",
       "124450           0          10      354969           0           0   \n",
       "124451           0           8      350759           0           0   \n",
       "124452           0           8      401101           0           0   \n",
       "124453           0          12      355333           0           0   \n",
       "124454           0           9      355070           0           0   \n",
       "124455           0          10      349229           0           0   \n",
       "124456           0          11      355984           0           0   \n",
       "124457           0           9      350844           0           0   \n",
       "124458           0          10      353052           0           0   \n",
       "124459           4          11      332166           0           0   \n",
       "124460           0          11      349802           0           0   \n",
       "124461           0          12      356937           0           0   \n",
       "124462           0          10      350840           0           0   \n",
       "124463          12          11      353337           0           0   \n",
       "124464          13          11      347165          32          32   \n",
       "124465           0          12      309988           0           0   \n",
       "124466           0          12      356892           0           0   \n",
       "124467           7          11      341541           0           0   \n",
       "124468           0          12      362350           0           0   \n",
       "124469           0          11      352831           0           0   \n",
       "124470           0          10      345928           0           0   \n",
       "124471           0          12      354413           0           0   \n",
       "124472           0          16      351675           0           0   \n",
       "124473           0          12      484090           0           0   \n",
       "124474           0          15      358307           0           0   \n",
       "124475           2           5      351522           0           0   \n",
       "124476           0          12      360054           0           0   \n",
       "124477           6          15      356320           0           0   \n",
       "124478           0          15      353974           0           0   \n",
       "124479           0          13      354826         104         104   \n",
       "124480           0          11      354600           0           0   \n",
       "124481           0          10      357655           0           0   \n",
       "124482           0           8      351379           0           0   \n",
       "124483           0           8      403165           0           0   \n",
       "124484           0          12      357421           0           0   \n",
       "124485           0           9      357127           0           0   \n",
       "124486           0          10      349826           0           0   \n",
       "124487           0          11      358121           0           0   \n",
       "124488           0           9      353525           0           0   \n",
       "124489           0          10      353705           8           8   \n",
       "124490           4          11      332792           0           0   \n",
       "124491           0          11      350410           0           0   \n",
       "124492           0          12      358980           0           0   \n",
       "124493           0          10      351431           0           0   \n",
       "\n",
       "        attribute9  work_days  \n",
       "124444           4      303.0  \n",
       "124445           0      303.0  \n",
       "124446           1      303.0  \n",
       "124447           0      303.0  \n",
       "124448           2      303.0  \n",
       "124449           0      303.0  \n",
       "124450           0      303.0  \n",
       "124451           0      303.0  \n",
       "124452           1      275.0  \n",
       "124453           0      303.0  \n",
       "124454           0      303.0  \n",
       "124455           0      303.0  \n",
       "124456           0      303.0  \n",
       "124457           0      303.0  \n",
       "124458           0      303.0  \n",
       "124459          13      303.0  \n",
       "124460           0      303.0  \n",
       "124461           0      303.0  \n",
       "124462           0      303.0  \n",
       "124463           0      304.0  \n",
       "124464           0      304.0  \n",
       "124465           0      304.0  \n",
       "124466           0      304.0  \n",
       "124467           0      304.0  \n",
       "124468           0      304.0  \n",
       "124469          10      304.0  \n",
       "124470           0      304.0  \n",
       "124471           0      304.0  \n",
       "124472           0      190.0  \n",
       "124473           0      180.0  \n",
       "124474           0      238.0  \n",
       "124475           4      304.0  \n",
       "124476           0      304.0  \n",
       "124477           1      304.0  \n",
       "124478           0      304.0  \n",
       "124479           2      304.0  \n",
       "124480           0      304.0  \n",
       "124481           0      304.0  \n",
       "124482           0      304.0  \n",
       "124483           1      276.0  \n",
       "124484           0      304.0  \n",
       "124485           0      304.0  \n",
       "124486           0      304.0  \n",
       "124487           0      304.0  \n",
       "124488           0      304.0  \n",
       "124489           0      304.0  \n",
       "124490          13      304.0  \n",
       "124491           0      304.0  \n",
       "124492           0      304.0  \n",
       "124493           0      304.0  "
      ]
     },
     "execution_count": 96,
     "metadata": {},
     "output_type": "execute_result"
    }
   ],
   "source": [
    "df.tail(50)"
   ]
  },
  {
   "cell_type": "code",
   "execution_count": null,
   "metadata": {
    "collapsed": true,
    "scrolled": true
   },
   "outputs": [],
   "source": [
    "#df['total_trip']=df.groupby(['device'])['work_days'].count()\n",
    "#df['total_failure']=df.groupby('device')['failure'].sum()"
   ]
  },
  {
   "cell_type": "markdown",
   "metadata": {},
   "source": [
    "# Try to reduce imbalance data"
   ]
  },
  {
   "cell_type": "code",
   "execution_count": 33,
   "metadata": {
    "collapsed": true
   },
   "outputs": [],
   "source": [
    "prep=df.groupby(['device']).max()"
   ]
  },
  {
   "cell_type": "code",
   "execution_count": 40,
   "metadata": {
    "collapsed": true,
    "scrolled": true
   },
   "outputs": [],
   "source": [
    "prep=prep.reset_index(0)"
   ]
  },
  {
   "cell_type": "code",
   "execution_count": 41,
   "metadata": {},
   "outputs": [
    {
     "data": {
      "text/html": [
       "<div>\n",
       "<style>\n",
       "    .dataframe thead tr:only-child th {\n",
       "        text-align: right;\n",
       "    }\n",
       "\n",
       "    .dataframe thead th {\n",
       "        text-align: left;\n",
       "    }\n",
       "\n",
       "    .dataframe tbody tr th {\n",
       "        vertical-align: top;\n",
       "    }\n",
       "</style>\n",
       "<table border=\"1\" class=\"dataframe\">\n",
       "  <thead>\n",
       "    <tr style=\"text-align: right;\">\n",
       "      <th></th>\n",
       "      <th>device</th>\n",
       "      <th>date</th>\n",
       "      <th>failure</th>\n",
       "      <th>attribute1</th>\n",
       "      <th>attribute2</th>\n",
       "      <th>attribute3</th>\n",
       "      <th>attribute4</th>\n",
       "      <th>attribute5</th>\n",
       "      <th>attribute6</th>\n",
       "      <th>attribute7</th>\n",
       "      <th>attribute8</th>\n",
       "      <th>attribute9</th>\n",
       "      <th>work_days</th>\n",
       "    </tr>\n",
       "  </thead>\n",
       "  <tbody>\n",
       "    <tr>\n",
       "      <th>0</th>\n",
       "      <td>S1F01085</td>\n",
       "      <td>2015-01-06</td>\n",
       "      <td>0</td>\n",
       "      <td>215630672</td>\n",
       "      <td>56</td>\n",
       "      <td>0</td>\n",
       "      <td>52</td>\n",
       "      <td>6</td>\n",
       "      <td>409404</td>\n",
       "      <td>0</td>\n",
       "      <td>0</td>\n",
       "      <td>7</td>\n",
       "      <td>6.0</td>\n",
       "    </tr>\n",
       "    <tr>\n",
       "      <th>1</th>\n",
       "      <td>S1F013BB</td>\n",
       "      <td>2015-05-11</td>\n",
       "      <td>0</td>\n",
       "      <td>243346080</td>\n",
       "      <td>0</td>\n",
       "      <td>0</td>\n",
       "      <td>0</td>\n",
       "      <td>5</td>\n",
       "      <td>689161</td>\n",
       "      <td>0</td>\n",
       "      <td>0</td>\n",
       "      <td>0</td>\n",
       "      <td>6.0</td>\n",
       "    </tr>\n",
       "    <tr>\n",
       "      <th>2</th>\n",
       "      <td>S1F0166B</td>\n",
       "      <td>2015-01-06</td>\n",
       "      <td>0</td>\n",
       "      <td>224339296</td>\n",
       "      <td>0</td>\n",
       "      <td>3</td>\n",
       "      <td>0</td>\n",
       "      <td>6</td>\n",
       "      <td>404786</td>\n",
       "      <td>0</td>\n",
       "      <td>0</td>\n",
       "      <td>0</td>\n",
       "      <td>6.0</td>\n",
       "    </tr>\n",
       "    <tr>\n",
       "      <th>3</th>\n",
       "      <td>S1F01E6Y</td>\n",
       "      <td>2015-02-17</td>\n",
       "      <td>0</td>\n",
       "      <td>240257968</td>\n",
       "      <td>0</td>\n",
       "      <td>0</td>\n",
       "      <td>0</td>\n",
       "      <td>12</td>\n",
       "      <td>259491</td>\n",
       "      <td>0</td>\n",
       "      <td>0</td>\n",
       "      <td>0</td>\n",
       "      <td>48.0</td>\n",
       "    </tr>\n",
       "    <tr>\n",
       "      <th>4</th>\n",
       "      <td>S1F01JE0</td>\n",
       "      <td>2015-01-06</td>\n",
       "      <td>0</td>\n",
       "      <td>235562856</td>\n",
       "      <td>0</td>\n",
       "      <td>0</td>\n",
       "      <td>0</td>\n",
       "      <td>6</td>\n",
       "      <td>412151</td>\n",
       "      <td>0</td>\n",
       "      <td>0</td>\n",
       "      <td>0</td>\n",
       "      <td>6.0</td>\n",
       "    </tr>\n",
       "  </tbody>\n",
       "</table>\n",
       "</div>"
      ],
      "text/plain": [
       "     device       date  failure  attribute1  attribute2  attribute3  \\\n",
       "0  S1F01085 2015-01-06        0   215630672          56           0   \n",
       "1  S1F013BB 2015-05-11        0   243346080           0           0   \n",
       "2  S1F0166B 2015-01-06        0   224339296           0           3   \n",
       "3  S1F01E6Y 2015-02-17        0   240257968           0           0   \n",
       "4  S1F01JE0 2015-01-06        0   235562856           0           0   \n",
       "\n",
       "   attribute4  attribute5  attribute6  attribute7  attribute8  attribute9  \\\n",
       "0          52           6      409404           0           0           7   \n",
       "1           0           5      689161           0           0           0   \n",
       "2           0           6      404786           0           0           0   \n",
       "3           0          12      259491           0           0           0   \n",
       "4           0           6      412151           0           0           0   \n",
       "\n",
       "   work_days  \n",
       "0        6.0  \n",
       "1        6.0  \n",
       "2        6.0  \n",
       "3       48.0  \n",
       "4        6.0  "
      ]
     },
     "execution_count": 41,
     "metadata": {},
     "output_type": "execute_result"
    }
   ],
   "source": [
    "prep.head()"
   ]
  },
  {
   "cell_type": "markdown",
   "metadata": {},
   "source": [
    "# For Undersampling using resemble "
   ]
  },
  {
   "cell_type": "code",
   "execution_count": 42,
   "metadata": {
    "collapsed": true
   },
   "outputs": [],
   "source": [
    "from sklearn.utils import resample\n",
    "prep_nonfailure = prep[prep['failure'] == 0]\n",
    "prep_failure = prep[prep['failure']==1]\n",
    "prep_nonfailure_undersample = resample(prep_nonfailure,replace=False,n_samples = 106,\\\n",
    "                                    random_state=23)\n",
    "prep_resampled = pd.concat([prep_nonfailure_undersample,prep_failure])\n",
    "\n",
    "prep_y = prep_resampled['failure']"
   ]
  },
  {
   "cell_type": "markdown",
   "metadata": {},
   "source": [
    "# Dropping unwanted columns"
   ]
  },
  {
   "cell_type": "code",
   "execution_count": 44,
   "metadata": {
    "collapsed": true
   },
   "outputs": [],
   "source": [
    "prep_resampled = prep_resampled.drop(['failure','date','device','attribute8'],axis = 1)"
   ]
  },
  {
   "cell_type": "markdown",
   "metadata": {},
   "source": [
    "# Now Scaling attribute 1 to 9 "
   ]
  },
  {
   "cell_type": "code",
   "execution_count": 46,
   "metadata": {
    "collapsed": true
   },
   "outputs": [],
   "source": [
    "from scipy import stats\n",
    "from sklearn import preprocessing\n",
    "from sklearn.preprocessing import StandardScaler"
   ]
  },
  {
   "cell_type": "code",
   "execution_count": 47,
   "metadata": {
    "collapsed": true
   },
   "outputs": [],
   "source": [
    "prep_sc=preprocessing.StandardScaler()\n",
    "x_std = prep_sc.fit_transform(prep_resampled)\n",
    "data_scaled = pd.DataFrame(x_std)"
   ]
  },
  {
   "cell_type": "markdown",
   "metadata": {},
   "source": [
    "# Modeling"
   ]
  },
  {
   "cell_type": "code",
   "execution_count": 97,
   "metadata": {},
   "outputs": [
    {
     "data": {
      "text/plain": [
       "((169, 9), (43, 9), (169,), (43,))"
      ]
     },
     "execution_count": 97,
     "metadata": {},
     "output_type": "execute_result"
    }
   ],
   "source": [
    "\n",
    "from sklearn.cross_validation import train_test_split as tts\n",
    "X_train, X_test, y_train, y_test = tts(data_scaled,prep_y, train_size = 0.8, random_state=20)\n",
    "X_train.shape, X_test.shape, y_train.shape, y_test.shape"
   ]
  },
  {
   "cell_type": "markdown",
   "metadata": {},
   "source": [
    "# Define Metrics Function to evaluate a model"
   ]
  },
  {
   "cell_type": "code",
   "execution_count": 98,
   "metadata": {
    "collapsed": true
   },
   "outputs": [],
   "source": [
    "def Metrics(y_test,pred):\n",
    "    print('accuray:', accuracy_score(y_test,pred),',recall score:',recall_score(y_test,pred),'\\n ConfusionMatrix: \\n',confusion_matrix(y_test,pred))\n",
    "    #model_rf.feature_importances_\n",
    "    print('Precision Score:',precision_score(y_test,pred),'F1_score:',f1_score(y_test,pred))"
   ]
  },
  {
   "cell_type": "markdown",
   "metadata": {},
   "source": [
    "# 1. Decision Tree Classifier"
   ]
  },
  {
   "cell_type": "code",
   "execution_count": 99,
   "metadata": {},
   "outputs": [
    {
     "name": "stdout",
     "output_type": "stream",
     "text": [
      "accuray: 0.837209302326 ,recall score: 0.791666666667 \n",
      " ConfusionMatrix: \n",
      " [[17  2]\n",
      " [ 5 19]]\n",
      "Precision Score: 0.904761904762 F1_score: 0.844444444444\n"
     ]
    }
   ],
   "source": [
    "from sklearn.metrics import accuracy_score,recall_score, confusion_matrix, roc_curve, precision_score, f1_score\n",
    "DT = DecisionTreeClassifier(random_state=12)\n",
    "model_dt = DT.fit(X_train,y_train)\n",
    "pred_dt=model_dt.predict(X_test)\n",
    "Metrics(y_test,pred_dt)"
   ]
  },
  {
   "cell_type": "markdown",
   "metadata": {},
   "source": [
    "# 2. Random Forest"
   ]
  },
  {
   "cell_type": "code",
   "execution_count": 100,
   "metadata": {},
   "outputs": [
    {
     "name": "stdout",
     "output_type": "stream",
     "text": [
      "accuray: 0.883720930233 ,recall score: 0.833333333333 \n",
      " ConfusionMatrix: \n",
      " [[18  1]\n",
      " [ 4 20]]\n",
      "Precision Score: 0.952380952381 F1_score: 0.888888888889\n"
     ]
    }
   ],
   "source": [
    "rf = RandomForestClassifier(n_estimators=100, min_samples_split=20, \\\n",
    "                            max_depth=5,random_state=50)\n",
    "model_rf = rf.fit(X_train,y_train)\n",
    "pred_rf = model_rf.predict(X_test)\n",
    "Metrics(y_test,pred_rf)"
   ]
  },
  {
   "cell_type": "markdown",
   "metadata": {},
   "source": [
    "# 3. SVM "
   ]
  },
  {
   "cell_type": "code",
   "execution_count": 101,
   "metadata": {},
   "outputs": [
    {
     "name": "stdout",
     "output_type": "stream",
     "text": [
      "accuray: 0.744186046512 ,recall score: 0.625 \n",
      " ConfusionMatrix: \n",
      " [[17  2]\n",
      " [ 9 15]]\n",
      "Precision Score: 0.882352941176 F1_score: 0.731707317073\n"
     ]
    }
   ],
   "source": [
    "from sklearn.svm import SVC, LinearSVC\n",
    "modelsvc = SVC(kernel='linear')\n",
    "modelsvc.fit(X_train,y_train)\n",
    "pred_svm = modelsvc.predict(X_test)\n",
    "Metrics(y_test,pred_svm)"
   ]
  },
  {
   "cell_type": "code",
   "execution_count": null,
   "metadata": {
    "collapsed": true
   },
   "outputs": [],
   "source": [
    "#features=pd.Series(g.feature_importances_, index=X.columns)\n",
    "#features.sort_values(assending=True).tail(20).plot(kind='barh')\n",
    "#plt.title('feature importance')"
   ]
  },
  {
   "cell_type": "markdown",
   "metadata": {},
   "source": [
    "# 4. gradient boosting"
   ]
  },
  {
   "cell_type": "code",
   "execution_count": 102,
   "metadata": {},
   "outputs": [
    {
     "name": "stdout",
     "output_type": "stream",
     "text": [
      "accuray: 0.906976744186 ,recall score: 0.833333333333 \n",
      " ConfusionMatrix: \n",
      " [[19  0]\n",
      " [ 4 20]]\n",
      "Precision Score: 1.0 F1_score: 0.909090909091\n"
     ]
    }
   ],
   "source": [
    "g_clf = GradientBoostingClassifier(n_estimators=100)\n",
    "g_clf.fit(X_train,y_train)\n",
    "pred_g=g_clf.predict(X_test)\n",
    "Metrics(y_test,pred_g)"
   ]
  },
  {
   "cell_type": "code",
   "execution_count": 77,
   "metadata": {},
   "outputs": [
    {
     "data": {
      "text/html": [
       "<div>\n",
       "<style>\n",
       "    .dataframe thead tr:only-child th {\n",
       "        text-align: right;\n",
       "    }\n",
       "\n",
       "    .dataframe thead th {\n",
       "        text-align: left;\n",
       "    }\n",
       "\n",
       "    .dataframe tbody tr th {\n",
       "        vertical-align: top;\n",
       "    }\n",
       "</style>\n",
       "<table border=\"1\" class=\"dataframe\">\n",
       "  <thead>\n",
       "    <tr style=\"text-align: right;\">\n",
       "      <th></th>\n",
       "      <th>0</th>\n",
       "      <th>1</th>\n",
       "      <th>2</th>\n",
       "      <th>3</th>\n",
       "      <th>4</th>\n",
       "      <th>5</th>\n",
       "      <th>6</th>\n",
       "      <th>7</th>\n",
       "      <th>8</th>\n",
       "    </tr>\n",
       "  </thead>\n",
       "  <tbody>\n",
       "    <tr>\n",
       "      <th>0</th>\n",
       "      <td>-0.607691</td>\n",
       "      <td>-0.229493</td>\n",
       "      <td>-0.094223</td>\n",
       "      <td>-0.204305</td>\n",
       "      <td>0.205995</td>\n",
       "      <td>-0.544611</td>\n",
       "      <td>-0.198912</td>\n",
       "      <td>-0.129714</td>\n",
       "      <td>-1.100443</td>\n",
       "    </tr>\n",
       "    <tr>\n",
       "      <th>1</th>\n",
       "      <td>0.402927</td>\n",
       "      <td>-0.229493</td>\n",
       "      <td>-0.094223</td>\n",
       "      <td>-0.204305</td>\n",
       "      <td>-0.138957</td>\n",
       "      <td>-0.092865</td>\n",
       "      <td>-0.198912</td>\n",
       "      <td>-0.129714</td>\n",
       "      <td>-0.308220</td>\n",
       "    </tr>\n",
       "    <tr>\n",
       "      <th>2</th>\n",
       "      <td>0.126917</td>\n",
       "      <td>-0.229493</td>\n",
       "      <td>-0.094223</td>\n",
       "      <td>-0.204305</td>\n",
       "      <td>-0.207947</td>\n",
       "      <td>0.588175</td>\n",
       "      <td>-0.198912</td>\n",
       "      <td>-0.115027</td>\n",
       "      <td>-0.181464</td>\n",
       "    </tr>\n",
       "    <tr>\n",
       "      <th>3</th>\n",
       "      <td>-2.121319</td>\n",
       "      <td>-0.229493</td>\n",
       "      <td>-0.094223</td>\n",
       "      <td>-0.204305</td>\n",
       "      <td>-0.138957</td>\n",
       "      <td>0.512558</td>\n",
       "      <td>-0.198912</td>\n",
       "      <td>-0.129714</td>\n",
       "      <td>-1.121569</td>\n",
       "    </tr>\n",
       "    <tr>\n",
       "      <th>4</th>\n",
       "      <td>0.422113</td>\n",
       "      <td>-0.229493</td>\n",
       "      <td>-0.094223</td>\n",
       "      <td>-0.204305</td>\n",
       "      <td>-0.483909</td>\n",
       "      <td>0.664907</td>\n",
       "      <td>-0.198912</td>\n",
       "      <td>-0.129714</td>\n",
       "      <td>1.920568</td>\n",
       "    </tr>\n",
       "  </tbody>\n",
       "</table>\n",
       "</div>"
      ],
      "text/plain": [
       "          0         1         2         3         4         5         6  \\\n",
       "0 -0.607691 -0.229493 -0.094223 -0.204305  0.205995 -0.544611 -0.198912   \n",
       "1  0.402927 -0.229493 -0.094223 -0.204305 -0.138957 -0.092865 -0.198912   \n",
       "2  0.126917 -0.229493 -0.094223 -0.204305 -0.207947  0.588175 -0.198912   \n",
       "3 -2.121319 -0.229493 -0.094223 -0.204305 -0.138957  0.512558 -0.198912   \n",
       "4  0.422113 -0.229493 -0.094223 -0.204305 -0.483909  0.664907 -0.198912   \n",
       "\n",
       "          7         8  \n",
       "0 -0.129714 -1.100443  \n",
       "1 -0.129714 -0.308220  \n",
       "2 -0.115027 -0.181464  \n",
       "3 -0.129714 -1.121569  \n",
       "4 -0.129714  1.920568  "
      ]
     },
     "execution_count": 77,
     "metadata": {},
     "output_type": "execute_result"
    }
   ],
   "source": [
    "data_scaled.head()"
   ]
  },
  {
   "cell_type": "code",
   "execution_count": 90,
   "metadata": {},
   "outputs": [
    {
     "ename": "TypeError",
     "evalue": "rename() got an unexpected keyword argument \"axis\"",
     "output_type": "error",
     "traceback": [
      "\u001b[0;31m---------------------------------------------------------------------------\u001b[0m",
      "\u001b[0;31mTypeError\u001b[0m                                 Traceback (most recent call last)",
      "\u001b[0;32m<ipython-input-90-f8f3afbdb61f>\u001b[0m in \u001b[0;36m<module>\u001b[0;34m()\u001b[0m\n\u001b[0;32m----> 1\u001b[0;31m \u001b[0mdata_scaled\u001b[0m \u001b[0;34m=\u001b[0m \u001b[0mdata_scaled\u001b[0m\u001b[0;34m.\u001b[0m\u001b[0mrename\u001b[0m\u001b[0;34m(\u001b[0m\u001b[0mcolumns\u001b[0m\u001b[0;34m=\u001b[0m\u001b[0;34m{\u001b[0m\u001b[0;34m'0'\u001b[0m\u001b[0;34m:\u001b[0m\u001b[0;34m'attribute1'\u001b[0m\u001b[0;34m,\u001b[0m \u001b[0;34m'1'\u001b[0m\u001b[0;34m:\u001b[0m\u001b[0;34m'attribute2'\u001b[0m\u001b[0;34m,\u001b[0m\u001b[0;34m'2'\u001b[0m\u001b[0;34m:\u001b[0m\u001b[0;34m'attribute3'\u001b[0m\u001b[0;34m,\u001b[0m\u001b[0;34m'3'\u001b[0m\u001b[0;34m:\u001b[0m\u001b[0;34m'attribute4'\u001b[0m\u001b[0;34m,\u001b[0m\u001b[0;34m'4'\u001b[0m\u001b[0;34m:\u001b[0m\u001b[0;34m'attribute5'\u001b[0m\u001b[0;34m,\u001b[0m\u001b[0;34m'5'\u001b[0m\u001b[0;34m:\u001b[0m\u001b[0;34m'attribute6'\u001b[0m\u001b[0;34m,\u001b[0m\u001b[0;34m'6'\u001b[0m\u001b[0;34m:\u001b[0m\u001b[0;34m'attribute7'\u001b[0m\u001b[0;34m,\u001b[0m\u001b[0;34m'7'\u001b[0m\u001b[0;34m:\u001b[0m\u001b[0;34m'attribute9'\u001b[0m\u001b[0;34m,\u001b[0m\u001b[0;34m'8'\u001b[0m\u001b[0;34m:\u001b[0m\u001b[0;34m'work_days'\u001b[0m\u001b[0;34m}\u001b[0m\u001b[0;34m,\u001b[0m\u001b[0maxis\u001b[0m\u001b[0;34m=\u001b[0m\u001b[0;36m1\u001b[0m\u001b[0;34m)\u001b[0m\u001b[0;34m\u001b[0m\u001b[0m\n\u001b[0m",
      "\u001b[0;32m~/anaconda3/lib/python3.6/site-packages/pandas/core/frame.py\u001b[0m in \u001b[0;36mrename\u001b[0;34m(self, index, columns, **kwargs)\u001b[0m\n\u001b[1;32m   2744\u001b[0m     \u001b[0;32mdef\u001b[0m \u001b[0mrename\u001b[0m\u001b[0;34m(\u001b[0m\u001b[0mself\u001b[0m\u001b[0;34m,\u001b[0m \u001b[0mindex\u001b[0m\u001b[0;34m=\u001b[0m\u001b[0;32mNone\u001b[0m\u001b[0;34m,\u001b[0m \u001b[0mcolumns\u001b[0m\u001b[0;34m=\u001b[0m\u001b[0;32mNone\u001b[0m\u001b[0;34m,\u001b[0m \u001b[0;34m**\u001b[0m\u001b[0mkwargs\u001b[0m\u001b[0;34m)\u001b[0m\u001b[0;34m:\u001b[0m\u001b[0;34m\u001b[0m\u001b[0m\n\u001b[1;32m   2745\u001b[0m         return super(DataFrame, self).rename(index=index, columns=columns,\n\u001b[0;32m-> 2746\u001b[0;31m                                              **kwargs)\n\u001b[0m\u001b[1;32m   2747\u001b[0m \u001b[0;34m\u001b[0m\u001b[0m\n\u001b[1;32m   2748\u001b[0m     \u001b[0;34m@\u001b[0m\u001b[0mAppender\u001b[0m\u001b[0;34m(\u001b[0m\u001b[0m_shared_docs\u001b[0m\u001b[0;34m[\u001b[0m\u001b[0;34m'fillna'\u001b[0m\u001b[0;34m]\u001b[0m \u001b[0;34m%\u001b[0m \u001b[0m_shared_doc_kwargs\u001b[0m\u001b[0;34m)\u001b[0m\u001b[0;34m\u001b[0m\u001b[0m\n",
      "\u001b[0;32m~/anaconda3/lib/python3.6/site-packages/pandas/core/generic.py\u001b[0m in \u001b[0;36mrename\u001b[0;34m(self, *args, **kwargs)\u001b[0m\n\u001b[1;32m    692\u001b[0m         \u001b[0;32mif\u001b[0m \u001b[0mkwargs\u001b[0m\u001b[0;34m:\u001b[0m\u001b[0;34m\u001b[0m\u001b[0m\n\u001b[1;32m    693\u001b[0m             raise TypeError('rename() got an unexpected keyword '\n\u001b[0;32m--> 694\u001b[0;31m                             'argument \"{0}\"'.format(list(kwargs.keys())[0]))\n\u001b[0m\u001b[1;32m    695\u001b[0m \u001b[0;34m\u001b[0m\u001b[0m\n\u001b[1;32m    696\u001b[0m         \u001b[0;32mif\u001b[0m \u001b[0mcom\u001b[0m\u001b[0;34m.\u001b[0m\u001b[0m_count_not_none\u001b[0m\u001b[0;34m(\u001b[0m\u001b[0;34m*\u001b[0m\u001b[0maxes\u001b[0m\u001b[0;34m.\u001b[0m\u001b[0mvalues\u001b[0m\u001b[0;34m(\u001b[0m\u001b[0;34m)\u001b[0m\u001b[0;34m)\u001b[0m \u001b[0;34m==\u001b[0m \u001b[0;36m0\u001b[0m\u001b[0;34m:\u001b[0m\u001b[0;34m\u001b[0m\u001b[0m\n",
      "\u001b[0;31mTypeError\u001b[0m: rename() got an unexpected keyword argument \"axis\""
     ]
    }
   ],
   "source": [
    "data_scaled = data_scaled.rename(columns = {'0':'attribute1', '1':'attribute2','2':'attribute3','3':'attribute4','4':'attribute5','5':'attribute6','6':'attribute7','7':'attribute9','8':'work_days'})"
   ]
  },
  {
   "cell_type": "code",
   "execution_count": 89,
   "metadata": {},
   "outputs": [
    {
     "data": {
      "text/html": [
       "<div>\n",
       "<style>\n",
       "    .dataframe thead tr:only-child th {\n",
       "        text-align: right;\n",
       "    }\n",
       "\n",
       "    .dataframe thead th {\n",
       "        text-align: left;\n",
       "    }\n",
       "\n",
       "    .dataframe tbody tr th {\n",
       "        vertical-align: top;\n",
       "    }\n",
       "</style>\n",
       "<table border=\"1\" class=\"dataframe\">\n",
       "  <thead>\n",
       "    <tr style=\"text-align: right;\">\n",
       "      <th></th>\n",
       "      <th>0</th>\n",
       "      <th>1</th>\n",
       "      <th>2</th>\n",
       "      <th>3</th>\n",
       "      <th>4</th>\n",
       "      <th>5</th>\n",
       "      <th>6</th>\n",
       "      <th>7</th>\n",
       "      <th>8</th>\n",
       "    </tr>\n",
       "  </thead>\n",
       "  <tbody>\n",
       "    <tr>\n",
       "      <th>0</th>\n",
       "      <td>-0.607691</td>\n",
       "      <td>-0.229493</td>\n",
       "      <td>-0.094223</td>\n",
       "      <td>-0.204305</td>\n",
       "      <td>0.205995</td>\n",
       "      <td>-0.544611</td>\n",
       "      <td>-0.198912</td>\n",
       "      <td>-0.129714</td>\n",
       "      <td>-1.100443</td>\n",
       "    </tr>\n",
       "    <tr>\n",
       "      <th>1</th>\n",
       "      <td>0.402927</td>\n",
       "      <td>-0.229493</td>\n",
       "      <td>-0.094223</td>\n",
       "      <td>-0.204305</td>\n",
       "      <td>-0.138957</td>\n",
       "      <td>-0.092865</td>\n",
       "      <td>-0.198912</td>\n",
       "      <td>-0.129714</td>\n",
       "      <td>-0.308220</td>\n",
       "    </tr>\n",
       "    <tr>\n",
       "      <th>2</th>\n",
       "      <td>0.126917</td>\n",
       "      <td>-0.229493</td>\n",
       "      <td>-0.094223</td>\n",
       "      <td>-0.204305</td>\n",
       "      <td>-0.207947</td>\n",
       "      <td>0.588175</td>\n",
       "      <td>-0.198912</td>\n",
       "      <td>-0.115027</td>\n",
       "      <td>-0.181464</td>\n",
       "    </tr>\n",
       "    <tr>\n",
       "      <th>3</th>\n",
       "      <td>-2.121319</td>\n",
       "      <td>-0.229493</td>\n",
       "      <td>-0.094223</td>\n",
       "      <td>-0.204305</td>\n",
       "      <td>-0.138957</td>\n",
       "      <td>0.512558</td>\n",
       "      <td>-0.198912</td>\n",
       "      <td>-0.129714</td>\n",
       "      <td>-1.121569</td>\n",
       "    </tr>\n",
       "    <tr>\n",
       "      <th>4</th>\n",
       "      <td>0.422113</td>\n",
       "      <td>-0.229493</td>\n",
       "      <td>-0.094223</td>\n",
       "      <td>-0.204305</td>\n",
       "      <td>-0.483909</td>\n",
       "      <td>0.664907</td>\n",
       "      <td>-0.198912</td>\n",
       "      <td>-0.129714</td>\n",
       "      <td>1.920568</td>\n",
       "    </tr>\n",
       "  </tbody>\n",
       "</table>\n",
       "</div>"
      ],
      "text/plain": [
       "          0         1         2         3         4         5         6  \\\n",
       "0 -0.607691 -0.229493 -0.094223 -0.204305  0.205995 -0.544611 -0.198912   \n",
       "1  0.402927 -0.229493 -0.094223 -0.204305 -0.138957 -0.092865 -0.198912   \n",
       "2  0.126917 -0.229493 -0.094223 -0.204305 -0.207947  0.588175 -0.198912   \n",
       "3 -2.121319 -0.229493 -0.094223 -0.204305 -0.138957  0.512558 -0.198912   \n",
       "4  0.422113 -0.229493 -0.094223 -0.204305 -0.483909  0.664907 -0.198912   \n",
       "\n",
       "          7         8  \n",
       "0 -0.129714 -1.100443  \n",
       "1 -0.129714 -0.308220  \n",
       "2 -0.115027 -0.181464  \n",
       "3 -0.129714 -1.121569  \n",
       "4 -0.129714  1.920568  "
      ]
     },
     "execution_count": 89,
     "metadata": {},
     "output_type": "execute_result"
    }
   ],
   "source": [
    "data_scaled.head()"
   ]
  },
  {
   "cell_type": "code",
   "execution_count": 103,
   "metadata": {},
   "outputs": [
    {
     "data": {
      "text/plain": [
       "<matplotlib.axes._subplots.AxesSubplot at 0x1a231e14a8>"
      ]
     },
     "execution_count": 103,
     "metadata": {},
     "output_type": "execute_result"
    },
    {
     "data": {
      "image/png": "[encoded data removed]",
      "text/plain": [
       "<matplotlib.figure.Figure at 0x1a231f2048>"
      ]
     },
     "metadata": {},
     "output_type": "display_data"
    }
   ],
   "source": [
    "features = pd.DataFrame()\n",
    "features['feature'] = data_scaled.columns\n",
    "features['importance'] = g_clf.feature_importances_\n",
    "features.sort_values(by=['importance'], ascending=True, inplace=True)\n",
    "features.set_index('feature', inplace=True)\n",
    "features.plot(kind='barh', figsize=(5, 5))"
   ]
  },
  {
   "cell_type": "code",
   "execution_count": 76,
   "metadata": {},
   "outputs": [
    {
     "name": "stdout",
     "output_type": "stream",
     "text": [
      "Requirement already satisfied: nbconvert in /Users/SKYLER/anaconda3/lib/python3.6/site-packages\n",
      "Requirement already satisfied: mistune>=0.7.4 in /Users/SKYLER/anaconda3/lib/python3.6/site-packages (from nbconvert)\n",
      "Requirement already satisfied: jinja2 in /Users/SKYLER/anaconda3/lib/python3.6/site-packages (from nbconvert)\n",
      "Requirement already satisfied: pygments in /Users/SKYLER/anaconda3/lib/python3.6/site-packages (from nbconvert)\n",
      "Requirement already satisfied: traitlets>=4.2 in /Users/SKYLER/anaconda3/lib/python3.6/site-packages (from nbconvert)\n",
      "Requirement already satisfied: jupyter_core in /Users/SKYLER/anaconda3/lib/python3.6/site-packages (from nbconvert)\n",
      "Requirement already satisfied: nbformat>=4.4 in /Users/SKYLER/anaconda3/lib/python3.6/site-packages (from nbconvert)\n",
      "Requirement already satisfied: entrypoints>=0.2.2 in /Users/SKYLER/anaconda3/lib/python3.6/site-packages (from nbconvert)\n",
      "Requirement already satisfied: bleach in /Users/SKYLER/anaconda3/lib/python3.6/site-packages (from nbconvert)\n",
      "Requirement already satisfied: pandocfilters>=1.4.1 in /Users/SKYLER/anaconda3/lib/python3.6/site-packages (from nbconvert)\n",
      "Requirement already satisfied: testpath in /Users/SKYLER/anaconda3/lib/python3.6/site-packages (from nbconvert)\n",
      "Requirement already satisfied: MarkupSafe>=0.23 in /Users/SKYLER/anaconda3/lib/python3.6/site-packages (from jinja2->nbconvert)\n",
      "Requirement already satisfied: ipython_genutils in /Users/SKYLER/anaconda3/lib/python3.6/site-packages (from traitlets>=4.2->nbconvert)\n",
      "Requirement already satisfied: six in /Users/SKYLER/anaconda3/lib/python3.6/site-packages (from traitlets>=4.2->nbconvert)\n",
      "Requirement already satisfied: decorator in /Users/SKYLER/anaconda3/lib/python3.6/site-packages (from traitlets>=4.2->nbconvert)\n",
      "Requirement already satisfied: jsonschema!=2.5.0,>=2.4 in /Users/SKYLER/anaconda3/lib/python3.6/site-packages (from nbformat>=4.4->nbconvert)\n",
      "Requirement already satisfied: html5lib>=0.99999999 in /Users/SKYLER/anaconda3/lib/python3.6/site-packages (from bleach->nbconvert)\n",
      "Requirement already satisfied: webencodings in /Users/SKYLER/anaconda3/lib/python3.6/site-packages (from html5lib>=0.99999999->bleach->nbconvert)\n",
      "Requirement already satisfied: setuptools>=18.5 in /Users/SKYLER/anaconda3/lib/python3.6/site-packages (from html5lib>=0.99999999->bleach->nbconvert)\n",
      "\u001b[33mYou are using pip version 9.0.1, however version 10.0.1 is available.\n",
      "You should consider upgrading via the 'pip install --upgrade pip' command.\u001b[0m\n"
     ]
    }
   ],
   "source": [
    "!pip install nbconvert"
   ]
  },
  {
   "cell_type": "code",
   "execution_count": 78,
   "metadata": {},
   "outputs": [
    {
     "name": "stdout",
     "output_type": "stream",
     "text": [
      "Collecting pip\n",
      "  Downloading https://files.pythonhosted.org/packages/0f/74/ecd13431bcc456ed390b44c8a6e917c1820365cbebcb6a8974d1cd045ab4/pip-10.0.1-py2.py3-none-any.whl (1.3MB)\n",
      "\u001b[K    100% |████████████████████████████████| 1.3MB 692kB/s ta 0:00:01\n",
      "\u001b[?25hInstalling collected packages: pip\n",
      "  Found existing installation: pip 9.0.1\n",
      "    Uninstalling pip-9.0.1:\n",
      "      Successfully uninstalled pip-9.0.1\n",
      "Successfully installed pip-10.0.1\n"
     ]
    }
   ],
   "source": [
    "!pip install --upgrade pip"
   ]
  },
  {
   "cell_type": "code",
   "execution_count": null,
   "metadata": {
    "collapsed": true
   },
   "outputs": [],
   "source": []
  }
 ],
 "metadata": {
  "kernelspec": {
   "display_name": "Python 3",
   "language": "python",
   "name": "python3"
  },
  "language_info": {
   "codemirror_mode": {
    "name": "ipython",
    "version": 3
   },
   "file_extension": ".py",
   "mimetype": "text/x-python",
   "name": "python",
   "nbconvert_exporter": "python",
   "pygments_lexer": "ipython3",
   "version": "3.6.3"
  }
 },
 "nbformat": 4,
 "nbformat_minor": 2
}
