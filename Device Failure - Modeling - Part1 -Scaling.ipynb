{
 "cells": [
  {
   "cell_type": "markdown",
   "metadata": {},
   "source": [
    "# Device Failure Project - Sujal Padhiyar -Part 2"
   ]
  },
  {
   "cell_type": "code",
   "execution_count": 22,
   "metadata": {
    "collapsed": true
   },
   "outputs": [],
   "source": [
    "import numpy as np\n",
    "import pandas as pd\n",
    "import seaborn as sns\n",
    "import matplotlib.pyplot as plt\n",
    "import seaborn as sns\n",
    "%matplotlib inline\n",
    "from sklearn.linear_model import LogisticRegression #logistic regression\n",
    "from sklearn import svm #support vector Machine\n",
    "from sklearn.ensemble import RandomForestClassifier #Random Forest\n",
    "from sklearn.neighbors import KNeighborsClassifier #KNN\n",
    "from sklearn.naive_bayes import GaussianNB #Naive bayes\n",
    "from sklearn.tree import DecisionTreeClassifier #Decision Tree\n",
    "from sklearn.ensemble import GradientBoostingClassifier \n",
    "from sklearn.ensemble import AdaBoostClassifier \n",
    "from sklearn.model_selection import train_test_split as tts #training and testing data split\n",
    "from sklearn import metrics #accuracy measure\n",
    "from sklearn.metrics import confusion_matrix #for confusion matrix"
   ]
  },
  {
   "cell_type": "code",
   "execution_count": 23,
   "metadata": {
    "collapsed": true
   },
   "outputs": [],
   "source": [
    "x=pd.read_csv('dataprep.csv')"
   ]
  },
  {
   "cell_type": "code",
   "execution_count": 24,
   "metadata": {},
   "outputs": [
    {
     "data": {
      "text/html": [
       "<div>\n",
       "<style>\n",
       "    .dataframe thead tr:only-child th {\n",
       "        text-align: right;\n",
       "    }\n",
       "\n",
       "    .dataframe thead th {\n",
       "        text-align: left;\n",
       "    }\n",
       "\n",
       "    .dataframe tbody tr th {\n",
       "        vertical-align: top;\n",
       "    }\n",
       "</style>\n",
       "<table border=\"1\" class=\"dataframe\">\n",
       "  <thead>\n",
       "    <tr style=\"text-align: right;\">\n",
       "      <th></th>\n",
       "      <th>Unnamed: 0</th>\n",
       "      <th>failure</th>\n",
       "      <th>attribute4</th>\n",
       "      <th>attribute5</th>\n",
       "      <th>work_days</th>\n",
       "      <th>device_type</th>\n",
       "      <th>att2</th>\n",
       "      <th>att1</th>\n",
       "      <th>att39</th>\n",
       "      <th>att78</th>\n",
       "      <th>month</th>\n",
       "      <th>total_mile</th>\n",
       "    </tr>\n",
       "  </thead>\n",
       "  <tbody>\n",
       "    <tr>\n",
       "      <th>0</th>\n",
       "      <td>0</td>\n",
       "      <td>0</td>\n",
       "      <td>52</td>\n",
       "      <td>6</td>\n",
       "      <td>6</td>\n",
       "      <td>0</td>\n",
       "      <td>7</td>\n",
       "      <td>26953834</td>\n",
       "      <td>7</td>\n",
       "      <td>0</td>\n",
       "      <td>1</td>\n",
       "      <td>1966</td>\n",
       "    </tr>\n",
       "    <tr>\n",
       "      <th>1</th>\n",
       "      <td>1</td>\n",
       "      <td>0</td>\n",
       "      <td>0</td>\n",
       "      <td>5</td>\n",
       "      <td>6</td>\n",
       "      <td>0</td>\n",
       "      <td>0</td>\n",
       "      <td>30418260</td>\n",
       "      <td>0</td>\n",
       "      <td>0</td>\n",
       "      <td>5</td>\n",
       "      <td>209</td>\n",
       "    </tr>\n",
       "    <tr>\n",
       "      <th>2</th>\n",
       "      <td>2</td>\n",
       "      <td>0</td>\n",
       "      <td>0</td>\n",
       "      <td>6</td>\n",
       "      <td>6</td>\n",
       "      <td>0</td>\n",
       "      <td>0</td>\n",
       "      <td>28042412</td>\n",
       "      <td>3</td>\n",
       "      <td>0</td>\n",
       "      <td>1</td>\n",
       "      <td>1612</td>\n",
       "    </tr>\n",
       "    <tr>\n",
       "      <th>3</th>\n",
       "      <td>3</td>\n",
       "      <td>0</td>\n",
       "      <td>0</td>\n",
       "      <td>12</td>\n",
       "      <td>48</td>\n",
       "      <td>0</td>\n",
       "      <td>0</td>\n",
       "      <td>30032246</td>\n",
       "      <td>0</td>\n",
       "      <td>0</td>\n",
       "      <td>2</td>\n",
       "      <td>22097</td>\n",
       "    </tr>\n",
       "    <tr>\n",
       "      <th>4</th>\n",
       "      <td>4</td>\n",
       "      <td>0</td>\n",
       "      <td>0</td>\n",
       "      <td>6</td>\n",
       "      <td>6</td>\n",
       "      <td>0</td>\n",
       "      <td>0</td>\n",
       "      <td>29445357</td>\n",
       "      <td>0</td>\n",
       "      <td>0</td>\n",
       "      <td>1</td>\n",
       "      <td>1965</td>\n",
       "    </tr>\n",
       "  </tbody>\n",
       "</table>\n",
       "</div>"
      ],
      "text/plain": [
       "   Unnamed: 0  failure  attribute4  attribute5  work_days  device_type  att2  \\\n",
       "0           0        0          52           6          6            0     7   \n",
       "1           1        0           0           5          6            0     0   \n",
       "2           2        0           0           6          6            0     0   \n",
       "3           3        0           0          12         48            0     0   \n",
       "4           4        0           0           6          6            0     0   \n",
       "\n",
       "       att1  att39  att78  month  total_mile  \n",
       "0  26953834      7      0      1        1966  \n",
       "1  30418260      0      0      5         209  \n",
       "2  28042412      3      0      1        1612  \n",
       "3  30032246      0      0      2       22097  \n",
       "4  29445357      0      0      1        1965  "
      ]
     },
     "execution_count": 24,
     "metadata": {},
     "output_type": "execute_result"
    }
   ],
   "source": [
    "x.head()"
   ]
  },
  {
   "cell_type": "code",
   "execution_count": 25,
   "metadata": {},
   "outputs": [
    {
     "data": {
      "text/plain": [
       "array([0, 1, 2])"
      ]
     },
     "execution_count": 25,
     "metadata": {},
     "output_type": "execute_result"
    }
   ],
   "source": [
    "x.device_type.unique()"
   ]
  },
  {
   "cell_type": "code",
   "execution_count": 26,
   "metadata": {},
   "outputs": [
    {
     "name": "stdout",
     "output_type": "stream",
     "text": [
      "<class 'pandas.core.frame.DataFrame'>\n",
      "RangeIndex: 1168 entries, 0 to 1167\n",
      "Data columns (total 12 columns):\n",
      "Unnamed: 0     1168 non-null int64\n",
      "failure        1168 non-null int64\n",
      "attribute4     1168 non-null int64\n",
      "attribute5     1168 non-null int64\n",
      "work_days      1168 non-null int64\n",
      "device_type    1168 non-null int64\n",
      "att2           1168 non-null int64\n",
      "att1           1168 non-null int64\n",
      "att39          1168 non-null int64\n",
      "att78          1168 non-null int64\n",
      "month          1168 non-null int64\n",
      "total_mile     1168 non-null int64\n",
      "dtypes: int64(12)\n",
      "memory usage: 109.6 KB\n"
     ]
    }
   ],
   "source": [
    "x.info()"
   ]
  },
  {
   "cell_type": "code",
   "execution_count": 27,
   "metadata": {
    "collapsed": true
   },
   "outputs": [],
   "source": [
    "x=x.drop(['Unnamed: 0'],axis=1)"
   ]
  },
  {
   "cell_type": "code",
   "execution_count": 28,
   "metadata": {},
   "outputs": [
    {
     "data": {
      "text/html": [
       "<div>\n",
       "<style>\n",
       "    .dataframe thead tr:only-child th {\n",
       "        text-align: right;\n",
       "    }\n",
       "\n",
       "    .dataframe thead th {\n",
       "        text-align: left;\n",
       "    }\n",
       "\n",
       "    .dataframe tbody tr th {\n",
       "        vertical-align: top;\n",
       "    }\n",
       "</style>\n",
       "<table border=\"1\" class=\"dataframe\">\n",
       "  <thead>\n",
       "    <tr style=\"text-align: right;\">\n",
       "      <th></th>\n",
       "      <th>failure</th>\n",
       "      <th>attribute4</th>\n",
       "      <th>attribute5</th>\n",
       "      <th>work_days</th>\n",
       "      <th>device_type</th>\n",
       "      <th>att2</th>\n",
       "      <th>att1</th>\n",
       "      <th>att39</th>\n",
       "      <th>att78</th>\n",
       "      <th>month</th>\n",
       "      <th>total_mile</th>\n",
       "    </tr>\n",
       "  </thead>\n",
       "  <tbody>\n",
       "    <tr>\n",
       "      <th>0</th>\n",
       "      <td>0</td>\n",
       "      <td>52</td>\n",
       "      <td>6</td>\n",
       "      <td>6</td>\n",
       "      <td>0</td>\n",
       "      <td>7</td>\n",
       "      <td>26953834</td>\n",
       "      <td>7</td>\n",
       "      <td>0</td>\n",
       "      <td>1</td>\n",
       "      <td>1966</td>\n",
       "    </tr>\n",
       "    <tr>\n",
       "      <th>1</th>\n",
       "      <td>0</td>\n",
       "      <td>0</td>\n",
       "      <td>5</td>\n",
       "      <td>6</td>\n",
       "      <td>0</td>\n",
       "      <td>0</td>\n",
       "      <td>30418260</td>\n",
       "      <td>0</td>\n",
       "      <td>0</td>\n",
       "      <td>5</td>\n",
       "      <td>209</td>\n",
       "    </tr>\n",
       "    <tr>\n",
       "      <th>2</th>\n",
       "      <td>0</td>\n",
       "      <td>0</td>\n",
       "      <td>6</td>\n",
       "      <td>6</td>\n",
       "      <td>0</td>\n",
       "      <td>0</td>\n",
       "      <td>28042412</td>\n",
       "      <td>3</td>\n",
       "      <td>0</td>\n",
       "      <td>1</td>\n",
       "      <td>1612</td>\n",
       "    </tr>\n",
       "    <tr>\n",
       "      <th>3</th>\n",
       "      <td>0</td>\n",
       "      <td>0</td>\n",
       "      <td>12</td>\n",
       "      <td>48</td>\n",
       "      <td>0</td>\n",
       "      <td>0</td>\n",
       "      <td>30032246</td>\n",
       "      <td>0</td>\n",
       "      <td>0</td>\n",
       "      <td>2</td>\n",
       "      <td>22097</td>\n",
       "    </tr>\n",
       "    <tr>\n",
       "      <th>4</th>\n",
       "      <td>0</td>\n",
       "      <td>0</td>\n",
       "      <td>6</td>\n",
       "      <td>6</td>\n",
       "      <td>0</td>\n",
       "      <td>0</td>\n",
       "      <td>29445357</td>\n",
       "      <td>0</td>\n",
       "      <td>0</td>\n",
       "      <td>1</td>\n",
       "      <td>1965</td>\n",
       "    </tr>\n",
       "  </tbody>\n",
       "</table>\n",
       "</div>"
      ],
      "text/plain": [
       "   failure  attribute4  attribute5  work_days  device_type  att2      att1  \\\n",
       "0        0          52           6          6            0     7  26953834   \n",
       "1        0           0           5          6            0     0  30418260   \n",
       "2        0           0           6          6            0     0  28042412   \n",
       "3        0           0          12         48            0     0  30032246   \n",
       "4        0           0           6          6            0     0  29445357   \n",
       "\n",
       "   att39  att78  month  total_mile  \n",
       "0      7      0      1        1966  \n",
       "1      0      0      5         209  \n",
       "2      3      0      1        1612  \n",
       "3      0      0      2       22097  \n",
       "4      0      0      1        1965  "
      ]
     },
     "execution_count": 28,
     "metadata": {},
     "output_type": "execute_result"
    }
   ],
   "source": [
    "x.head()"
   ]
  },
  {
   "cell_type": "code",
   "execution_count": 29,
   "metadata": {
    "collapsed": true
   },
   "outputs": [],
   "source": [
    "prep=x.copy()"
   ]
  },
  {
   "cell_type": "code",
   "execution_count": 30,
   "metadata": {
    "collapsed": true
   },
   "outputs": [],
   "source": [
    "prep=prep.drop(['failure'],axis=1)"
   ]
  },
  {
   "cell_type": "code",
   "execution_count": 31,
   "metadata": {
    "collapsed": true
   },
   "outputs": [],
   "source": [
    "from scipy import stats\n",
    "from sklearn import preprocessing\n",
    "from sklearn.preprocessing import StandardScaler"
   ]
  },
  {
   "cell_type": "markdown",
   "metadata": {},
   "source": [
    "# Scaling"
   ]
  },
  {
   "cell_type": "code",
   "execution_count": 32,
   "metadata": {
    "collapsed": true
   },
   "outputs": [],
   "source": [
    "prep_sc=preprocessing.StandardScaler()\n",
    "x_std = prep_sc.fit_transform(prep)\n",
    "data_scaled = pd.DataFrame(x_std,columns= prep.columns)"
   ]
  },
  {
   "cell_type": "code",
   "execution_count": 33,
   "metadata": {},
   "outputs": [
    {
     "data": {
      "text/plain": [
       "(1168, 10)"
      ]
     },
     "execution_count": 33,
     "metadata": {},
     "output_type": "execute_result"
    }
   ],
   "source": [
    "data_scaled.shape"
   ]
  },
  {
   "cell_type": "code",
   "execution_count": 34,
   "metadata": {},
   "outputs": [
    {
     "data": {
      "text/html": [
       "<div>\n",
       "<style>\n",
       "    .dataframe thead tr:only-child th {\n",
       "        text-align: right;\n",
       "    }\n",
       "\n",
       "    .dataframe thead th {\n",
       "        text-align: left;\n",
       "    }\n",
       "\n",
       "    .dataframe tbody tr th {\n",
       "        vertical-align: top;\n",
       "    }\n",
       "</style>\n",
       "<table border=\"1\" class=\"dataframe\">\n",
       "  <thead>\n",
       "    <tr style=\"text-align: right;\">\n",
       "      <th></th>\n",
       "      <th>attribute4</th>\n",
       "      <th>attribute5</th>\n",
       "      <th>work_days</th>\n",
       "      <th>device_type</th>\n",
       "      <th>att2</th>\n",
       "      <th>att1</th>\n",
       "      <th>att39</th>\n",
       "      <th>att78</th>\n",
       "      <th>month</th>\n",
       "      <th>total_mile</th>\n",
       "    </tr>\n",
       "  </thead>\n",
       "  <tbody>\n",
       "    <tr>\n",
       "      <th>0</th>\n",
       "      <td>0.534333</td>\n",
       "      <td>-0.521166</td>\n",
       "      <td>-0.980316</td>\n",
       "      <td>-0.971539</td>\n",
       "      <td>-0.137837</td>\n",
       "      <td>-0.442297</td>\n",
       "      <td>-0.061009</td>\n",
       "      <td>-0.063153</td>\n",
       "      <td>-0.986325</td>\n",
       "      <td>-0.804348</td>\n",
       "    </tr>\n",
       "    <tr>\n",
       "      <th>1</th>\n",
       "      <td>-0.124349</td>\n",
       "      <td>-0.602038</td>\n",
       "      <td>-0.980316</td>\n",
       "      <td>-0.971539</td>\n",
       "      <td>-0.146541</td>\n",
       "      <td>0.505001</td>\n",
       "      <td>-0.066816</td>\n",
       "      <td>-0.063153</td>\n",
       "      <td>0.208415</td>\n",
       "      <td>-0.852462</td>\n",
       "    </tr>\n",
       "    <tr>\n",
       "      <th>2</th>\n",
       "      <td>-0.124349</td>\n",
       "      <td>-0.521166</td>\n",
       "      <td>-0.980316</td>\n",
       "      <td>-0.971539</td>\n",
       "      <td>-0.146541</td>\n",
       "      <td>-0.144641</td>\n",
       "      <td>-0.064327</td>\n",
       "      <td>-0.063153</td>\n",
       "      <td>-0.986325</td>\n",
       "      <td>-0.814042</td>\n",
       "    </tr>\n",
       "    <tr>\n",
       "      <th>3</th>\n",
       "      <td>-0.124349</td>\n",
       "      <td>-0.035935</td>\n",
       "      <td>-0.570987</td>\n",
       "      <td>-0.971539</td>\n",
       "      <td>-0.146541</td>\n",
       "      <td>0.399451</td>\n",
       "      <td>-0.066816</td>\n",
       "      <td>-0.063153</td>\n",
       "      <td>-0.687640</td>\n",
       "      <td>-0.253074</td>\n",
       "    </tr>\n",
       "    <tr>\n",
       "      <th>4</th>\n",
       "      <td>-0.124349</td>\n",
       "      <td>-0.521166</td>\n",
       "      <td>-0.980316</td>\n",
       "      <td>-0.971539</td>\n",
       "      <td>-0.146541</td>\n",
       "      <td>0.238975</td>\n",
       "      <td>-0.066816</td>\n",
       "      <td>-0.063153</td>\n",
       "      <td>-0.986325</td>\n",
       "      <td>-0.804375</td>\n",
       "    </tr>\n",
       "  </tbody>\n",
       "</table>\n",
       "</div>"
      ],
      "text/plain": [
       "   attribute4  attribute5  work_days  device_type      att2      att1  \\\n",
       "0    0.534333   -0.521166  -0.980316    -0.971539 -0.137837 -0.442297   \n",
       "1   -0.124349   -0.602038  -0.980316    -0.971539 -0.146541  0.505001   \n",
       "2   -0.124349   -0.521166  -0.980316    -0.971539 -0.146541 -0.144641   \n",
       "3   -0.124349   -0.035935  -0.570987    -0.971539 -0.146541  0.399451   \n",
       "4   -0.124349   -0.521166  -0.980316    -0.971539 -0.146541  0.238975   \n",
       "\n",
       "      att39     att78     month  total_mile  \n",
       "0 -0.061009 -0.063153 -0.986325   -0.804348  \n",
       "1 -0.066816 -0.063153  0.208415   -0.852462  \n",
       "2 -0.064327 -0.063153 -0.986325   -0.814042  \n",
       "3 -0.066816 -0.063153 -0.687640   -0.253074  \n",
       "4 -0.066816 -0.063153 -0.986325   -0.804375  "
      ]
     },
     "execution_count": 34,
     "metadata": {},
     "output_type": "execute_result"
    }
   ],
   "source": [
    "data_scaled.head()"
   ]
  },
  {
   "cell_type": "markdown",
   "metadata": {},
   "source": [
    "# Train Test Split before Oversampling"
   ]
  },
  {
   "cell_type": "code",
   "execution_count": 65,
   "metadata": {},
   "outputs": [
    {
     "data": {
      "text/plain": [
       "((1062, 10), (106, 10), (1062,), (106,))"
      ]
     },
     "execution_count": 65,
     "metadata": {},
     "output_type": "execute_result"
    }
   ],
   "source": [
    "from sklearn.cross_validation import train_test_split as tts\n",
    "x_train, x_val, y_train, y_val = tts(data_scaled,x['failure'],\n",
    "                                                  test_size = .09,\n",
    "                                                  random_state=42)\n",
    "x_train.shape,x_val.shape,y_train.shape,y_val.shape"
   ]
  },
  {
   "cell_type": "markdown",
   "metadata": {},
   "source": [
    "# Oversampling with SMOTE"
   ]
  },
  {
   "cell_type": "code",
   "execution_count": 66,
   "metadata": {},
   "outputs": [
    {
     "name": "stderr",
     "output_type": "stream",
     "text": [
      "/Users/SKYLER/anaconda3/lib/python3.6/site-packages/sklearn/utils/deprecation.py:77: DeprecationWarning: Function _ratio_float is deprecated; Use a float for 'ratio' is deprecated from version 0.2. The support will be removed in 0.4. Use a dict, str, or a callable instead.\n",
      "  warnings.warn(msg, category=DeprecationWarning)\n"
     ]
    },
    {
     "data": {
      "text/plain": [
       "((1926, 10), (1926,))"
      ]
     },
     "execution_count": 66,
     "metadata": {},
     "output_type": "execute_result"
    }
   ],
   "source": [
    "from imblearn.over_sampling import SMOTE\n",
    "sm = SMOTE(random_state=42, ratio =1.0)\n",
    "X_train_res, Y_train_res = sm.fit_sample(x_train,y_train)\n",
    "X_train_res.shape, Y_train_res.shape"
   ]
  },
  {
   "cell_type": "code",
   "execution_count": 67,
   "metadata": {},
   "outputs": [
    {
     "data": {
      "text/plain": [
       "(0    963\n",
       " 1     99\n",
       " Name: failure, dtype: int64, array([963, 963]))"
      ]
     },
     "execution_count": 67,
     "metadata": {},
     "output_type": "execute_result"
    }
   ],
   "source": [
    "y_train.value_counts(), np.bincount(Y_train_res)"
   ]
  },
  {
   "cell_type": "code",
   "execution_count": null,
   "metadata": {
    "collapsed": true
   },
   "outputs": [],
   "source": []
  },
  {
   "cell_type": "markdown",
   "metadata": {},
   "source": [
    "# Modeling"
   ]
  },
  {
   "cell_type": "code",
   "execution_count": 68,
   "metadata": {
    "collapsed": true
   },
   "outputs": [],
   "source": [
    "def Metrics(y_val,pred):\n",
    "    print('accuray:', accuracy_score(y_val,pred),',recall score:',recall_score(y_val,pred),'\\n ConfusionMatrix: \\n',confusion_matrix(y_val,pred))\n",
    "    #model_rf.feature_importances_\n",
    "    print('Precision Score:',precision_score(y_val,pred),'F1_score:',f1_score(y_val,pred))"
   ]
  },
  {
   "cell_type": "code",
   "execution_count": 69,
   "metadata": {},
   "outputs": [
    {
     "name": "stdout",
     "output_type": "stream",
     "text": [
      "accuray: 0.952830188679 ,recall score: 0.714285714286 \n",
      " ConfusionMatrix: \n",
      " [[96  3]\n",
      " [ 2  5]]\n",
      "Precision Score: 0.625 F1_score: 0.666666666667\n"
     ]
    }
   ],
   "source": [
    "from sklearn.metrics import accuracy_score,recall_score, confusion_matrix, roc_curve, precision_score, f1_score\n",
    "from sklearn.ensemble import RandomForestClassifier #Random Forest\n",
    "\n",
    "rf = RandomForestClassifier(n_estimators=200, min_samples_split=30, \\\n",
    "                            max_depth=30,random_state=42)\n",
    "model_rf = rf.fit(X_train_res,Y_train_res)\n",
    "pred_rf = model_rf.predict(x_val)\n",
    "Metrics(y_val,pred_rf)"
   ]
  },
  {
   "cell_type": "code",
   "execution_count": 70,
   "metadata": {},
   "outputs": [
    {
     "data": {
      "text/plain": [
       "<matplotlib.axes._subplots.AxesSubplot at 0x112489908>"
      ]
     },
     "execution_count": 70,
     "metadata": {},
     "output_type": "execute_result"
    },
    {
     "data": {
      "image/png": "[encoded data removed]",
      "text/plain": [
       "<matplotlib.figure.Figure at 0x112473710>"
      ]
     },
     "metadata": {},
     "output_type": "display_data"
    }
   ],
   "source": [
    "import matplotlib.pyplot as plt\n",
    "import seaborn as sns\n",
    "%matplotlib inline\n",
    "\n",
    "features = pd.DataFrame()\n",
    "features['feature'] = data_scaled.columns\n",
    "features['importance'] = rf.feature_importances_\n",
    "features.sort_values(by=['importance'], ascending=True, inplace=True)\n",
    "features.set_index('feature', inplace=True)\n",
    "features.plot(kind='barh', figsize=(5, 5))"
   ]
  },
  {
   "cell_type": "markdown",
   "metadata": {},
   "source": [
    "# Gradient Boosting"
   ]
  },
  {
   "cell_type": "code",
   "execution_count": 71,
   "metadata": {},
   "outputs": [
    {
     "name": "stdout",
     "output_type": "stream",
     "text": [
      "accuray: 0.971698113208 ,recall score: 0.714285714286 \n",
      " ConfusionMatrix: \n",
      " [[98  1]\n",
      " [ 2  5]]\n",
      "Precision Score: 0.833333333333 F1_score: 0.769230769231\n"
     ]
    }
   ],
   "source": [
    "from sklearn.ensemble import GradientBoostingClassifier \n",
    "g_clf = GradientBoostingClassifier(n_estimators=100)\n",
    "g_clf.fit(X_train_res,Y_train_res)\n",
    "pred_g=g_clf.predict(x_val)\n",
    "Metrics(y_val,pred_g)"
   ]
  },
  {
   "cell_type": "code",
   "execution_count": 72,
   "metadata": {},
   "outputs": [
    {
     "data": {
      "text/plain": [
       "<matplotlib.axes._subplots.AxesSubplot at 0x1125cfe80>"
      ]
     },
     "execution_count": 72,
     "metadata": {},
     "output_type": "execute_result"
    },
    {
     "data": {
      "image/png": "[encoded data removed]",
      "text/plain": [
       "<matplotlib.figure.Figure at 0x112469a90>"
      ]
     },
     "metadata": {},
     "output_type": "display_data"
    }
   ],
   "source": [
    "import matplotlib.pyplot as plt\n",
    "import seaborn as sns\n",
    "%matplotlib inline\n",
    "\n",
    "features = pd.DataFrame()\n",
    "features['feature'] = data_scaled.columns\n",
    "features['importance'] = g_clf.feature_importances_\n",
    "features.sort_values(by=['importance'], ascending=True, inplace=True)\n",
    "features.set_index('feature', inplace=True)\n",
    "features.plot(kind='barh', figsize=(5, 5))"
   ]
  },
  {
   "cell_type": "markdown",
   "metadata": {},
   "source": [
    "# Decision Tree"
   ]
  },
  {
   "cell_type": "code",
   "execution_count": 73,
   "metadata": {},
   "outputs": [
    {
     "name": "stdout",
     "output_type": "stream",
     "text": [
      "accuray: 0.962264150943 ,recall score: 0.857142857143 \n",
      " ConfusionMatrix: \n",
      " [[96  3]\n",
      " [ 1  6]]\n",
      "Precision Score: 0.666666666667 F1_score: 0.75\n"
     ]
    }
   ],
   "source": [
    "from sklearn.tree import DecisionTreeClassifier #Decision Tree\n",
    "DT = DecisionTreeClassifier(random_state=12)\n",
    "model_dt = DT.fit(X_train_res,Y_train_res)\n",
    "pred_dt=model_dt.predict(x_val)\n",
    "Metrics(y_val,pred_dt)"
   ]
  },
  {
   "cell_type": "code",
   "execution_count": 74,
   "metadata": {},
   "outputs": [
    {
     "data": {
      "text/plain": [
       "<matplotlib.axes._subplots.AxesSubplot at 0x112469358>"
      ]
     },
     "execution_count": 74,
     "metadata": {},
     "output_type": "execute_result"
    },
    {
     "data": {
      "image/png": "[encoded data removed]",
      "text/plain": [
       "<matplotlib.figure.Figure at 0x10d40ab70>"
      ]
     },
     "metadata": {},
     "output_type": "display_data"
    }
   ],
   "source": [
    "import matplotlib.pyplot as plt\n",
    "import seaborn as sns\n",
    "%matplotlib inline\n",
    "\n",
    "features = pd.DataFrame()\n",
    "features['feature'] = data_scaled.columns\n",
    "features['importance'] = DT.feature_importances_\n",
    "features.sort_values(by=['importance'], ascending=True, inplace=True)\n",
    "features.set_index('feature', inplace=True)\n",
    "features.plot(kind='barh', figsize=(5, 5))"
   ]
  },
  {
   "cell_type": "code",
   "execution_count": null,
   "metadata": {
    "collapsed": true
   },
   "outputs": [],
   "source": []
  }
 ],
 "metadata": {
  "kernelspec": {
   "display_name": "Python 3",
   "language": "python",
   "name": "python3"
  },
  "language_info": {
   "codemirror_mode": {
    "name": "ipython",
    "version": 3
   },
   "file_extension": ".py",
   "mimetype": "text/x-python",
   "name": "python",
   "nbconvert_exporter": "python",
   "pygments_lexer": "ipython3",
   "version": "3.6.3"
  }
 },
 "nbformat": 4,
 "nbformat_minor": 2
}
