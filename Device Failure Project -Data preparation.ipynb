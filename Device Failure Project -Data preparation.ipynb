{
 "cells": [
  {
   "cell_type": "markdown",
   "metadata": {},
   "source": [
    "# Device Failure Project - Sujal Padhiyar "
   ]
  },
  {
   "cell_type": "markdown",
   "metadata": {},
   "source": [
    "# Problem Statement :-\n",
    "\n",
    "
   ]
  },
  {
   "cell_type": "code",
   "execution_count": 1,
   "metadata": {
    "collapsed": true
   },
   "outputs": [],
   "source": [
    "import numpy as np\n",
    "import pandas as pd\n",
    "import seaborn as sns\n",
    "import matplotlib.pyplot as plt\n",
    "import seaborn as sns\n",
    "%matplotlib inline\n",
    "from sklearn.linear_model import LogisticRegression #logistic regression\n",
    "from sklearn import svm #support vector Machine\n",
    "from sklearn.ensemble import RandomForestClassifier #Random Forest\n",
    "from sklearn.neighbors import KNeighborsClassifier #KNN\n",
    "from sklearn.naive_bayes import GaussianNB #Naive bayes\n",
    "from sklearn.tree import DecisionTreeClassifier #Decision Tree\n",
    "from sklearn.ensemble import GradientBoostingClassifier \n",
    "from sklearn.ensemble import AdaBoostClassifier \n",
    "from sklearn.model_selection import train_test_split as tts #training and testing data split\n",
    "from sklearn import metrics #accuracy measure\n",
    "from sklearn.metrics import confusion_matrix #for confusion matrix"
   ]
  },
  {
   "cell_type": "code",
   "execution_count": 2,
   "metadata": {
    "collapsed": true
   },
   "outputs": [],
   "source": [
    "df=pd.read_csv('failures.csv')"
   ]
  },
  {
   "cell_type": "code",
   "execution_count": 3,
   "metadata": {},
   "outputs": [
    {
     "name": "stdout",
     "output_type": "stream",
     "text": [
      "<class 'pandas.core.frame.DataFrame'>\n",
      "RangeIndex: 124494 entries, 0 to 124493\n",
      "Data columns (total 12 columns):\n",
      "date          124494 non-null object\n",
      "device        124494 non-null object\n",
      "failure       124494 non-null int64\n",
      "attribute1    124494 non-null int64\n",
      "attribute2    124494 non-null int64\n",
      "attribute3    124494 non-null int64\n",
      "attribute4    124494 non-null int64\n",
      "attribute5    124494 non-null int64\n",
      "attribute6    124494 non-null int64\n",
      "attribute7    124494 non-null int64\n",
      "attribute8    124494 non-null int64\n",
      "attribute9    124494 non-null int64\n",
      "dtypes: int64(10), object(2)\n",
      "memory usage: 11.4+ MB\n"
     ]
    }
   ],
   "source": [
    "df.info()"
   ]
  },
  {
   "cell_type": "code",
   "execution_count": 4,
   "metadata": {
    "collapsed": true
   },
   "outputs": [],
   "source": [
    "df1=df.copy()"
   ]
  },
  {
   "cell_type": "code",
   "execution_count": 17,
   "metadata": {},
   "outputs": [
    {
     "name": "stdout",
     "output_type": "stream",
     "text": [
      "<class 'pandas.core.frame.DataFrame'>\n",
      "RangeIndex: 124494 entries, 0 to 124493\n",
      "Data columns (total 12 columns):\n",
      "date          124494 non-null object\n",
      "device        124494 non-null object\n",
      "failure       124494 non-null int64\n",
      "attribute1    124494 non-null int64\n",
      "attribute2    124494 non-null int64\n",
      "attribute3    124494 non-null int64\n",
      "attribute4    124494 non-null int64\n",
      "attribute5    124494 non-null int64\n",
      "attribute6    124494 non-null int64\n",
      "attribute7    124494 non-null int64\n",
      "attribute8    124494 non-null int64\n",
      "attribute9    124494 non-null int64\n",
      "dtypes: int64(10), object(2)\n",
      "memory usage: 11.4+ MB\n"
     ]
    }
   ],
   "source": [
    "df1.info()"
   ]
  },
  {
   "cell_type": "code",
   "execution_count": 5,
   "metadata": {},
   "outputs": [
    {
     "data": {
      "text/html": [
       "<div>\n",
       "<style>\n",
       "    .dataframe thead tr:only-child th {\n",
       "        text-align: right;\n",
       "    }\n",
       "\n",
       "    .dataframe thead th {\n",
       "        text-align: left;\n",
       "    }\n",
       "\n",
       "    .dataframe tbody tr th {\n",
       "        vertical-align: top;\n",
       "    }\n",
       "</style>\n",
       "<table border=\"1\" class=\"dataframe\">\n",
       "  <thead>\n",
       "    <tr style=\"text-align: right;\">\n",
       "      <th></th>\n",
       "      <th>date</th>\n",
       "      <th>device</th>\n",
       "      <th>failure</th>\n",
       "      <th>attribute1</th>\n",
       "      <th>attribute2</th>\n",
       "      <th>attribute3</th>\n",
       "      <th>attribute4</th>\n",
       "      <th>attribute5</th>\n",
       "      <th>attribute6</th>\n",
       "      <th>attribute7</th>\n",
       "      <th>attribute8</th>\n",
       "      <th>attribute9</th>\n",
       "    </tr>\n",
       "  </thead>\n",
       "  <tbody>\n",
       "    <tr>\n",
       "      <th>0</th>\n",
       "      <td>2015-01-01</td>\n",
       "      <td>S1F01085</td>\n",
       "      <td>0</td>\n",
       "      <td>215630672</td>\n",
       "      <td>56</td>\n",
       "      <td>0</td>\n",
       "      <td>52</td>\n",
       "      <td>6</td>\n",
       "      <td>407438</td>\n",
       "      <td>0</td>\n",
       "      <td>0</td>\n",
       "      <td>7</td>\n",
       "    </tr>\n",
       "    <tr>\n",
       "      <th>1</th>\n",
       "      <td>2015-01-01</td>\n",
       "      <td>S1F0166B</td>\n",
       "      <td>0</td>\n",
       "      <td>61370680</td>\n",
       "      <td>0</td>\n",
       "      <td>3</td>\n",
       "      <td>0</td>\n",
       "      <td>6</td>\n",
       "      <td>403174</td>\n",
       "      <td>0</td>\n",
       "      <td>0</td>\n",
       "      <td>0</td>\n",
       "    </tr>\n",
       "    <tr>\n",
       "      <th>2</th>\n",
       "      <td>2015-01-01</td>\n",
       "      <td>S1F01E6Y</td>\n",
       "      <td>0</td>\n",
       "      <td>173295968</td>\n",
       "      <td>0</td>\n",
       "      <td>0</td>\n",
       "      <td>0</td>\n",
       "      <td>12</td>\n",
       "      <td>237394</td>\n",
       "      <td>0</td>\n",
       "      <td>0</td>\n",
       "      <td>0</td>\n",
       "    </tr>\n",
       "    <tr>\n",
       "      <th>3</th>\n",
       "      <td>2015-01-01</td>\n",
       "      <td>S1F01JE0</td>\n",
       "      <td>0</td>\n",
       "      <td>79694024</td>\n",
       "      <td>0</td>\n",
       "      <td>0</td>\n",
       "      <td>0</td>\n",
       "      <td>6</td>\n",
       "      <td>410186</td>\n",
       "      <td>0</td>\n",
       "      <td>0</td>\n",
       "      <td>0</td>\n",
       "    </tr>\n",
       "    <tr>\n",
       "      <th>4</th>\n",
       "      <td>2015-01-01</td>\n",
       "      <td>S1F01R2B</td>\n",
       "      <td>0</td>\n",
       "      <td>135970480</td>\n",
       "      <td>0</td>\n",
       "      <td>0</td>\n",
       "      <td>0</td>\n",
       "      <td>15</td>\n",
       "      <td>313173</td>\n",
       "      <td>0</td>\n",
       "      <td>0</td>\n",
       "      <td>3</td>\n",
       "    </tr>\n",
       "  </tbody>\n",
       "</table>\n",
       "</div>"
      ],
      "text/plain": [
       "         date    device  failure  attribute1  attribute2  attribute3  \\\n",
       "0  2015-01-01  S1F01085        0   215630672          56           0   \n",
       "1  2015-01-01  S1F0166B        0    61370680           0           3   \n",
       "2  2015-01-01  S1F01E6Y        0   173295968           0           0   \n",
       "3  2015-01-01  S1F01JE0        0    79694024           0           0   \n",
       "4  2015-01-01  S1F01R2B        0   135970480           0           0   \n",
       "\n",
       "   attribute4  attribute5  attribute6  attribute7  attribute8  attribute9  \n",
       "0          52           6      407438           0           0           7  \n",
       "1           0           6      403174           0           0           0  \n",
       "2           0          12      237394           0           0           0  \n",
       "3           0           6      410186           0           0           0  \n",
       "4           0          15      313173           0           0           3  "
      ]
     },
     "execution_count": 5,
     "metadata": {},
     "output_type": "execute_result"
    }
   ],
   "source": [
    "df1.head()"
   ]
  },
  {
   "cell_type": "code",
   "execution_count": 6,
   "metadata": {
    "collapsed": true,
    "scrolled": true
   },
   "outputs": [],
   "source": [
    "#list(df.device.unique())"
   ]
  },
  {
   "cell_type": "code",
   "execution_count": 19,
   "metadata": {},
   "outputs": [
    {
     "data": {
      "text/plain": [
       "1168"
      ]
     },
     "execution_count": 19,
     "metadata": {},
     "output_type": "execute_result"
    }
   ],
   "source": [
    "df.device.nunique()"
   ]
  },
  {
   "cell_type": "code",
   "execution_count": 34,
   "metadata": {},
   "outputs": [
    {
     "name": "stdout",
     "output_type": "stream",
     "text": [
      "Total devices which are failed out of 1168 devices =  106\n",
      "Total devices which are Not failed out of 1168 devices =  1062\n",
      "Total Unique devices =  1168\n"
     ]
    }
   ],
   "source": [
    "defaultid = df1[df1.failure == 1].device.unique()\n",
    "\n",
    "print(\"Total devices which are failed out of 1168 devices = \", df1[df1.device.isin(defaultid)].device.nunique())\n",
    "print(\"Total devices which are Not failed out of 1168 devices = \",df1[~df1.device.isin(defaultid)].device.nunique())\n",
    "print(\"Total Unique devices = \",df1.device.nunique())"
   ]
  },
  {
   "cell_type": "code",
   "execution_count": 29,
   "metadata": {},
   "outputs": [
    {
     "data": {
      "text/plain": [
       "1168"
      ]
     },
     "execution_count": 29,
     "metadata": {},
     "output_type": "execute_result"
    }
   ],
   "source": [
    "df1.device.nunique()"
   ]
  },
  {
   "cell_type": "code",
   "execution_count": 7,
   "metadata": {
    "collapsed": true
   },
   "outputs": [],
   "source": [
    "#df1[(df1['device']=='S1F0LD15') & (df1['failure']==1)]\n",
    "#df1[(df1['device']=='S1F0LD15') & (df1['failure']==0)]\n",
    "#df1[df1['failure']==1]"
   ]
  },
  {
   "cell_type": "code",
   "execution_count": 8,
   "metadata": {},
   "outputs": [
    {
     "data": {
      "text/plain": [
       "<matplotlib.axes._subplots.AxesSubplot at 0x10af86438>"
      ]
     },
     "execution_count": 8,
     "metadata": {},
     "output_type": "execute_result"
    },
    {
     "data": {
      "image/png": "iVBORw0KGgoAAAANSUhEUgAAAksAAAHHCAYAAACvJxw8AAAABHNCSVQICAgIfAhkiAAAAAlwSFlz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\nUgghhBBCHv8PpsF5BLT1zzYAAAAASUVORK5CYII=\n",
      "text/plain": [
       "<matplotlib.figure.Figure at 0x105bf84e0>"
      ]
     },
     "metadata": {},
     "output_type": "display_data"
    }
   ],
   "source": [
    "fig, ax = plt.subplots(figsize=(10, 7))\n",
    "Corr = df1[df1.columns].corr()\n",
    "sns.heatmap(Corr,annot=True,linewidths=0.5)"
   ]
  },
  {
   "cell_type": "markdown",
   "metadata": {},
   "source": [
    "# Created df2 dataframe for just data observation"
   ]
  },
  {
   "cell_type": "code",
   "execution_count": 37,
   "metadata": {
    "collapsed": true
   },
   "outputs": [],
   "source": [
    "df2=df.copy()"
   ]
  },
  {
   "cell_type": "code",
   "execution_count": 38,
   "metadata": {
    "collapsed": true
   },
   "outputs": [],
   "source": [
    "df2['month'] = df2.date.map(lambda x: x.split('-')[1])"
   ]
  },
  {
   "cell_type": "code",
   "execution_count": 72,
   "metadata": {
    "scrolled": true
   },
   "outputs": [
    {
     "name": "stdout",
     "output_type": "stream",
     "text": [
      "<class 'pandas.core.frame.DataFrame'>\n",
      "RangeIndex: 124494 entries, 0 to 124493\n",
      "Data columns (total 13 columns):\n",
      "date          124494 non-null object\n",
      "device        124494 non-null object\n",
      "failure       124494 non-null int64\n",
      "attribute1    124494 non-null int64\n",
      "attribute2    124494 non-null int64\n",
      "attribute3    124494 non-null int64\n",
      "attribute4    124494 non-null int64\n",
      "attribute5    124494 non-null int64\n",
      "attribute6    124494 non-null int64\n",
      "attribute7    124494 non-null int64\n",
      "attribute8    124494 non-null int64\n",
      "attribute9    124494 non-null int64\n",
      "month         124494 non-null object\n",
      "dtypes: int64(10), object(3)\n",
      "memory usage: 12.3+ MB\n"
     ]
    }
   ],
   "source": [
    "df2.info()"
   ]
  },
  {
   "cell_type": "code",
   "execution_count": 57,
   "metadata": {},
   "outputs": [
    {
     "data": {
      "text/html": [
       "<div>\n",
       "<style>\n",
       "    .dataframe thead tr:only-child th {\n",
       "        text-align: right;\n",
       "    }\n",
       "\n",
       "    .dataframe thead th {\n",
       "        text-align: left;\n",
       "    }\n",
       "\n",
       "    .dataframe tbody tr th {\n",
       "        vertical-align: top;\n",
       "    }\n",
       "</style>\n",
       "<table border=\"1\" class=\"dataframe\">\n",
       "  <thead>\n",
       "    <tr style=\"text-align: right;\">\n",
       "      <th></th>\n",
       "      <th>date</th>\n",
       "      <th>device</th>\n",
       "      <th>failure</th>\n",
       "      <th>attribute1</th>\n",
       "      <th>attribute2</th>\n",
       "      <th>attribute3</th>\n",
       "      <th>attribute4</th>\n",
       "      <th>attribute5</th>\n",
       "      <th>attribute6</th>\n",
       "      <th>attribute7</th>\n",
       "      <th>attribute8</th>\n",
       "      <th>attribute9</th>\n",
       "      <th>month</th>\n",
       "    </tr>\n",
       "  </thead>\n",
       "  <tbody>\n",
       "    <tr>\n",
       "      <th>124294</th>\n",
       "      <td>2015-10-25</td>\n",
       "      <td>W1F0JY02</td>\n",
       "      <td>0</td>\n",
       "      <td>54892240</td>\n",
       "      <td>0</td>\n",
       "      <td>0</td>\n",
       "      <td>0</td>\n",
       "      <td>7</td>\n",
       "      <td>348006</td>\n",
       "      <td>0</td>\n",
       "      <td>0</td>\n",
       "      <td>0</td>\n",
       "      <td>10</td>\n",
       "    </tr>\n",
       "    <tr>\n",
       "      <th>124295</th>\n",
       "      <td>2015-10-25</td>\n",
       "      <td>W1F0N84F</td>\n",
       "      <td>0</td>\n",
       "      <td>196661680</td>\n",
       "      <td>0</td>\n",
       "      <td>0</td>\n",
       "      <td>0</td>\n",
       "      <td>7</td>\n",
       "      <td>400473</td>\n",
       "      <td>0</td>\n",
       "      <td>0</td>\n",
       "      <td>1</td>\n",
       "      <td>10</td>\n",
       "    </tr>\n",
       "    <tr>\n",
       "      <th>124296</th>\n",
       "      <td>2015-10-25</td>\n",
       "      <td>W1F0SJJ2</td>\n",
       "      <td>0</td>\n",
       "      <td>62838704</td>\n",
       "      <td>0</td>\n",
       "      <td>0</td>\n",
       "      <td>0</td>\n",
       "      <td>11</td>\n",
       "      <td>354673</td>\n",
       "      <td>0</td>\n",
       "      <td>0</td>\n",
       "      <td>0</td>\n",
       "      <td>10</td>\n",
       "    </tr>\n",
       "    <tr>\n",
       "      <th>124297</th>\n",
       "      <td>2015-10-25</td>\n",
       "      <td>W1F0T0B1</td>\n",
       "      <td>0</td>\n",
       "      <td>86280056</td>\n",
       "      <td>0</td>\n",
       "      <td>0</td>\n",
       "      <td>7</td>\n",
       "      <td>9</td>\n",
       "      <td>354072</td>\n",
       "      <td>22</td>\n",
       "      <td>22</td>\n",
       "      <td>0</td>\n",
       "      <td>10</td>\n",
       "    </tr>\n",
       "    <tr>\n",
       "      <th>124298</th>\n",
       "      <td>2015-10-25</td>\n",
       "      <td>Z1F0GB8A</td>\n",
       "      <td>0</td>\n",
       "      <td>5005048</td>\n",
       "      <td>0</td>\n",
       "      <td>0</td>\n",
       "      <td>0</td>\n",
       "      <td>8</td>\n",
       "      <td>354393</td>\n",
       "      <td>0</td>\n",
       "      <td>0</td>\n",
       "      <td>0</td>\n",
       "      <td>10</td>\n",
       "    </tr>\n",
       "    <tr>\n",
       "      <th>124299</th>\n",
       "      <td>2015-10-25</td>\n",
       "      <td>Z1F0GE1M</td>\n",
       "      <td>0</td>\n",
       "      <td>44889816</td>\n",
       "      <td>0</td>\n",
       "      <td>0</td>\n",
       "      <td>0</td>\n",
       "      <td>9</td>\n",
       "      <td>347128</td>\n",
       "      <td>0</td>\n",
       "      <td>0</td>\n",
       "      <td>0</td>\n",
       "      <td>10</td>\n",
       "    </tr>\n",
       "    <tr>\n",
       "      <th>124300</th>\n",
       "      <td>2015-10-25</td>\n",
       "      <td>Z1F0KJDS</td>\n",
       "      <td>0</td>\n",
       "      <td>243804096</td>\n",
       "      <td>0</td>\n",
       "      <td>0</td>\n",
       "      <td>0</td>\n",
       "      <td>10</td>\n",
       "      <td>355328</td>\n",
       "      <td>0</td>\n",
       "      <td>0</td>\n",
       "      <td>0</td>\n",
       "      <td>10</td>\n",
       "    </tr>\n",
       "    <tr>\n",
       "      <th>124301</th>\n",
       "      <td>2015-10-25</td>\n",
       "      <td>Z1F0KKN4</td>\n",
       "      <td>0</td>\n",
       "      <td>135759120</td>\n",
       "      <td>0</td>\n",
       "      <td>0</td>\n",
       "      <td>0</td>\n",
       "      <td>8</td>\n",
       "      <td>348544</td>\n",
       "      <td>0</td>\n",
       "      <td>0</td>\n",
       "      <td>0</td>\n",
       "      <td>10</td>\n",
       "    </tr>\n",
       "    <tr>\n",
       "      <th>124302</th>\n",
       "      <td>2015-10-25</td>\n",
       "      <td>Z1F0MA1S</td>\n",
       "      <td>0</td>\n",
       "      <td>51916760</td>\n",
       "      <td>0</td>\n",
       "      <td>0</td>\n",
       "      <td>0</td>\n",
       "      <td>9</td>\n",
       "      <td>350805</td>\n",
       "      <td>0</td>\n",
       "      <td>0</td>\n",
       "      <td>0</td>\n",
       "      <td>10</td>\n",
       "    </tr>\n",
       "    <tr>\n",
       "      <th>124303</th>\n",
       "      <td>2015-10-25</td>\n",
       "      <td>Z1F0Q8RT</td>\n",
       "      <td>0</td>\n",
       "      <td>241615192</td>\n",
       "      <td>72</td>\n",
       "      <td>107</td>\n",
       "      <td>4</td>\n",
       "      <td>10</td>\n",
       "      <td>329909</td>\n",
       "      <td>0</td>\n",
       "      <td>0</td>\n",
       "      <td>13</td>\n",
       "      <td>10</td>\n",
       "    </tr>\n",
       "    <tr>\n",
       "      <th>124304</th>\n",
       "      <td>2015-10-25</td>\n",
       "      <td>Z1F0QK05</td>\n",
       "      <td>0</td>\n",
       "      <td>81936040</td>\n",
       "      <td>4832</td>\n",
       "      <td>0</td>\n",
       "      <td>0</td>\n",
       "      <td>10</td>\n",
       "      <td>347667</td>\n",
       "      <td>0</td>\n",
       "      <td>0</td>\n",
       "      <td>0</td>\n",
       "      <td>10</td>\n",
       "    </tr>\n",
       "    <tr>\n",
       "      <th>124305</th>\n",
       "      <td>2015-10-25</td>\n",
       "      <td>Z1F0QL3N</td>\n",
       "      <td>0</td>\n",
       "      <td>170577064</td>\n",
       "      <td>0</td>\n",
       "      <td>0</td>\n",
       "      <td>0</td>\n",
       "      <td>11</td>\n",
       "      <td>356275</td>\n",
       "      <td>0</td>\n",
       "      <td>0</td>\n",
       "      <td>0</td>\n",
       "      <td>10</td>\n",
       "    </tr>\n",
       "    <tr>\n",
       "      <th>124306</th>\n",
       "      <td>2015-10-25</td>\n",
       "      <td>Z1F0QLC1</td>\n",
       "      <td>0</td>\n",
       "      <td>98969768</td>\n",
       "      <td>0</td>\n",
       "      <td>0</td>\n",
       "      <td>0</td>\n",
       "      <td>9</td>\n",
       "      <td>348703</td>\n",
       "      <td>0</td>\n",
       "      <td>0</td>\n",
       "      <td>0</td>\n",
       "      <td>10</td>\n",
       "    </tr>\n",
       "    <tr>\n",
       "      <th>124307</th>\n",
       "      <td>2015-10-26</td>\n",
       "      <td>S1F0E9EP</td>\n",
       "      <td>0</td>\n",
       "      <td>106914552</td>\n",
       "      <td>0</td>\n",
       "      <td>0</td>\n",
       "      <td>0</td>\n",
       "      <td>10</td>\n",
       "      <td>350271</td>\n",
       "      <td>0</td>\n",
       "      <td>0</td>\n",
       "      <td>0</td>\n",
       "      <td>10</td>\n",
       "    </tr>\n",
       "    <tr>\n",
       "      <th>124308</th>\n",
       "      <td>2015-10-26</td>\n",
       "      <td>S1F0EGMT</td>\n",
       "      <td>0</td>\n",
       "      <td>188270040</td>\n",
       "      <td>0</td>\n",
       "      <td>0</td>\n",
       "      <td>12</td>\n",
       "      <td>11</td>\n",
       "      <td>345969</td>\n",
       "      <td>32</td>\n",
       "      <td>32</td>\n",
       "      <td>0</td>\n",
       "      <td>10</td>\n",
       "    </tr>\n",
       "    <tr>\n",
       "      <th>124309</th>\n",
       "      <td>2015-10-26</td>\n",
       "      <td>S1F0FGBQ</td>\n",
       "      <td>0</td>\n",
       "      <td>11403392</td>\n",
       "      <td>0</td>\n",
       "      <td>0</td>\n",
       "      <td>0</td>\n",
       "      <td>11</td>\n",
       "      <td>305825</td>\n",
       "      <td>0</td>\n",
       "      <td>0</td>\n",
       "      <td>0</td>\n",
       "      <td>10</td>\n",
       "    </tr>\n",
       "    <tr>\n",
       "      <th>124310</th>\n",
       "      <td>2015-10-26</td>\n",
       "      <td>S1F0FP0C</td>\n",
       "      <td>0</td>\n",
       "      <td>150529656</td>\n",
       "      <td>0</td>\n",
       "      <td>0</td>\n",
       "      <td>0</td>\n",
       "      <td>11</td>\n",
       "      <td>352262</td>\n",
       "      <td>0</td>\n",
       "      <td>0</td>\n",
       "      <td>0</td>\n",
       "      <td>10</td>\n",
       "    </tr>\n",
       "    <tr>\n",
       "      <th>124311</th>\n",
       "      <td>2015-10-26</td>\n",
       "      <td>S1F0GCED</td>\n",
       "      <td>0</td>\n",
       "      <td>15068192</td>\n",
       "      <td>64792</td>\n",
       "      <td>0</td>\n",
       "      <td>7</td>\n",
       "      <td>10</td>\n",
       "      <td>339302</td>\n",
       "      <td>0</td>\n",
       "      <td>0</td>\n",
       "      <td>0</td>\n",
       "      <td>10</td>\n",
       "    </tr>\n",
       "    <tr>\n",
       "      <th>124312</th>\n",
       "      <td>2015-10-26</td>\n",
       "      <td>S1F0GGPP</td>\n",
       "      <td>0</td>\n",
       "      <td>97886768</td>\n",
       "      <td>0</td>\n",
       "      <td>2112</td>\n",
       "      <td>0</td>\n",
       "      <td>11</td>\n",
       "      <td>357610</td>\n",
       "      <td>0</td>\n",
       "      <td>0</td>\n",
       "      <td>0</td>\n",
       "      <td>10</td>\n",
       "    </tr>\n",
       "    <tr>\n",
       "      <th>124313</th>\n",
       "      <td>2015-10-26</td>\n",
       "      <td>S1F0GPXY</td>\n",
       "      <td>0</td>\n",
       "      <td>240243392</td>\n",
       "      <td>0</td>\n",
       "      <td>0</td>\n",
       "      <td>0</td>\n",
       "      <td>10</td>\n",
       "      <td>348231</td>\n",
       "      <td>0</td>\n",
       "      <td>0</td>\n",
       "      <td>9</td>\n",
       "      <td>10</td>\n",
       "    </tr>\n",
       "    <tr>\n",
       "      <th>124314</th>\n",
       "      <td>2015-10-26</td>\n",
       "      <td>S1F0H6JG</td>\n",
       "      <td>0</td>\n",
       "      <td>36793416</td>\n",
       "      <td>0</td>\n",
       "      <td>0</td>\n",
       "      <td>0</td>\n",
       "      <td>9</td>\n",
       "      <td>343515</td>\n",
       "      <td>0</td>\n",
       "      <td>0</td>\n",
       "      <td>0</td>\n",
       "      <td>10</td>\n",
       "    </tr>\n",
       "    <tr>\n",
       "      <th>124315</th>\n",
       "      <td>2015-10-26</td>\n",
       "      <td>S1F0KYCR</td>\n",
       "      <td>0</td>\n",
       "      <td>35780256</td>\n",
       "      <td>0</td>\n",
       "      <td>0</td>\n",
       "      <td>0</td>\n",
       "      <td>11</td>\n",
       "      <td>349827</td>\n",
       "      <td>0</td>\n",
       "      <td>0</td>\n",
       "      <td>0</td>\n",
       "      <td>10</td>\n",
       "    </tr>\n",
       "    <tr>\n",
       "      <th>124316</th>\n",
       "      <td>2015-10-26</td>\n",
       "      <td>S1F0S561</td>\n",
       "      <td>0</td>\n",
       "      <td>209077752</td>\n",
       "      <td>0</td>\n",
       "      <td>0</td>\n",
       "      <td>0</td>\n",
       "      <td>15</td>\n",
       "      <td>349286</td>\n",
       "      <td>0</td>\n",
       "      <td>0</td>\n",
       "      <td>0</td>\n",
       "      <td>10</td>\n",
       "    </tr>\n",
       "    <tr>\n",
       "      <th>124317</th>\n",
       "      <td>2015-10-26</td>\n",
       "      <td>S1F10HH5</td>\n",
       "      <td>0</td>\n",
       "      <td>11481552</td>\n",
       "      <td>0</td>\n",
       "      <td>0</td>\n",
       "      <td>0</td>\n",
       "      <td>11</td>\n",
       "      <td>479448</td>\n",
       "      <td>0</td>\n",
       "      <td>0</td>\n",
       "      <td>0</td>\n",
       "      <td>10</td>\n",
       "    </tr>\n",
       "    <tr>\n",
       "      <th>124318</th>\n",
       "      <td>2015-10-26</td>\n",
       "      <td>S1F10RWZ</td>\n",
       "      <td>0</td>\n",
       "      <td>179993272</td>\n",
       "      <td>0</td>\n",
       "      <td>0</td>\n",
       "      <td>0</td>\n",
       "      <td>14</td>\n",
       "      <td>355838</td>\n",
       "      <td>0</td>\n",
       "      <td>0</td>\n",
       "      <td>0</td>\n",
       "      <td>10</td>\n",
       "    </tr>\n",
       "    <tr>\n",
       "      <th>124319</th>\n",
       "      <td>2015-10-26</td>\n",
       "      <td>W1F05X69</td>\n",
       "      <td>0</td>\n",
       "      <td>132040376</td>\n",
       "      <td>0</td>\n",
       "      <td>0</td>\n",
       "      <td>2</td>\n",
       "      <td>4</td>\n",
       "      <td>346919</td>\n",
       "      <td>0</td>\n",
       "      <td>0</td>\n",
       "      <td>4</td>\n",
       "      <td>10</td>\n",
       "    </tr>\n",
       "    <tr>\n",
       "      <th>124320</th>\n",
       "      <td>2015-10-26</td>\n",
       "      <td>W1F0FEH7</td>\n",
       "      <td>0</td>\n",
       "      <td>205031264</td>\n",
       "      <td>0</td>\n",
       "      <td>0</td>\n",
       "      <td>0</td>\n",
       "      <td>11</td>\n",
       "      <td>357568</td>\n",
       "      <td>0</td>\n",
       "      <td>0</td>\n",
       "      <td>0</td>\n",
       "      <td>10</td>\n",
       "    </tr>\n",
       "    <tr>\n",
       "      <th>124321</th>\n",
       "      <td>2015-10-26</td>\n",
       "      <td>W1F0FY92</td>\n",
       "      <td>0</td>\n",
       "      <td>40383576</td>\n",
       "      <td>0</td>\n",
       "      <td>1</td>\n",
       "      <td>6</td>\n",
       "      <td>14</td>\n",
       "      <td>351716</td>\n",
       "      <td>0</td>\n",
       "      <td>0</td>\n",
       "      <td>1</td>\n",
       "      <td>10</td>\n",
       "    </tr>\n",
       "    <tr>\n",
       "      <th>124322</th>\n",
       "      <td>2015-10-26</td>\n",
       "      <td>W1F0FZPA</td>\n",
       "      <td>0</td>\n",
       "      <td>145786400</td>\n",
       "      <td>0</td>\n",
       "      <td>0</td>\n",
       "      <td>0</td>\n",
       "      <td>14</td>\n",
       "      <td>351451</td>\n",
       "      <td>0</td>\n",
       "      <td>0</td>\n",
       "      <td>0</td>\n",
       "      <td>10</td>\n",
       "    </tr>\n",
       "    <tr>\n",
       "      <th>124323</th>\n",
       "      <td>2015-10-26</td>\n",
       "      <td>W1F0G9T7</td>\n",
       "      <td>0</td>\n",
       "      <td>93190512</td>\n",
       "      <td>0</td>\n",
       "      <td>0</td>\n",
       "      <td>0</td>\n",
       "      <td>12</td>\n",
       "      <td>352500</td>\n",
       "      <td>72</td>\n",
       "      <td>72</td>\n",
       "      <td>2</td>\n",
       "      <td>10</td>\n",
       "    </tr>\n",
       "    <tr>\n",
       "      <th>...</th>\n",
       "      <td>...</td>\n",
       "      <td>...</td>\n",
       "      <td>...</td>\n",
       "      <td>...</td>\n",
       "      <td>...</td>\n",
       "      <td>...</td>\n",
       "      <td>...</td>\n",
       "      <td>...</td>\n",
       "      <td>...</td>\n",
       "      <td>...</td>\n",
       "      <td>...</td>\n",
       "      <td>...</td>\n",
       "      <td>...</td>\n",
       "    </tr>\n",
       "    <tr>\n",
       "      <th>124464</th>\n",
       "      <td>2015-11-02</td>\n",
       "      <td>S1F0EGMT</td>\n",
       "      <td>0</td>\n",
       "      <td>159867281</td>\n",
       "      <td>0</td>\n",
       "      <td>0</td>\n",
       "      <td>13</td>\n",
       "      <td>11</td>\n",
       "      <td>347165</td>\n",
       "      <td>32</td>\n",
       "      <td>32</td>\n",
       "      <td>0</td>\n",
       "      <td>11</td>\n",
       "    </tr>\n",
       "    <tr>\n",
       "      <th>124465</th>\n",
       "      <td>2015-11-02</td>\n",
       "      <td>S1F0FGBQ</td>\n",
       "      <td>0</td>\n",
       "      <td>198816136</td>\n",
       "      <td>0</td>\n",
       "      <td>0</td>\n",
       "      <td>0</td>\n",
       "      <td>12</td>\n",
       "      <td>309988</td>\n",
       "      <td>0</td>\n",
       "      <td>0</td>\n",
       "      <td>0</td>\n",
       "      <td>11</td>\n",
       "    </tr>\n",
       "    <tr>\n",
       "      <th>124466</th>\n",
       "      <td>2015-11-02</td>\n",
       "      <td>S1F0FP0C</td>\n",
       "      <td>0</td>\n",
       "      <td>179176160</td>\n",
       "      <td>0</td>\n",
       "      <td>0</td>\n",
       "      <td>0</td>\n",
       "      <td>12</td>\n",
       "      <td>356892</td>\n",
       "      <td>0</td>\n",
       "      <td>0</td>\n",
       "      <td>0</td>\n",
       "      <td>11</td>\n",
       "    </tr>\n",
       "    <tr>\n",
       "      <th>124467</th>\n",
       "      <td>2015-11-02</td>\n",
       "      <td>S1F0GCED</td>\n",
       "      <td>0</td>\n",
       "      <td>94904784</td>\n",
       "      <td>64792</td>\n",
       "      <td>0</td>\n",
       "      <td>7</td>\n",
       "      <td>11</td>\n",
       "      <td>341541</td>\n",
       "      <td>0</td>\n",
       "      <td>0</td>\n",
       "      <td>0</td>\n",
       "      <td>11</td>\n",
       "    </tr>\n",
       "    <tr>\n",
       "      <th>124468</th>\n",
       "      <td>2015-11-02</td>\n",
       "      <td>S1F0GGPP</td>\n",
       "      <td>0</td>\n",
       "      <td>183027976</td>\n",
       "      <td>0</td>\n",
       "      <td>2112</td>\n",
       "      <td>0</td>\n",
       "      <td>12</td>\n",
       "      <td>362350</td>\n",
       "      <td>0</td>\n",
       "      <td>0</td>\n",
       "      <td>0</td>\n",
       "      <td>11</td>\n",
       "    </tr>\n",
       "    <tr>\n",
       "      <th>124469</th>\n",
       "      <td>2015-11-02</td>\n",
       "      <td>S1F0GPXY</td>\n",
       "      <td>0</td>\n",
       "      <td>100353624</td>\n",
       "      <td>0</td>\n",
       "      <td>0</td>\n",
       "      <td>0</td>\n",
       "      <td>11</td>\n",
       "      <td>352831</td>\n",
       "      <td>0</td>\n",
       "      <td>0</td>\n",
       "      <td>10</td>\n",
       "      <td>11</td>\n",
       "    </tr>\n",
       "    <tr>\n",
       "      <th>124470</th>\n",
       "      <td>2015-11-02</td>\n",
       "      <td>S1F0H6JG</td>\n",
       "      <td>0</td>\n",
       "      <td>159855344</td>\n",
       "      <td>0</td>\n",
       "      <td>0</td>\n",
       "      <td>0</td>\n",
       "      <td>10</td>\n",
       "      <td>345928</td>\n",
       "      <td>0</td>\n",
       "      <td>0</td>\n",
       "      <td>0</td>\n",
       "      <td>11</td>\n",
       "    </tr>\n",
       "    <tr>\n",
       "      <th>124471</th>\n",
       "      <td>2015-11-02</td>\n",
       "      <td>S1F0KYCR</td>\n",
       "      <td>0</td>\n",
       "      <td>123741008</td>\n",
       "      <td>0</td>\n",
       "      <td>0</td>\n",
       "      <td>0</td>\n",
       "      <td>12</td>\n",
       "      <td>354413</td>\n",
       "      <td>0</td>\n",
       "      <td>0</td>\n",
       "      <td>0</td>\n",
       "      <td>11</td>\n",
       "    </tr>\n",
       "    <tr>\n",
       "      <th>124472</th>\n",
       "      <td>2015-11-02</td>\n",
       "      <td>S1F0S561</td>\n",
       "      <td>0</td>\n",
       "      <td>73661456</td>\n",
       "      <td>0</td>\n",
       "      <td>0</td>\n",
       "      <td>0</td>\n",
       "      <td>16</td>\n",
       "      <td>351675</td>\n",
       "      <td>0</td>\n",
       "      <td>0</td>\n",
       "      <td>0</td>\n",
       "      <td>11</td>\n",
       "    </tr>\n",
       "    <tr>\n",
       "      <th>124473</th>\n",
       "      <td>2015-11-02</td>\n",
       "      <td>S1F10HH5</td>\n",
       "      <td>0</td>\n",
       "      <td>42128776</td>\n",
       "      <td>0</td>\n",
       "      <td>0</td>\n",
       "      <td>0</td>\n",
       "      <td>12</td>\n",
       "      <td>484090</td>\n",
       "      <td>0</td>\n",
       "      <td>0</td>\n",
       "      <td>0</td>\n",
       "      <td>11</td>\n",
       "    </tr>\n",
       "    <tr>\n",
       "      <th>124474</th>\n",
       "      <td>2015-11-02</td>\n",
       "      <td>S1F10RWZ</td>\n",
       "      <td>0</td>\n",
       "      <td>146729096</td>\n",
       "      <td>0</td>\n",
       "      <td>0</td>\n",
       "      <td>0</td>\n",
       "      <td>15</td>\n",
       "      <td>358307</td>\n",
       "      <td>0</td>\n",
       "      <td>0</td>\n",
       "      <td>0</td>\n",
       "      <td>11</td>\n",
       "    </tr>\n",
       "    <tr>\n",
       "      <th>124475</th>\n",
       "      <td>2015-11-02</td>\n",
       "      <td>W1F05X69</td>\n",
       "      <td>0</td>\n",
       "      <td>201954496</td>\n",
       "      <td>0</td>\n",
       "      <td>0</td>\n",
       "      <td>2</td>\n",
       "      <td>5</td>\n",
       "      <td>351522</td>\n",
       "      <td>0</td>\n",
       "      <td>0</td>\n",
       "      <td>4</td>\n",
       "      <td>11</td>\n",
       "    </tr>\n",
       "    <tr>\n",
       "      <th>124476</th>\n",
       "      <td>2015-11-02</td>\n",
       "      <td>W1F0FEH7</td>\n",
       "      <td>0</td>\n",
       "      <td>54054848</td>\n",
       "      <td>0</td>\n",
       "      <td>0</td>\n",
       "      <td>0</td>\n",
       "      <td>12</td>\n",
       "      <td>360054</td>\n",
       "      <td>0</td>\n",
       "      <td>0</td>\n",
       "      <td>0</td>\n",
       "      <td>11</td>\n",
       "    </tr>\n",
       "    <tr>\n",
       "      <th>124477</th>\n",
       "      <td>2015-11-02</td>\n",
       "      <td>W1F0FY92</td>\n",
       "      <td>0</td>\n",
       "      <td>128174672</td>\n",
       "      <td>0</td>\n",
       "      <td>1</td>\n",
       "      <td>6</td>\n",
       "      <td>15</td>\n",
       "      <td>356320</td>\n",
       "      <td>0</td>\n",
       "      <td>0</td>\n",
       "      <td>1</td>\n",
       "      <td>11</td>\n",
       "    </tr>\n",
       "    <tr>\n",
       "      <th>124478</th>\n",
       "      <td>2015-11-02</td>\n",
       "      <td>W1F0FZPA</td>\n",
       "      <td>0</td>\n",
       "      <td>91318232</td>\n",
       "      <td>0</td>\n",
       "      <td>0</td>\n",
       "      <td>0</td>\n",
       "      <td>15</td>\n",
       "      <td>353974</td>\n",
       "      <td>0</td>\n",
       "      <td>0</td>\n",
       "      <td>0</td>\n",
       "      <td>11</td>\n",
       "    </tr>\n",
       "    <tr>\n",
       "      <th>124479</th>\n",
       "      <td>2015-11-02</td>\n",
       "      <td>W1F0G9T7</td>\n",
       "      <td>0</td>\n",
       "      <td>159174456</td>\n",
       "      <td>0</td>\n",
       "      <td>0</td>\n",
       "      <td>0</td>\n",
       "      <td>13</td>\n",
       "      <td>354826</td>\n",
       "      <td>104</td>\n",
       "      <td>104</td>\n",
       "      <td>2</td>\n",
       "      <td>11</td>\n",
       "    </tr>\n",
       "    <tr>\n",
       "      <th>124480</th>\n",
       "      <td>2015-11-02</td>\n",
       "      <td>W1F0JH87</td>\n",
       "      <td>0</td>\n",
       "      <td>130553176</td>\n",
       "      <td>0</td>\n",
       "      <td>4</td>\n",
       "      <td>0</td>\n",
       "      <td>11</td>\n",
       "      <td>354600</td>\n",
       "      <td>0</td>\n",
       "      <td>0</td>\n",
       "      <td>0</td>\n",
       "      <td>11</td>\n",
       "    </tr>\n",
       "    <tr>\n",
       "      <th>124481</th>\n",
       "      <td>2015-11-02</td>\n",
       "      <td>W1F0JXDL</td>\n",
       "      <td>0</td>\n",
       "      <td>80454336</td>\n",
       "      <td>160</td>\n",
       "      <td>0</td>\n",
       "      <td>0</td>\n",
       "      <td>10</td>\n",
       "      <td>357655</td>\n",
       "      <td>0</td>\n",
       "      <td>0</td>\n",
       "      <td>0</td>\n",
       "      <td>11</td>\n",
       "    </tr>\n",
       "    <tr>\n",
       "      <th>124482</th>\n",
       "      <td>2015-11-02</td>\n",
       "      <td>W1F0JY02</td>\n",
       "      <td>0</td>\n",
       "      <td>226850672</td>\n",
       "      <td>0</td>\n",
       "      <td>0</td>\n",
       "      <td>0</td>\n",
       "      <td>8</td>\n",
       "      <td>351379</td>\n",
       "      <td>0</td>\n",
       "      <td>0</td>\n",
       "      <td>0</td>\n",
       "      <td>11</td>\n",
       "    </tr>\n",
       "    <tr>\n",
       "      <th>124483</th>\n",
       "      <td>2015-11-02</td>\n",
       "      <td>W1F0N84F</td>\n",
       "      <td>0</td>\n",
       "      <td>230641240</td>\n",
       "      <td>0</td>\n",
       "      <td>0</td>\n",
       "      <td>0</td>\n",
       "      <td>8</td>\n",
       "      <td>403165</td>\n",
       "      <td>0</td>\n",
       "      <td>0</td>\n",
       "      <td>1</td>\n",
       "      <td>11</td>\n",
       "    </tr>\n",
       "    <tr>\n",
       "      <th>124484</th>\n",
       "      <td>2015-11-02</td>\n",
       "      <td>W1F0SJJ2</td>\n",
       "      <td>0</td>\n",
       "      <td>47525320</td>\n",
       "      <td>0</td>\n",
       "      <td>0</td>\n",
       "      <td>0</td>\n",
       "      <td>12</td>\n",
       "      <td>357421</td>\n",
       "      <td>0</td>\n",
       "      <td>0</td>\n",
       "      <td>0</td>\n",
       "      <td>11</td>\n",
       "    </tr>\n",
       "    <tr>\n",
       "      <th>124485</th>\n",
       "      <td>2015-11-02</td>\n",
       "      <td>Z1F0GB8A</td>\n",
       "      <td>0</td>\n",
       "      <td>92823192</td>\n",
       "      <td>0</td>\n",
       "      <td>0</td>\n",
       "      <td>0</td>\n",
       "      <td>9</td>\n",
       "      <td>357127</td>\n",
       "      <td>0</td>\n",
       "      <td>0</td>\n",
       "      <td>0</td>\n",
       "      <td>11</td>\n",
       "    </tr>\n",
       "    <tr>\n",
       "      <th>124486</th>\n",
       "      <td>2015-11-02</td>\n",
       "      <td>Z1F0GE1M</td>\n",
       "      <td>0</td>\n",
       "      <td>222878704</td>\n",
       "      <td>0</td>\n",
       "      <td>0</td>\n",
       "      <td>0</td>\n",
       "      <td>10</td>\n",
       "      <td>349826</td>\n",
       "      <td>0</td>\n",
       "      <td>0</td>\n",
       "      <td>0</td>\n",
       "      <td>11</td>\n",
       "    </tr>\n",
       "    <tr>\n",
       "      <th>124487</th>\n",
       "      <td>2015-11-02</td>\n",
       "      <td>Z1F0KJDS</td>\n",
       "      <td>0</td>\n",
       "      <td>79883648</td>\n",
       "      <td>0</td>\n",
       "      <td>0</td>\n",
       "      <td>0</td>\n",
       "      <td>11</td>\n",
       "      <td>358121</td>\n",
       "      <td>0</td>\n",
       "      <td>0</td>\n",
       "      <td>0</td>\n",
       "      <td>11</td>\n",
       "    </tr>\n",
       "    <tr>\n",
       "      <th>124488</th>\n",
       "      <td>2015-11-02</td>\n",
       "      <td>Z1F0KKN4</td>\n",
       "      <td>0</td>\n",
       "      <td>218765712</td>\n",
       "      <td>0</td>\n",
       "      <td>0</td>\n",
       "      <td>0</td>\n",
       "      <td>9</td>\n",
       "      <td>353525</td>\n",
       "      <td>0</td>\n",
       "      <td>0</td>\n",
       "      <td>0</td>\n",
       "      <td>11</td>\n",
       "    </tr>\n",
       "    <tr>\n",
       "      <th>124489</th>\n",
       "      <td>2015-11-02</td>\n",
       "      <td>Z1F0MA1S</td>\n",
       "      <td>0</td>\n",
       "      <td>18310224</td>\n",
       "      <td>0</td>\n",
       "      <td>0</td>\n",
       "      <td>0</td>\n",
       "      <td>10</td>\n",
       "      <td>353705</td>\n",
       "      <td>8</td>\n",
       "      <td>8</td>\n",
       "      <td>0</td>\n",
       "      <td>11</td>\n",
       "    </tr>\n",
       "    <tr>\n",
       "      <th>124490</th>\n",
       "      <td>2015-11-02</td>\n",
       "      <td>Z1F0Q8RT</td>\n",
       "      <td>0</td>\n",
       "      <td>172556680</td>\n",
       "      <td>96</td>\n",
       "      <td>107</td>\n",
       "      <td>4</td>\n",
       "      <td>11</td>\n",
       "      <td>332792</td>\n",
       "      <td>0</td>\n",
       "      <td>0</td>\n",
       "      <td>13</td>\n",
       "      <td>11</td>\n",
       "    </tr>\n",
       "    <tr>\n",
       "      <th>124491</th>\n",
       "      <td>2015-11-02</td>\n",
       "      <td>Z1F0QK05</td>\n",
       "      <td>0</td>\n",
       "      <td>19029120</td>\n",
       "      <td>4832</td>\n",
       "      <td>0</td>\n",
       "      <td>0</td>\n",
       "      <td>11</td>\n",
       "      <td>350410</td>\n",
       "      <td>0</td>\n",
       "      <td>0</td>\n",
       "      <td>0</td>\n",
       "      <td>11</td>\n",
       "    </tr>\n",
       "    <tr>\n",
       "      <th>124492</th>\n",
       "      <td>2015-11-02</td>\n",
       "      <td>Z1F0QL3N</td>\n",
       "      <td>0</td>\n",
       "      <td>226953408</td>\n",
       "      <td>0</td>\n",
       "      <td>0</td>\n",
       "      <td>0</td>\n",
       "      <td>12</td>\n",
       "      <td>358980</td>\n",
       "      <td>0</td>\n",
       "      <td>0</td>\n",
       "      <td>0</td>\n",
       "      <td>11</td>\n",
       "    </tr>\n",
       "    <tr>\n",
       "      <th>124493</th>\n",
       "      <td>2015-11-02</td>\n",
       "      <td>Z1F0QLC1</td>\n",
       "      <td>0</td>\n",
       "      <td>17572840</td>\n",
       "      <td>0</td>\n",
       "      <td>0</td>\n",
       "      <td>0</td>\n",
       "      <td>10</td>\n",
       "      <td>351431</td>\n",
       "      <td>0</td>\n",
       "      <td>0</td>\n",
       "      <td>0</td>\n",
       "      <td>11</td>\n",
       "    </tr>\n",
       "  </tbody>\n",
       "</table>\n",
       "<p>200 rows × 13 columns</p>\n",
       "</div>"
      ],
      "text/plain": [
       "              date    device  failure  attribute1  attribute2  attribute3  \\\n",
       "124294  2015-10-25  W1F0JY02        0    54892240           0           0   \n",
       "124295  2015-10-25  W1F0N84F        0   196661680           0           0   \n",
       "124296  2015-10-25  W1F0SJJ2        0    62838704           0           0   \n",
       "124297  2015-10-25  W1F0T0B1        0    86280056           0           0   \n",
       "124298  2015-10-25  Z1F0GB8A        0     5005048           0           0   \n",
       "124299  2015-10-25  Z1F0GE1M        0    44889816           0           0   \n",
       "124300  2015-10-25  Z1F0KJDS        0   243804096           0           0   \n",
       "124301  2015-10-25  Z1F0KKN4        0   135759120           0           0   \n",
       "124302  2015-10-25  Z1F0MA1S        0    51916760           0           0   \n",
       "124303  2015-10-25  Z1F0Q8RT        0   241615192          72         107   \n",
       "124304  2015-10-25  Z1F0QK05        0    81936040        4832           0   \n",
       "124305  2015-10-25  Z1F0QL3N        0   170577064           0           0   \n",
       "124306  2015-10-25  Z1F0QLC1        0    98969768           0           0   \n",
       "124307  2015-10-26  S1F0E9EP        0   106914552           0           0   \n",
       "124308  2015-10-26  S1F0EGMT        0   188270040           0           0   \n",
       "124309  2015-10-26  S1F0FGBQ        0    11403392           0           0   \n",
       "124310  2015-10-26  S1F0FP0C        0   150529656           0           0   \n",
       "124311  2015-10-26  S1F0GCED        0    15068192       64792           0   \n",
       "124312  2015-10-26  S1F0GGPP        0    97886768           0        2112   \n",
       "124313  2015-10-26  S1F0GPXY        0   240243392           0           0   \n",
       "124314  2015-10-26  S1F0H6JG        0    36793416           0           0   \n",
       "124315  2015-10-26  S1F0KYCR        0    35780256           0           0   \n",
       "124316  2015-10-26  S1F0S561        0   209077752           0           0   \n",
       "124317  2015-10-26  S1F10HH5        0    11481552           0           0   \n",
       "124318  2015-10-26  S1F10RWZ        0   179993272           0           0   \n",
       "124319  2015-10-26  W1F05X69        0   132040376           0           0   \n",
       "124320  2015-10-26  W1F0FEH7        0   205031264           0           0   \n",
       "124321  2015-10-26  W1F0FY92        0    40383576           0           1   \n",
       "124322  2015-10-26  W1F0FZPA        0   145786400           0           0   \n",
       "124323  2015-10-26  W1F0G9T7        0    93190512           0           0   \n",
       "...            ...       ...      ...         ...         ...         ...   \n",
       "124464  2015-11-02  S1F0EGMT        0   159867281           0           0   \n",
       "124465  2015-11-02  S1F0FGBQ        0   198816136           0           0   \n",
       "124466  2015-11-02  S1F0FP0C        0   179176160           0           0   \n",
       "124467  2015-11-02  S1F0GCED        0    94904784       64792           0   \n",
       "124468  2015-11-02  S1F0GGPP        0   183027976           0        2112   \n",
       "124469  2015-11-02  S1F0GPXY        0   100353624           0           0   \n",
       "124470  2015-11-02  S1F0H6JG        0   159855344           0           0   \n",
       "124471  2015-11-02  S1F0KYCR        0   123741008           0           0   \n",
       "124472  2015-11-02  S1F0S561        0    73661456           0           0   \n",
       "124473  2015-11-02  S1F10HH5        0    42128776           0           0   \n",
       "124474  2015-11-02  S1F10RWZ        0   146729096           0           0   \n",
       "124475  2015-11-02  W1F05X69        0   201954496           0           0   \n",
       "124476  2015-11-02  W1F0FEH7        0    54054848           0           0   \n",
       "124477  2015-11-02  W1F0FY92        0   128174672           0           1   \n",
       "124478  2015-11-02  W1F0FZPA        0    91318232           0           0   \n",
       "124479  2015-11-02  W1F0G9T7        0   159174456           0           0   \n",
       "124480  2015-11-02  W1F0JH87        0   130553176           0           4   \n",
       "124481  2015-11-02  W1F0JXDL        0    80454336         160           0   \n",
       "124482  2015-11-02  W1F0JY02        0   226850672           0           0   \n",
       "124483  2015-11-02  W1F0N84F        0   230641240           0           0   \n",
       "124484  2015-11-02  W1F0SJJ2        0    47525320           0           0   \n",
       "124485  2015-11-02  Z1F0GB8A        0    92823192           0           0   \n",
       "124486  2015-11-02  Z1F0GE1M        0   222878704           0           0   \n",
       "124487  2015-11-02  Z1F0KJDS        0    79883648           0           0   \n",
       "124488  2015-11-02  Z1F0KKN4        0   218765712           0           0   \n",
       "124489  2015-11-02  Z1F0MA1S        0    18310224           0           0   \n",
       "124490  2015-11-02  Z1F0Q8RT        0   172556680          96         107   \n",
       "124491  2015-11-02  Z1F0QK05        0    19029120        4832           0   \n",
       "124492  2015-11-02  Z1F0QL3N        0   226953408           0           0   \n",
       "124493  2015-11-02  Z1F0QLC1        0    17572840           0           0   \n",
       "\n",
       "        attribute4  attribute5  attribute6  attribute7  attribute8  \\\n",
       "124294           0           7      348006           0           0   \n",
       "124295           0           7      400473           0           0   \n",
       "124296           0          11      354673           0           0   \n",
       "124297           7           9      354072          22          22   \n",
       "124298           0           8      354393           0           0   \n",
       "124299           0           9      347128           0           0   \n",
       "124300           0          10      355328           0           0   \n",
       "124301           0           8      348544           0           0   \n",
       "124302           0           9      350805           0           0   \n",
       "124303           4          10      329909           0           0   \n",
       "124304           0          10      347667           0           0   \n",
       "124305           0          11      356275           0           0   \n",
       "124306           0           9      348703           0           0   \n",
       "124307           0          10      350271           0           0   \n",
       "124308          12          11      345969          32          32   \n",
       "124309           0          11      305825           0           0   \n",
       "124310           0          11      352262           0           0   \n",
       "124311           7          10      339302           0           0   \n",
       "124312           0          11      357610           0           0   \n",
       "124313           0          10      348231           0           0   \n",
       "124314           0           9      343515           0           0   \n",
       "124315           0          11      349827           0           0   \n",
       "124316           0          15      349286           0           0   \n",
       "124317           0          11      479448           0           0   \n",
       "124318           0          14      355838           0           0   \n",
       "124319           2           4      346919           0           0   \n",
       "124320           0          11      357568           0           0   \n",
       "124321           6          14      351716           0           0   \n",
       "124322           0          14      351451           0           0   \n",
       "124323           0          12      352500          72          72   \n",
       "...            ...         ...         ...         ...         ...   \n",
       "124464          13          11      347165          32          32   \n",
       "124465           0          12      309988           0           0   \n",
       "124466           0          12      356892           0           0   \n",
       "124467           7          11      341541           0           0   \n",
       "124468           0          12      362350           0           0   \n",
       "124469           0          11      352831           0           0   \n",
       "124470           0          10      345928           0           0   \n",
       "124471           0          12      354413           0           0   \n",
       "124472           0          16      351675           0           0   \n",
       "124473           0          12      484090           0           0   \n",
       "124474           0          15      358307           0           0   \n",
       "124475           2           5      351522           0           0   \n",
       "124476           0          12      360054           0           0   \n",
       "124477           6          15      356320           0           0   \n",
       "124478           0          15      353974           0           0   \n",
       "124479           0          13      354826         104         104   \n",
       "124480           0          11      354600           0           0   \n",
       "124481           0          10      357655           0           0   \n",
       "124482           0           8      351379           0           0   \n",
       "124483           0           8      403165           0           0   \n",
       "124484           0          12      357421           0           0   \n",
       "124485           0           9      357127           0           0   \n",
       "124486           0          10      349826           0           0   \n",
       "124487           0          11      358121           0           0   \n",
       "124488           0           9      353525           0           0   \n",
       "124489           0          10      353705           8           8   \n",
       "124490           4          11      332792           0           0   \n",
       "124491           0          11      350410           0           0   \n",
       "124492           0          12      358980           0           0   \n",
       "124493           0          10      351431           0           0   \n",
       "\n",
       "        attribute9 month  \n",
       "124294           0    10  \n",
       "124295           1    10  \n",
       "124296           0    10  \n",
       "124297           0    10  \n",
       "124298           0    10  \n",
       "124299           0    10  \n",
       "124300           0    10  \n",
       "124301           0    10  \n",
       "124302           0    10  \n",
       "124303          13    10  \n",
       "124304           0    10  \n",
       "124305           0    10  \n",
       "124306           0    10  \n",
       "124307           0    10  \n",
       "124308           0    10  \n",
       "124309           0    10  \n",
       "124310           0    10  \n",
       "124311           0    10  \n",
       "124312           0    10  \n",
       "124313           9    10  \n",
       "124314           0    10  \n",
       "124315           0    10  \n",
       "124316           0    10  \n",
       "124317           0    10  \n",
       "124318           0    10  \n",
       "124319           4    10  \n",
       "124320           0    10  \n",
       "124321           1    10  \n",
       "124322           0    10  \n",
       "124323           2    10  \n",
       "...            ...   ...  \n",
       "124464           0    11  \n",
       "124465           0    11  \n",
       "124466           0    11  \n",
       "124467           0    11  \n",
       "124468           0    11  \n",
       "124469          10    11  \n",
       "124470           0    11  \n",
       "124471           0    11  \n",
       "124472           0    11  \n",
       "124473           0    11  \n",
       "124474           0    11  \n",
       "124475           4    11  \n",
       "124476           0    11  \n",
       "124477           1    11  \n",
       "124478           0    11  \n",
       "124479           2    11  \n",
       "124480           0    11  \n",
       "124481           0    11  \n",
       "124482           0    11  \n",
       "124483           1    11  \n",
       "124484           0    11  \n",
       "124485           0    11  \n",
       "124486           0    11  \n",
       "124487           0    11  \n",
       "124488           0    11  \n",
       "124489           0    11  \n",
       "124490          13    11  \n",
       "124491           0    11  \n",
       "124492           0    11  \n",
       "124493           0    11  \n",
       "\n",
       "[200 rows x 13 columns]"
      ]
     },
     "execution_count": 57,
     "metadata": {},
     "output_type": "execute_result"
    }
   ],
   "source": [
    "df2.tail()"
   ]
  },
  {
   "cell_type": "code",
   "execution_count": 12,
   "metadata": {
    "collapsed": true
   },
   "outputs": [],
   "source": [
    "#df2[df2['device']=='S1F02MGA']"
   ]
  },
  {
   "cell_type": "code",
   "execution_count": 13,
   "metadata": {
    "collapsed": true
   },
   "outputs": [],
   "source": [
    "#df2[df2['device']=='S1F0166B']"
   ]
  },
  {
   "cell_type": "code",
   "execution_count": 14,
   "metadata": {
    "collapsed": true
   },
   "outputs": [],
   "source": [
    "#sorted(at1)"
   ]
  },
  {
   "cell_type": "code",
   "execution_count": 15,
   "metadata": {
    "collapsed": true
   },
   "outputs": [],
   "source": [
    "#df2.failure.value_counts()"
   ]
  },
  {
   "cell_type": "markdown",
   "metadata": {},
   "source": [
    "# Check seasonality for failure with respect to month"
   ]
  },
  {
   "cell_type": "code",
   "execution_count": 40,
   "metadata": {},
   "outputs": [
    {
     "data": {
      "text/plain": [
       "<matplotlib.axes._subplots.AxesSubplot at 0x103ce8c50>"
      ]
     },
     "execution_count": 40,
     "metadata": {},
     "output_type": "execute_result"
    },
    {
     "data": {
      "image/png": "iVBORw0KGgoAAAANSUhEUgAAAZMAAAEKCAYAAADXdbjqAAAABHNCSVQICAgIfAhkiAAAAAlwSFlz\nAAALEgAACxIB0t1+/AAAADl0RVh0U29mdHdhcmUAbWF0cGxvdGxpYiB2ZXJzaW9uIDIuMS4wLCBo\ndHRwOi8vbWF0cGxvdGxpYi5vcmcvpW3flQAAIABJREFUeJzt3Xt8VNW5+P/PkzskJJAryC0JBEi4\niBoJ3pFAhdojtsUWj/XY1h5rvZzf77TfU/Wcby9fW8+3tuccX8dWW2212tZ6qfZUWvDCxYCiXIIC\ngUBCCCCBQG6QACH39f1j9uA4ZDKTZDJ7z+R5v168nNmz99prxiTP7Get/SwxxqCUUkoNRpTdHVBK\nKRX+NJgopZQaNA0mSimlBk2DiVJKqUHTYKKUUmrQNJgopZQaNA0mSimlBk2DiVJKqUHTYKKUUmrQ\nYuzuwFBKT0832dnZdndDKaXCyvbt2xuMMRn9OSaig0l2djalpaV2d0MppcKKiBzu7zGa5lJKKTVo\nGkyUUkoNmgYTpZRSg6bBRCml1KBpMFFKKTVoGkyUUkoNmgYTpZRSg6bBRA0rx06d442yWru7oVTE\n0WCihpX/Xrufb73wIQ1n2u3uilIRRYOJGjaMMWyorAdg28Emm3ujVGTRYKKGjX3HT3O8pQ2ALRpM\nlAoqDSZq2CipcF2VTMtK0mCiVJBpMFHDRklFHTPGjuJzcy5i3/EWmls77e6SUhFDg4kaFk63dbL9\n8EkWTM+kKCcVY2DrIb06USpYNJioYWFTVSNdPYYF0zO4eOJo4mKi2FLdaHe3lIoYEb2eiVJuGyrr\nGBUfw2WTxxAbHcUlE0frlYlSQRTQlYmILBGRChGpEpEHe3k9XkRetl7fIiLZHq89ZG2vEJEbPLY/\nKyJ1IrLbq62XRWSH9e+QiOywtmeLyDmP13410DethhdjDCUV9Vw1NZ3YaNePfFFOKruPNnO6TcdN\nlAoGv8FERKKBJ4ClQAFwq4gUeO12J3DSGDMVeAx41Dq2AFgBzASWAE9a7QE8Z237FGPMl40xc40x\nc4HXgD97vHzA/Zox5u7A36YazvbXnaG2uY3rpn+yCmlRbho9BkoPn7SxZ0pFjkCuTOYBVcaYamNM\nB/ASsMxrn2XA89bjV4FiERFr+0vGmHZjzEGgymoPY8xGwGeewTr+S8CL/Xg/Sl2gpKIOgAUeweTS\nSWOIjRa2VGuqS6lgCCSYjAeOeDyvsbb1uo8xpgtoBtICPNaXa4ATxpj9HttyROQjEdkgItf0dpCI\n3CUipSJSWl9fH+CpVCQrqahnetYoxqWMOL9tRFw0cyaMZstBHYRXKhgCCSbSyzYT4D6BHOvLrXz6\nqqQWmGSMuQT4NvBHEUm+oHFjnjbGFBpjCjMyMrxfVsPMmfYuth1q+tRVidu8nFTKappp7eiyoWdK\nRZZAgkkNMNHj+QTgmK99RCQGSMGVwgrk2AtYbXwBeNm9zUqVNVqPtwMHgGkB9F8NY+9XNdDZbbhu\n2oXBpCgnla4ew4eHT9nQM6UiSyDBZBuQJyI5IhKHa0B9pdc+K4E7rMfLgfXGGGNtX2HN9soB8oCt\nAZxzEbDPGFPj3iAiGe7BexHJtdqqDqAtNYxtqKwnMS6awuzUC14rzE4lOko01aVUEPi9z8QY0yUi\n9wFvAdHAs8aYPSLyMFBqjFkJPAP8XkSqcF2RrLCO3SMirwDlQBdwrzGmG0BEXgQWAOkiUgP8wBjz\njHXaFVw48H4t8LCIdAHdwN3GGB09VT65pwRfOTWduJgLvzclxccw66JkHYRXKggCumnRGLMaWO21\n7fsej9uAW3wc+wjwSC/bb+3jfF/tZdtruKYKKxWQA/VnOHrqHPdcP8XnPvNyUnn+/cO0dXaTEBvt\ncz+lVN+0nIqKWO4qwb2Nl7gV5aTR0d3DjiM6bqLUYGgwURFrQ2U9UzOTmDBmpM99Ls9JRQRNdSk1\nSBpMVERq7ehiS3UTC/q4KgFIGRFL/thkHYRXapA0mKiI9MGBRjq6e1gwPdPvvkW5qXz48Uk6unpC\n0DOlIpMGExWRSirqGREbzeU5Y/zuW5STSltnD2VHddxEqYHSYKIijjGGkso6rpySRnyM/xla83LS\nANis4yZKDZgGExVxDjac5UjTuV5LqPQmNTFO14VXapA0mKiI454SHMh4iVtRThrbDzXR1a3jJkoN\nhAYTFXFKKuvJzUhkYqrvKcHe5uWkcrajmz3HWoawZ0pFLg0mKqKc6+hmc3UjC6YFflUCrhldgE4R\nVmqANJioiLL5YCMdXT2fWlUxEJmjEshNT9SbF5UaIA0mKqJsqKgnITaKopwLqwT7U5SbytZDTXT3\nBLrkjlLKTYOJiiglFXVckZs2oKKN83JSOd3Wxb7jOm6iVH9pMFER41DDWQ41tvZrFpenIut+E011\nKdV/GkxUxNhQ6b9KcF8uGj2CiakjdBBeqQHQYKIiRklFHdlpI8lOTxxwG0U5aWw92ESPjpso1S8a\nTFREaOvs5oPqxgGnuNzm5aRysrWTqvozQeqZUsNDQMFERJaISIWIVInIg728Hi8iL1uvbxGRbI/X\nHrK2V4jIDR7bnxWROhHZ7dXWD0XkqIjssP591l9bSm052ERbZ/+nBHubf37cRFNdSvWH32AiItHA\nE8BSoAC4VUQKvHa7EzhpjJkKPAY8ah1bgGs995nAEuBJqz2A56xtvXnMGDPX+rc6gLbUMFdSUUd8\nTBRX5KYNqp2JqSMYl5LA5mFQp+uvO49x7wsfYoym9NTgBXJlMg+oMsZUG2M6gJeAZV77LAOetx6/\nChSLiFjbXzLGtBtjDgJVVnsYYzYC/fmN9dmWUhsq6yka4JRgTyJCUU4qW6qbIv6P7NMbq1lVVkvl\nCU3pqcELJJiMB454PK+xtvW6jzGmC2gG0gI8tjf3icguKxXmXpBioG2pCHekqZXq+rN+V1UMVFFu\nGg1n2jnYcDYo7TnRx42tlB1tBmDt3hM290ZFgkCCifSyzfsrm699AjnW2y+BKcBcoBb4z370AxG5\nS0RKRaS0vr7ez6lUJCipqAMIuOS8P/Ny3HW6IjfV9cbuWgDGjx6hwUQFRSDBpAaY6PF8AnDM1z4i\nEgOk4EphBXLspxhjThhjuo0xPcCv+SSVFVBbxpinjTGFxpjCjIzg/HFRzlZSUc+k1JHkDGJKsKfc\n9ETSk+IjehB+dVkts8en8OXLJ7LjyCnqT7fb3SUV5gIJJtuAPBHJEZE4XIPgK732WQncYT1eDqw3\nroTzSmCFNdsrB8gDtvZ1MhEZ5/H084B7tle/21KRr72rm/cPNHLdtAxcw3SDJyIU5aay5WBkjpsc\naWplZ00zn509juL8TIyBd/bV2d0tFeb8BhNrDOQ+4C1gL/CKMWaPiDwsIjdZuz0DpIlIFfBt4EHr\n2D3AK0A58CZwrzGmG0BEXgQ+AKaLSI2I3Gm19VMRKRORXcD1wD/7a0sNX9sOnuRcZ3fQUlxu83NS\nqW1u40jTuaC26wTuFNeNs8dRMC6Zi1ISNNWlBi0mkJ2s6bmrvbZ93+NxG3CLj2MfAR7pZfutPva/\nvY9+9NqWGr5KKuqIi47iiimDmxLszb0u/JaDjUxKC3yRrXCwquw4s8Ynn39fC/MzeW37Udo6uwc9\nG04NX3oHvAprJZX1FOWmMjIuoO9FAcvLTGLMyNiIG4SvOdnKziOn+OzsT7LJi/KzOGdVEFBqoDSY\nqLBVc7KVqrozAy7s2JeoKGFeTmrEFX18o+w44Epxuc3PTWNkXDRryzXVpQZOg4kKW+4qwcEeL3Er\nyknjSNM5jp2KnHGTVWW1zLwomclpn8x8S4iN5pq8dNbvq4vICQcqNDSYqLBVUlHP+NEjmJKRNCTt\nu+832Rohqa6jp86xwyvF5bYoP4va5jb2HNOFwdTAaDBRYamjq4f3qxpYMD14U4K95Y9LZlRCTMSk\nut4o+2QWl7frZ2QiAuv26hRhNTAaTFRYKj3UxNmO7kGXnO9LdJQwLzs1YlZeXFVWS8G45F7Xe0lP\niueSiaN1irAaMA0mKixtqKwnNlqCPiXYW1FuKtUNZ6lraRvS8wy1Y6fO8dHHp7hxzoVXJW7F+VmU\nHW3mRJi/V2UPDSYqLJVU1HN5dipJ8cGdEuzNvS781kPhfXWy2kpxLZ011uc+iwuyAE11qYHRYKLC\nzrFT56g4cXrIZnF5mnlRMolx0WGf6lpdVsuMsaPI7WOyQl5mEhNTtfCjGhgNJirsfDIleOjGS9xi\noqO4LDu87zc5duocH358qteBd08iQvGMLDZVNXCuQysVqf7RYKLCTklFHeNSEsjLHJopwd6KclKp\nPHGGprMdITlfsL2523Wj4mf7GC9xW1yQRXtXD+9VNQx1t1SE0WCiwkpndw+bqhqHdEqwt/m57vtN\nwvPqxJ3iCuR+nMuzUxkVH8M6TXWpftJgosLK9sMnOdPexXXThj7F5TZ7/GgSYqPCsk7X8eY2Sg+f\n7PVGxd7ExURx7fQM1u6to6dH74ZXgdNgosJKSUU9MVHCVVOHdkqwp7iYKC6dNCYsB+Hd5eYDDSYA\ni/IzaTjTzi5rWV+lAqHBRIWVkoo6CrPHMCohNqTnLcpJY+/xFppbO0N63sFaXVbL9KxRTO3H+NL1\n0zOJjhJNdal+0WCiwsaJljb2HT8d0hSXW1FuKsbAtjC63+RES/9SXG6jR8Zx2eQxrNX7TVQ/aDBR\nYWNDxdBWCe7L3ImjiYuOCqubF98oq8UYuHGO7xsVfVmUn8ne2hZqTrYOQc9UJNJgosJGSWUdY5MT\nmDF2VMjPnRAbzdyJo9kSRgtIrS47zrSsJKZm9v/zKs533Q2/XteGVwEKKJiIyBIRqRCRKhF5sJfX\n40XkZev1LSKS7fHaQ9b2ChG5wWP7syJSJyK7vdr6mYjsE5FdIvI/IjLa2p4tIudEZIf171cDfdMq\n/HR19/Du/gaumxa6KcHeinJT2X2shTPtXbacvz/qWtrYdrip3ykutykZSeSmJ2qqSwXMbzARkWjg\nCWApUADcKiIFXrvdCZw0xkwFHgMetY4tAFYAM4ElwJNWewDPWdu8rQFmGWPmAJXAQx6vHTDGzLX+\n3R3YW1SR4MOPT3G6rYvrbEhxuRXlpNHdYygNg1TXG7uPu1JcAwwmAMX5mWw+0BgWwVPZL5Ark3lA\nlTGm2hjTAbwELPPaZxnwvPX4VaBYXF8flwEvGWPajTEHgSqrPYwxG4ELfiuNMW8bY9w/vZuBCf18\nTyoCbaisIzpKuGpqum19uHTyaGKiJCwWy1pVVkteZhJ5WQNPCRbnZ9HR3cO7VvkapfoSSDAZDxzx\neF5jbet1HysQNANpAR7bl68Db3g8zxGRj0Rkg4hc0492VJgrqajnskljSBkR2inBnkbGxTB7Qorj\nb16sa2lj26GBp7jcCie7Pm9NdalABBJMektQe98a62ufQI7t/aQi/wZ0AS9Ym2qBScaYS4BvA38U\nkeRejrtLREpFpLS+Xr9RRYK6067lZO1McbkV5aSxq+aUowshvrnHSnEFUIurLzHRUVw/PYN3Kuro\n1rvhlR+BBJMaYKLH8wnAMV/7iEgMkIIrhRXIsRcQkTuAzwG3GWMMgJUqa7QebwcOANO8jzXGPG2M\nKTTGFGZk2P/HRw2enVOCvRXlptLZbfjw45N2d8WnVbtqmZKRGJRCmMX5WTSd7eAjB79f5QyBBJNt\nQJ6I5IhIHK4B9ZVe+6wE7rAeLwfWW0FgJbDCmu2VA+QBW/s6mYgsAR4AbjLGtHpsz3AP3otIrtVW\ndQD9V2FuQ2U9GaPiKRh3wYVoyBVOHkOU4NhUV93pNrYeauLG2eOCMuvtuukZxESJprqUX36DiTUG\nch/wFrAXeMUYs0dEHhaRm6zdngHSRKQKVwrqQevYPcArQDnwJnCvMaYbQEReBD4ApotIjYjcabX1\nC2AUsMZrCvC1wC4R2YlrkP9uY4wzf6NV0DhhSrCnUQmxzLwoxbH3m7xlzeIKpNx8IJITYinKTdXS\nKsqvgNY8NcasBlZ7bfu+x+M24BYfxz4CPNLL9lt97D/Vx/bXgNcC6a+KHDtrTtF8rtMRKS63opxU\nfrf5MG2d3STERvs/IIRWlx0nNyOR6YOYxeWteEYWD/+tnMONZ5mclhi0dlVk0TvglaOVVNQTJXDN\nVAcFk9w0Orp62HnklN1d+ZSGM+1sOdgYtBSX2yLrbnhNdam+aDBRjlZSUc8lk8aQMtK+KcHe5mWn\nIg4cN3lz93F6TP/KzQdiUtpI8jKTNNWl+qTBRDlWw5l2yo42s2Cac65KAFJGxjI9a5Tjbl5cXVZL\nbnrikNQuW1SQxdaDTTSfC68S/Cp0NJgox9pY6Z4SHPqS8/7Mz01j++GTdHb32N0VwBV4N1c38tkg\np7jcFuVn0tVj2KB3wysfNJgoxyqpqCc9KY6ZF9k/JdhbUU4q5zq72VXjjNUI39ozNCkut7kTx5Ca\nGKepLuWTBhPlSN09ho3767l2WgZRUfZPCfY2LycVgC0HnTFFeHVZLTnpieSPG5ry/NFRwsIZmZRU\n1NPlkKsx5SwaTJQj7ao5xanWTq5z2HiJW1pSPFMzkxwxbtJ4pp0PDjTy2dljh/RenEX5mTSf66T0\nsN4Nry6kwUQ5kntK8LV5zgwm4Ep1lR46afs39bf2nBjSFJfbNXkZxEVHsbZcU13qQhpMlCOVVNZz\n8cTRjEmMs7srPhXlpnGmvYvy2hZb+7G6rJbstJFDXm4mMT6G+VPSWKerL6peaDBRjtN4pp1dNadY\nMM15s7g8zXePm1Tbl+pqOtvBB0M4i8vb4vxMDjac5UD9mSE/lwovGkyU47y7vwFjcETJ+b5kJieQ\nk55o682Lb+05TnePGfIUl9tC6254ndWlvGkwUY6zobKe1MQ45oxPsbsrfs3LTmXboSZ6bFrvY3VZ\nLZPTRoZs+vT40SPIH5fM2nJNdalP02CiHKWnx7Cxsp5r89IdOSXYW1FuKs3nOtl3/HTIz910toP3\nDzSydFZoUlxui/IzKT3cxMmzHSE7p3I+DSbKUcqONtN4tsORd733pig3DbDnfpO3rRTXjSFKcbkt\nys+ix0BJpV6dqE9oMFGOUlJRjwhck5dud1cCMn70CCaMGWHLIPzq3ceZmDqCWeNDWyFg9vgUMkbF\na6pLfYoGE+UoGyrrmDM+hbSkeLu7ErB5OalsPdSEtcJ0SJxq7eD9qoaQzeLyFBUlFM/IZENlPR1d\neje8ctFgohzjVGsHO46c4rowSXG5zc9Jo+lsB1V1oZsu+/aeE3TZkOJyW5SfxZn2LkdUAFDOoMFE\nOcbG/Q30GBy1qmIginJd95tsDuEf1lVltUwYM4LZNs14u2pqOvExUazVKcLKElAwEZElIlIhIlUi\n8mAvr8eLyMvW61tEJNvjtYes7RUicoPH9mdFpE5Ednu1lSoia0Rkv/XfMdZ2EZHHrbZ2icilA33T\nyplKKuoYPTKWiyeMtrsr/TIpdSRjkxNCti78qdYONlU1BH1Fxf4YERfN1VPTWbv3REjTe5Gsq7uH\nn7yxjyNNrXZ3ZUD8BhMRiQaeAJYCBcCtIlLgtdudwElr/fbHgEetYwuAFcBMYAnwpNUewHPWNm8P\nAuuMMXnAOus51vnzrH93Ab8M7C2qcOCaEtzANXkZRIfBlGBPIuIaNzkYmnGTt8tdKa5Q3ajoS3F+\nFjUnz1F5Qu+GD4bN1U38asMBnnv/kN1dGZBArkzmAVXGmGpjTAfwErDMa59lwPPW41eBYnF9ZVoG\nvGSMaTfGHASqrPYwxmwEessLeLb1PHCzx/bfGZfNwGgRsfe3SQVNeW0LDWfaHbeqYqCKclOpO93O\nocah/1a52kpxzZlg702dxfmusS1NdQXHmvLj1n/D82ovkGAyHjji8bzG2tbrPsaYLqAZSAvwWG9Z\nxphaq61awD0aG1BbInKXiJSKSGl9va4KFy5KKlzTTK8N12CSY91vMsSprubWTjbZNIvLW1ZyAnMm\npGhplSAwxrCm/AQJsVF83NQalld7gQST3n5ivcOmr30COTZQAbVljHnaGFNojCnMyAjPP0zDUUlF\n/fn7F8LRlIxE0pPihrxO19vlx+nstj/F5VY8I4uPjpyi4Uy73V0Ja3uOtXCsuY37F+YBn1ylhJNA\ngkkNMNHj+QTgmK99RCQGSMGVwgrkWG8n3Okr67/uO6MG0pYKA82tnXz48UnHLoQVCM9xk6G0uqyW\n8aNHcLHNKS634vxMjIH1WpZ+UNbuPYEIrLh8IhdPHM2aveH3eQYSTLYBeSKSIyJxuAbUV3rtsxK4\nw3q8HFhvXEm/lcAKa7ZXDq7B861+zufZ1h3A6x7b/8Ga1TUfaHanw3xp1xuqwsJ7VeE5JdhbUU4a\nR0+dG7LZOM3nOnmvqmHIV1Tsj5kXJTMuJUFTXYO0pvwEl00aQ1pSPIvzM9l55BQnWtrs7la/+A0m\n1hjIfcBbwF7gFWPMHhF5WERusnZ7BkgTkSrg21gzsIwxe4BXgHLgTeBeY0w3gIi8CHwATBeRGhG5\n02rrJ8BiEdkPLLaeA6wGqnEN4v8auMdf3/efOM0r2474203ZrKSijuSEGOZODK8pwd7c95sMVapr\nTfkJR6W4wHVFVpyfycbKBto6u+3uTlg6euoce461sLjAVd5/ccFYIPwmNsQEspMxZjWuP+ae277v\n8bgNuMXHsY8Aj/Sy/VYf+zcCxb1sN8C9gfTXLTE+hu++tovSw008vGwWCbHR/g9SIWWMYUNlPddM\nyyAmOrzvoZ2WOYrRI2PZUt3I8ssmBL391WW1XJSS4LigW5yfxR82f8wH1Y1cH2bVC5zAvQyyO5hM\ny0piUupI1pSf4LaiyXZ2rV/C+7fXj5z0RO5fOJVXSmv4/JPvc6jhrN1dUl7Ka1uoOx2+U4I9RUUJ\n87JddbqCrflcJ+/ur2epA2ZxebsiN42RcdGa6hqgNeUnmJKRSG5GEuC62ltckMX7VY2cbe+yuXeB\ni+hgAvCdz0znt1+7nNrmc/zdz9/jzd3hN0sikm2odE3fDufBd0/zclI53NjK8ebg5rvXOjDF5ZYQ\nG801eems21sXlvdH2KmlrZPN1Y0ssq5K3BblZ9HR3cPGyvC5vSHigwnA9dMz+dv9V5Obkcjdf9jO\nv6/eS2e3Ds47QUlFPQXjkslMTrC7K0Exf4jWN3ljdy3jUhK4xGEpLrfi/Cxqm9vYc6zF7q6ElZKK\nerp6DJ/xCiaXZ49h9MhY1pSHz9XesAgmABPGjOSVu6/gH66YzNMbq/n7X28Ou9kSkaalrZPth0+G\n/SwuT/njkhmVEMPmIK5v0tLWycbKBpbOGufY1ScXzshEBNaF4ZRWO60pP0F6UhxzJ4751PaY6CgW\nTs9kfUUdXWHyxXfYBBOA+JhoHl42i/9eMZc9x1q48fF3eb+qwe5uDVub9jfQ3WPCZlXFQERHCZdn\npwb1ymTd3hN0dPdw45yxQWsz2NKT4rlk4mjW7Qufb9J26+jqoWRfHcUzsnqtR7e4IItTrZ2UHj5p\nQ+/6b1gFE7dlc8fz+r1XMXpkHF95ZgtPvFNFT4/mekOtpKKeUfExXDLJmambgZqXk0p1/VnqTwfn\nrvBVu44zNjmBS7y+vTpNcX4Wu2qa9Yo/QFsPNnG6veuC8RK3a6ZlEBcdFTaprmEZTADyskbx+r1X\nceOci/jZWxV843elnGrtsLtbw4Z7SvDVeenEhvmUYG9FOa77TYJxN/zptk427q9n6eyxjk1xuS3K\nd/1R1FRXYNaUHychNoqrp/a+RHVSfAxXTk0Lm8KPkfVb3E+J8TE8vmIuP1o2k3f313Pj4++xq+aU\n3d0aFipOnOZ4S1tEjZe4zRqfwsi46KCkutbtraOjq8e2FRX7Y1pWEhPGjNApwgFwF3a8Ji+DEXG+\n739bXJAVNoUfh3UwAdec7tuvyOZPd18JwPJffsDvNx8Oi28C4aykwj0lOHLGS9xio6O4bPIYtgRh\nEH5VWS1jkxO4dJKzU1zg+l1alJ/Fe1UNnOvQu+H74i7suNhHisvNfbUXDnfDD/tg4jZ34mj+dv/V\nXDk1je/9ZTf//PIOWjvC54ahcFNSUceMsaMYmxIZU4K9FeWkUnHiNCfPDjx1erqtkw2V9SyZ5fwU\nl9ui/Czau3rYpBNb+uQu7LhwRt9fprKSE7h4Qgpvh8G4iQYTD2MS43j2jsv5zuJpvL7zGMt+sYmq\nOudfXoabM+1dlB46yXURmOJyK7LuNxnM3fDr91kprjnOT3G5zctJZVR8TFh8k7aTu7BjepL/JRcW\nF2SFReFHDSZeoqKE+4vz+P3Xi2g628FNv3iPv+7USvfBtKmqga4ew4IITHG5zZmQQnxM1KBSXat2\n1ZKVHM9lYZDicouLieLa6Rms21enMyR98C7s6E+4FH7UYOLD1XnprPqna8gfl8z9L37ED1fuoUNL\n2gdFSUU9SfExFGaHzx/J/oqPiebSSWMGPAh/pr2Lksp6R9+o6Mui/EzqT7dTdrTZ7q44kndhR3/c\nhR/XOjzVpcGkD2NTEnjprvl84+ocnnv/EF966gOOnjpnd7fCmjGGDRV1XDU1LeKmBHsryk2lvLaF\nlrbOfh+7bu8JOrp6HFmLy58F0zKJEud/k7bL2r0nyPUo7OiPe2LDpgPOLvwY2b/NQRAbHcX//lwB\nv7ztUqrqznDj4++eX69c9d/+ujMca26LyFlc3ublpGIMlA5g3GR1WS2Zo+IpnBx+V29jEuMonJzK\nWr3f5ALuwo6BXpW4LS7IoqPL2YUfNZgEaOnscfz1/qsZm5zA157bxn+tqaRbc8L9tsGaEhyJ95d4\nu3TSGOKi+z9ucra9i5KK8JrF5W1RQSZ7a1v0St5LSUU9nd0XFnb0JxwKP2ow6Yec9ET+556r+MIl\nE3h83X6++tutNJ4JTsmM4aKkso5pWUlcNHqE3V0Zcgmx0Vw8MYXN/bwTft2+OtrDNMXlVmzdH7Fe\nU12f4quwoz/hUPgxoGAiIktEpEJEqkTkwV5ejxeRl63Xt4hItsdrD1nbK0TkBn9tisi7IrLD+ndM\nRP5ibV8gIs0er30fG4yIi+Y/bpnDo1+czZaDTdz4+HtsPzw0y7RGmrPtXWw7eDKiCjv6U5STxu6j\nzZzpR677jbJa0pPiuTw7dQizvsTmAAAeNklEQVR7NrSmZCSRk57IGk11ndfR1UNJRR0LZ2T2WtjR\nn0UOL/zoN5iISDTwBLAUKABuFZECr93uBE4aY6YCjwGPWscWACuAmcAS4EkRie6rTWPMNcaYucaY\nubjWiP+zx3nedb9mjHl4wO96kESEL18+iT9/60riYqL48lObeea9g3rXvB/vH2iko7snIlZVDNS8\nnFS6ewwfBvgHoLWji3cq6lg6a+yA/uA4SfGMTDYfaOxXII1kWw82cbqt6/xU3/661uGFHwO5MpkH\nVBljqo0xHcBLwDKvfZYBz1uPXwWKxbW26DLgJWNMuzHmIFBltee3TREZBSwE/jKwtzb0Zo1P4a/3\nX831MzL50d/KufePH3J6ADN3hosNlXWMjIvmsgieEuztssljiI6SgKcIr99XR1tneKe43BYVuFYL\nfG+/cweNQ8lfYUd/nF74MZBgMh444vG8xtrW6z7GmC6gGUjr49hA2vw8sM4Y47l02xUislNE3hCR\nmQH0fciljIjl6dsv46GlM3hrzwmW/WIT+47ranPezrR3sX5vHVdOSSc+xndhu0iTGB/D7PEpAQ/C\nr7ZSXPNywjfF5VY4eQwpI2J1VheBF3b0x8mFHwMJJr1da3uHRV/79He7p1uBFz2efwhMNsZcDPwc\nH1csInKXiJSKSGl9fWi+EYkI37xuCn/8RhGn27u4+YlNvLa9JiTnDgenWju47TdbOHG6nduvmGx3\nd0KuKDeVnTWn/BY/bO3oYv2+OpbM6n2xpHATEx3FgukZrN9XN+xnPp4v7Jjfv1lc3pxc+DGQYFID\nTPR4PgHwri9yfh8RiQFSgKY+ju2zTRFJw5UKW+XeZoxpMcacsR6vBmJF5ILrRWPM08aYQmNMYUZG\naHPzRblprPqnq5k7cTTf+dNOHvrzLto6h3f11LqWNr781Gb21rbw1Fcu47phNF7iVpSTSme34aMj\nfY+bvLOvPmJSXG6L8rNoOtvBDj/vPdKdL+yYP7jJJ04u/BhIMNkG5IlIjojE4RpQX+m1z0rgDuvx\ncmC9cSX1VgIrrNleOUAesDWANm8B/maMOV/ZTETGWuMwiMg8q+/BWxs1SDJHJfCHO4v41oIpvLj1\nCF/85fscaWq1u1u2ONLUyi1PfcCRk60899XLfa4oF+kKs1OJEvymulwprjiKctJC1LOhd930DGKi\nZNinuvpT2NEfpxZ+9BtMrDGQ+4C3gL3AK8aYPSLysIjcZO32DJAmIlXAt4EHrWP3AK8A5cCbwL3G\nmG5fbXqcdgWfTnGBK0jtFpGdwOPACuPEUShcl/cPLJnBb/6hkCNNrSx7YhPbBlE9NhxV1Z3hS099\nwMmzHfzhG0VcOcBBx0iQnBBLwUXJfQ7Cn+voZv2+Om6YGf6zuDwlJ8QyLyfV8XWlhlJ/Czv649TC\njwHdZ2KMWW2MmWaMmWKMecTa9n1jzErrcZsx5hZjzFRjzDxjTLXHsY9Yx003xrzRV5sery0wxrzp\nte0XxpiZxpiLjTHzjTHvD+aNh8Kigixev+9qRo+I5bZfbxk24yi7jzbz5ac+oLPb8PI3rwiLhZ2G\nWlFOGh99fIr2rt7Tnu9U1HGuszssVlTsr+L8LPbXneHjxuF5he4OpMG6Mndq4Ue9A36Iue+aL8we\nw3f+tJOfvrkvoktzlx5q4tZfbyYhNpo/3X0F+eOS7e6SI8zLSaW9q4ddNb1X0l1VVktaYlxEzOLy\ntsgaJ3DaN+lQcRd2nBJgYUd/nFr4UYNJCKSMjOX5r8/j1nmTeLLkAPe88GFEruK4sbKe25/ZSkZS\nPK/cfQU56Yl2d8kx5ll3s2+pvjDVda6jm/V767hh1lhiIrCS8uS0RPIyk1i3b/gFk4EWdvTHiYUf\nI+8n16Fio6P498/P4nufK+Dt8uN86akPON7srAG0wXhzdy3feL6U7PREXv7mFYwfBrW3+mNMYhwz\nxo5iSy91ukoiOMXlVpyfxZbqpgGV4w9nAy3s6I8TCz9qMAkhEeHOq3P4zR2FHKw/y7In3qPMR9oj\nnLy6vYZ7XviQWeOTeekf55MxavAzViJRUU4q2w+fpNOrUN+qslpSE+MoisAUl9vigky6esz5qtHD\nxZryE6Ql9r+woz9OLPyowcQGC2dk8do9VxITFcUtT73PG2W1dndpwJ5//xD/6087uXJKOr+/s4iU\nkbF2d8mxinLTaO3o/tQKhG2d7llcWRGZ4nKbO3EMqYlxrBtG4ybuwo7F+QMr7OiP0wo/Ru5Pr8PN\nGJvMX+69ivxxyXzrhQ954p0qR9bb8cUYwy/W7+cHK/fwmYIsfnNHIYnxMXZ3y9HcVYC3eqS6Sirq\naO3ojqgbFXsTHSVcPz2TdyrqHfNNeqgNtrCjP04r/KjBxEYZo+J58R/nc9PFF/Gztyr4zis7fU4d\ndRJjDD95Yx//8XYlX7hkPE/edikJscOn3tZAZYyKZ0pG4qcG4VeXHWfMyFiuyI2cGxV9WZSfSfM5\n53yTHmqDLezoj9MKP2owsVlCbDT/vWIu3148jT9/dJTbfr3F0QtudfcY/u0vu3lqYzW3z5/Mf9xy\ncUSnZ4KtKDeN0kMn6e4xtHV2s27vCW6YGZmzuLxdY32THg6pLndhx6unDq6woz/uwo/76+wv/Bj5\nP8FhQET4p+I8fvH3l1B2tJllT2yi8sRpu7t1gc7uHv755R38ccvH3LNgCg8vmxm2y8rapSgnldPt\nXZQfa2FDZT1nh0GKyy0pPob5U9JYNwxKq5TXugo7BnsWlzd34UcnpLo0mDjI5+ZcxMvfvIL2rh6+\n8OT7lFQ455eurbObu3+/nZU7j/HAkhl8d8kMrFJpqh/cdbe2HGxkdVkto0fGcsWUyE9xuS3Kz6S6\n4SwH6u3/Jj2U1pQHp7CjP04q/KjBxGHmThzN6/dexcTUkXz9uW08t8n+FRzPtHfxtd9uY31FHT+6\neRbfWjDF1v6Es7EpCUxOG8nG/Q2s21vHDQVjiR0GKS63hTNcf1wjPdUVzMKO/jil8OPw+SkOIxeN\nHsGrd19BcX4WP/xrOd97ffcF9yaEinstkq2HmnjsS3O5ff7wW48k2IpyUtlYWc+Z9i4+O2d4pLjc\nJowZSf645IiuIuwu7BiqKtnu2WJ2pw81mDhUYnwMT33lMr55XS5/2PwxX/vtNprPhfbuYc+1SH71\nlcu4+RLvxTDVQLhTXaNHxnLlMEpxuS3Kz2T74ZOcPNthd1eGhLsAY7BLqPgyLSuJiakjWFN+PCTn\n80WDiYNFRQkPLc3np8vnsOVgI194chOHGs6G5Nyea5H89quXh+wXYzhwF3P8TEHWsEpxuRXnZ9Hd\nYyipjMyrk2AXdvRHRFicP9b2wo/D7yc5DH2pcCK/v7OIxrMd3PzkJjb3UiwwmLzXIrlqGK9FMhQm\npo7kp8vn8P8tmmZ3V2wxZ3wKGaPiIzLVNVSFHf1xQuFHDSZhYn5uGn+55yrSEuO4/ZktvFJ6ZEjO\no2uRhMaXCicO22KYUVFC8YxMNlbU09EVWXfDuws7Dnat9/66PHsMKSNiWWPjxAYNJmEkOz2RP99z\nFfNz0/juq7v4v6v30h3EtVF0LRIVKsX5WZxu74q4FUjdhR0vCfGXsJjoKBbOyGT9PvsKP2owCTMp\nI2J59quX85X5k3hqYzV3/2F7UPKkuhaJCqWrp6YTH+OculLBMNSFHf1ZbHPhx4CCiYgsEZEKEakS\nkQd7eT1eRF62Xt8iItkerz1kba8QkRv8tSkiz4nIQRHZYf2ba20XEXnc2n+XiFw6mDcezmKjo/jR\nsln88O8KWLf3BMt/9QHHTp0bcHu6FokKtRFx0Vw9NZ11+5xRVyoYhrqwoz92F370G0xEJBp4AlgK\nFAC3ikiB1253AieNMVOBx4BHrWMLgBXATGAJ8KSIRAfQ5r8YY+Za/3ZY25YCeda/u4BfDuQNRwoR\n4atX5fDMVy/nSFMry57YxM4jp/rdjq5FouxSnJ/FkaZzjqgrFQxDXdjRH3fhx7V77QnQgVyZzAOq\njDHVxpgO4CVgmdc+y4DnrcevAsXiqrWxDHjJGNNujDkIVFntBdKmt2XA74zLZmC0iAyvO756cf30\nTP58z5XEx0Txpac+4G+7jgV8rK5FouxUbJUaiYRUV6gKO/qzKD+Lw432FH4MJJiMBzynDtVY23rd\nxxjTBTQDaX0c66/NR6xU1mMi4v6qHEg/hqVpWaN4/d6rmD0+hfv++BGPr9vf5zcTXYtEOUFWcgKz\nx6dERGmVUBV29Mc9JdmOAB1IMOltJMn7L5Wvffq7HeAhYAZwOZAKPNCPfiAid4lIqYiU1tcPnyVC\n05LieeEfi/jCJeP5rzWV/P8v76Ct88K1UXQtEuUki/Kz+OjIKRocvOxCIEJV2NEfOws/BhJMaoCJ\nHs8nAN65lPP7iEgMkAI09XGszzaNMbVWKqsd+C2ulFig/cAY87QxptAYU5iRkRHA24sc8THR/OeX\nLuZfbpjO6zuO8fe/3kz96U9+SXUtEuU0xfmZGAN/2xl4etaJQlnY0R934ce6EBd+DOQvyTYgT0Ry\nRCQO14D6Sq99VgJ3WI+XA+uNK8+yElhhzfbKwTV4vrWvNt3jINaYy83Abo9z/IM1q2s+0GyMCd/F\n04eIiHDv9VP55W2XUl7bws1PbGLf8RZdi0Q50syLkinKSeU/11TaXvV2oEJd2NEfdz9CXWHAbzCx\nxkDuA94C9gKvGGP2iMjDInKTtdszQJqIVAHfBh60jt0DvAKUA28C9xpjun21abX1goiUAWVAOvBj\na/tqoBrXIP6vgXsG9c4j3NLZ4/jTN6+kq6eHLz75Prf9eouuRaIcR0R49Itz6Ozu4d/+pywspwm7\nx3ycUr9uetYoWwo/Sjj+zwtUYWGhKS0ttbsbtjre3MY3freNPcdaeHjZLC0hrxzpN+9W8+NVe/nv\nFXNZNje85tXc/swWjp46x/rvLLC7K+c9/Ndy/rDlMB99b/GAJteIyHZjTGF/jtGEeYQbm5LAq3df\nydpvX6eBRDnW167KYe7E0fxw5Z6wGoy3q7CjP+7Cj+/uD90kJA0mw0BCbHTIymErNRDRUcJPl8/h\nbHs3P1y5x/8BDmFXYUd/3IUfQzmrS4OJUsoRpmWN4p+Kp/K3XbW8udvehZ4Ctdamwo7+2FH4UYOJ\nUsoxvnndFArGJfO913fT3BralUX7q7O7h3dsLOzoT6gLP2owUUo5Rmx0FD9dPoemsx38aFW53d3p\n05Zqews7+uMu/Lg2RKkuDSZKKUeZNT6Fb103hVe311BS4dzVGO0u7OiPu/DjmhAVftRgopRynPuL\npzI1M4l//XMZp9ucl+5ySmFHf0JZ+FGDiVLKceJjovnp8jnUtrTx6Jv77O7OBZxS2NGfUBZ+1GCi\nlHKkSyeN4c6rcvjD5o/54ECj3d35FKcUdvTHXfhRg4lSalj7zmemMzltJA+8tovWjsEvTx0sa8pP\ncKlDCjv6s7ggix0hKPyowUQp5Vgj4qL5yRfm8HFTK//5dqXd3QE+KezotLvefQlV4UcNJkopR7ti\nShpfmT+JZzcd5MOPQ3PPRF+cVtjRn1AVftRgopRyvAeWzGBccgLffXVXr4u+hdKa8hPkZiSGTYki\nEWFx/lg2HWjkbPvQpQo1mCilHG9UQiz//oXZVNWd4efr99vWj/OFHR1Wi8ufUBR+1GCilAoLC6Zn\nsvyyCfxqQzW7jzbb0ofzhR3DJMXlForCjxpMlFJh43s3FpCaGMe/vLqLzhAVMPTk1MKO/oSi8KMG\nE6VU2EgZGcuPb57F3toWflVyIKTndnphR3/chR+3D1HhRw0mSqmwcsPMsXxuzjh+vr6KyhOnQ3Ze\nd2HHRWE2XuLmLvw4VDcwBhRMRGSJiFSISJWIPNjL6/Ei8rL1+hYRyfZ47SFre4WI3OCvTRF5wdq+\nW0SeFZFYa/sCEWkWkR3Wv+8P5o0rpcLX/7lpJkkJMfzLq7vo7gnN0uPuwo7X5GWE5HzBlhQfwxVT\nhq7wo99gIiLRwBPAUqAAuFVECrx2uxM4aYyZCjwGPGodWwCsAGYCS4AnRSTaT5svADOA2cAI4Bse\n53nXGDPX+vfwQN6wUir8pSXF84O/K2DnkVM8+97BIT+fMYa1e+scX9jRn8UFQ1f4MZArk3lAlTGm\n2hjTAbwELPPaZxnwvPX4VaBYRMTa/pIxpt0YcxCostrz2aYxZrWxAFuBCYN7i0qpSHTTxRexKD+L\n/3i7goMNZ4f0XOW1LRw9dc7xhR39GcrCj4EEk/HAEY/nNda2XvcxxnQBzUBaH8f6bdNKb90OvOmx\n+QoR2Skib4jIzN46KyJ3iUipiJTW1w/dnGqllL1EhEc+P4u4mCgeeG0XPUOY7nIXdrx+hrMLO/oz\nlIUfAwkmvU1b8P6/5muf/m739CSw0RjzrvX8Q2CyMeZi4OfAX3rrrDHmaWNMoTGmMCMjPHObSqnA\nZCUn8L0bC9h6sIkXthwesvO4CztmjHJ+YUd/FuUPTeHHQIJJDTDR4/kE4JivfUQkBkgBmvo4ts82\nReQHQAbwbfc2Y0yLMeaM9Xg1ECsizlziTCkVMrcUTuCavHR+8sY+ak62Br39Y2FW2NGfxTOHpvBj\nIMFkG5AnIjkiEodrQH2l1z4rgTusx8uB9daYx0pghTXbKwfIwzUO4rNNEfkGcANwqzHm/N01IjLW\nGodBROZZfXfWIgdKqZATEf7vF2YD8NCfy4I+U2ltmBV29Mdd+NH9voLFbzCxxkDuA94C9gKvGGP2\niMjDInKTtdszQJqIVOG6mnjQOnYP8ApQjmvs415jTLevNq22fgVkAR94TQFeDuwWkZ3A48AKE4qF\njZVSjjdhzEgeWDqDd/c38KftNUFte035CXLTw6ewoz/uwo/vVTUEtfCjRPLf48LCQlNaWmp3N5RS\nIdDTY1jx9Gb2Hm9h7bevIys5YdBttrR1ctmP1vD1q3J46LP5QeilM7x/oIG///UWfvWVS1kya9wF\nr4vIdmNMYX/a1DvglVIRISpKeHT5HDq6evi3/9kdlHRXuBZ29GdedmrQCz9qMFFKRYyc9ES+85lp\nrN17gr/uqh10e+Fa2NGfoSj8qMFEKRVR7rw6l4snjuaHK/fQeKZ9wO24CzsunBGehR39CXbhRw0m\nSqmIEh0l/Gz5HE63dfLDv5YPuB13YcdIS3G5BbvwowYTpVTEmZY1ivsX5vHXncd4a8/A1j4P98KO\n/gS78KMGE6VURPrWginkj0vmf/9lN82tnf06NlIKO/oTzMKPGkyUUhEpNjqKny2fQ9PZDn68qn/p\nLndhx8UF4V2Ly59gFn7UYKKUilizxqdw93W5/Gl7DRsqAy/86i7suHBGZI6XuAWz8KMGE6VURLt/\nYR5TMhL51z+XcSbAO74jqbCjP8Eq/KjBRCkV0RJio/np8os51nyOR9/Y53f/SCvs6E+wCj9qMFFK\nRbzLJo/h61fl8PvNh9lc3Xd9WHcBxHBd672/glX4UYOJUmpY+F+fmc6k1JE88NouznV0+9zPXdhx\namZkFHb0J1iFHzWYKKWGhRFx0fzki7M53NjKf75d0es+LW2dbK5uHDYpLrdFBZl0dPXw7v6Br06r\nwUQpNWxcOSWd24om8eymg3z48YVlRDZEaGFHf4JR+FGDiVJqWHlw6QzGJifw3Vd30d716XTXmggt\n7OiPu/DjO4Mo/KjBRCk1rIxKiOWRL8ymqu4MP19XdX57pBd29GdxQRYnB1H4UYOJUmrYuX56Jl+8\ndAK/3HCA3Uebgcgv7OjPYAs/BhRMRGSJiFSISJWIPNjL6/Ei8rL1+hYRyfZ47SFre4WI3OCvTWtd\n+C0ist9qM87fOZRSqr++97l8xoyM47uv7qKzu4c15ceJj4ncwo7+eBZ+HAi/wUREooEngKVAAXCr\niBR47XYncNIYMxV4DHjUOrYAWAHMBJYAT4pItJ82HwUeM8bkASettn2eQymlBmL0yDh+fPMsymtb\neGrDAdbureOavPSILuzoj7vw40AEcmUyD6gyxlQbYzqAl4BlXvssA563Hr8KFIuIWNtfMsa0G2MO\nAlVWe722aR2z0GoDq82b/ZxDKaUGZMmssdw4Zxz/tabSKuw4PFNcboO5UTOQYDIeOOLxvMba1us+\nxpguoBlI6+NYX9vTgFNWG97n8nUOpZQasP9z00xSRsQOi8KO/oxNSWDOhJQBHRsTwD69ffv3XknF\n1z6+tvcWxPraP9B+ICJ3AXcBTJo0qZdDlFLqE+lJ8fz81kvZW9syLAo7+nNL4UT+OoDjArkyqQEm\nejyfABzztY+IxAApQFMfx/ra3gCMttrwPpevc3yKMeZpY0yhMaYwI2N4DqQppfrn6rx0/vHaXLu7\n4Qi3z588oOMCCSbbgDxrllUcrgH1lV77rATusB4vB9Yb1zqQK4EV1kysHCAP2OqrTeuYd6w2sNp8\n3c85lFJK2cxvmssY0yUi9wFvAdHAs8aYPSLyMFBqjFkJPAP8XkSqcF0trLCO3SMirwDlQBdwrzGm\nG6C3Nq1TPgC8JCI/Bj6y2sbXOZRSStlPIvnLfWFhoSktLbW7G0opFVZEZLsxprA/x+gd8EoppQZN\ng4lSSqlB02CilFJq0DSYKKWUGjQNJkoppQYtomdzichpoPf1OYefdFw3hSr9LDzpZ/EJ/Sw+Md0Y\nM6o/BwRSTiWcVfR3elukEpFS/Sxc9LP4hH4Wn9DP4hMi0u97KjTNpZRSatA0mCillBq0SA8mT9vd\nAQfRz+IT+ll8Qj+LT+hn8Yl+fxYRPQCvlFIqNCL9ykQppVQIRFQwEZElIlIhIlUi8qC17T7ruRGR\ndLv7GCo+PotnRGSniOwSkVdFJMnufoaCj8/iORE5KCI7rH9z7e5nKPj4LN71+ByOichf7O7nUPPx\nOSwUkQ9FZLeIPO+xrlJEE5FnRaRORHZ7bLtFRPaISI+IBDbDzRgTEf9wlbI/AOQCccBOoAC4BMgG\nDgHpdvfT5s8i2WOf/wIetLuvNn4WzwHL7e6fEz4Lr31eA/7B7r7a9DNxBJhm7fMwcKfdfQ3R53Et\ncCmw22NbPjAdKAEKA2knkq5M5gFVxphqY0wH8BKwzBjzkTHmkL1dCzlfn0ULgIgIMIJelj2OQL1+\nFjb3yS59fhYiMgpYCET6lUlvn8MXgXZjTKW1zxprW8QzxmzEa9VaY8xeY0y/bviOpGAyHtc3C7ca\na9tw5POzEJHfAseBGcDPQ9+1kOvr5+IRK+X3mIgMh8W//f2OfB5Y5/7SEcF6+xzGArEeKZ3lfHpp\nceVHJAUT6WXbcPjm3Rufn4Ux5mvARcBe4Muh7JRNfH0WD+EKqJcDqbhW+Ix0/n5HbgVeDFFf7NTb\n59CDa/XWx0RkK3Aa1+qwKkCRFExq+PQ3iQnAMZv6Yrc+PwvjWjr5ZYbHZXyvn4Uxpta4tAO/xZX6\niHQ+fy5EJA3XZ7DKhn6Fmq+fiQ+MMdcYY+YBG4H9tvQuTEVSMNkG5IlIjojE4fqWsdLmPtml189C\nRKbC+TGTvwP22djHUPH1WYyD85/FzcDuPtqIFH39jtwC/M0Y02Zb70LH189EJoCV8nwA+JWNfQw7\nETP1zRjTJSL3AW/hmq3xrDFmj4j8E/BdXDnRXSKy2hjzDTv7OtR6+yxwpbXeFZFkXJf5O4Fv2dfL\n0Ojj52K9iGTg+ix2AHfb2c9Q8PVZWC+vAH5iW+dCqI+fiZ+JyOdwfcn+pTFmva0dDREReRFYAKSL\nSA3wA1wD8j8HMoBVIrLDGHNDn+1Y08CUUkqpAYukNJdSSimbaDBRSik1aBpMlFJKDZoGE6WUUoOm\nwUQppdSgaTBRykFEZLSI3OPxfIGI/M3OPikVCA0mSjnLaOAev3sp5TAaTJQaIBHJFpF9IvIbaw2M\nF0RkkYhsEpH9IjJPRFJF5C9WQcnNIjLHOvaH1joSJSJSbd1cC64bB6dYa4v8zNqWZK0/s886R2+1\npZSyVcTcAa+UTabiKkVyF64yHX8PXA3cBPwrruq0HxljbhaRhcDvAPdCXDOA64FRQIWI/BJ4EJhl\njJkLrjQXrjV5ZuKqo7UJuAp4LxRvTqlA6ZWJUoNz0BhTZozpAfbgKuFugDJci7JdDfwewCrPkSYi\nKdaxq4wx7caYBqAOyPJxjq3GmBrrHDusdpVyFA0mSg1Ou8fjHo/nPbiu/Psq++55bDe+MwWB7qeU\nbTSYKDW0NgK3wfmUVYOfxadO40p7KRVW9BuOUkPrh8BvRWQX0Arc0dfOxphGawB/N/AGw2N9ERUB\ntGqwUkqpQdM0l1JKqUHTYKKUUmrQNJgopZQaNA0mSimlBk2DiVJKqUHTYKKUUmrQNJgopZQaNA0m\nSimlBu3/AU0D8N8Ui5DVAAAAAElFTkSuQmCC\n",
      "text/plain": [
       "<matplotlib.figure.Figure at 0x10827ed68>"
      ]
     },
     "metadata": {},
     "output_type": "display_data"
    }
   ],
   "source": [
    "df2.groupby('month')['failure'].mean().plot()"
   ]
  },
  {
   "cell_type": "markdown",
   "metadata": {},
   "source": [
    "# We can see that month 5, 7 & 10 have higher failure rate for mean of all failure"
   ]
  },
  {
   "cell_type": "code",
   "execution_count": 41,
   "metadata": {
    "collapsed": true
   },
   "outputs": [],
   "source": [
    "defaultid = df2[df2.failure == 1].device.unique()"
   ]
  },
  {
   "cell_type": "code",
   "execution_count": 42,
   "metadata": {},
   "outputs": [
    {
     "data": {
      "text/plain": [
       "(106,)"
      ]
     },
     "execution_count": 42,
     "metadata": {},
     "output_type": "execute_result"
    }
   ],
   "source": [
    "defaultid.shape"
   ]
  },
  {
   "cell_type": "code",
   "execution_count": 43,
   "metadata": {},
   "outputs": [
    {
     "data": {
      "text/plain": [
       "1168"
      ]
     },
     "execution_count": 43,
     "metadata": {},
     "output_type": "execute_result"
    }
   ],
   "source": [
    "df2.device.nunique()"
   ]
  },
  {
   "cell_type": "markdown",
   "metadata": {},
   "source": [
    "# Out of all 1168 devices we have found that total 106 device shows failure, so now i will check seasonality of only  106 devices for all the dates they have worked & then compared with above "
   ]
  },
  {
   "cell_type": "code",
   "execution_count": 44,
   "metadata": {
    "collapsed": true
   },
   "outputs": [],
   "source": [
    "defaults=df2[df2.device.isin(defaultid)]"
   ]
  },
  {
   "cell_type": "code",
   "execution_count": 45,
   "metadata": {},
   "outputs": [
    {
     "data": {
      "text/plain": [
       "(10713, 13)"
      ]
     },
     "execution_count": 45,
     "metadata": {},
     "output_type": "execute_result"
    }
   ],
   "source": [
    "defaults.shape"
   ]
  },
  {
   "cell_type": "markdown",
   "metadata": {},
   "source": [
    "# I have found that month 5 and month 7 are not the highest default month. The trend is not exactly the same as the trend from the full data set."
   ]
  },
  {
   "cell_type": "code",
   "execution_count": 46,
   "metadata": {},
   "outputs": [
    {
     "data": {
      "text/plain": [
       "<matplotlib.axes._subplots.AxesSubplot at 0x10827edd8>"
      ]
     },
     "execution_count": 46,
     "metadata": {},
     "output_type": "execute_result"
    },
    {
     "data": {
      "image/png": "iVBORw0KGgoAAAANSUhEUgAAAYAAAAEKCAYAAAAb7IIBAAAABHNCSVQICAgIfAhkiAAAAAlwSFlz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\n4pQlAGOMiVP/H/uO4v5+cLERAAAAAElFTkSuQmCC\n",
      "text/plain": [
       "<matplotlib.figure.Figure at 0x1a18636ba8>"
      ]
     },
     "metadata": {},
     "output_type": "display_data"
    }
   ],
   "source": [
    "defaults.groupby('month')['failure'].mean().plot()"
   ]
  },
  {
   "cell_type": "markdown",
   "metadata": {},
   "source": [
    "# Overall Attribute Observation"
   ]
  },
  {
   "cell_type": "markdown",
   "metadata": {},
   "source": [
    "# 1. Attribute2 is series so devided it by 8 & its continuous variable - att2\n",
    "\n",
    "# 2. Attribute6 is mileage of truck, so make new column of total mile covered by  truck & it is also continuous variable, use max() & min() function for that - total_mile\n",
    "\n",
    "# 3. Attribute3 & Attribute9 are remain unchange during fail (1) or Nofail (0) condition, so we will add both off them & add new column. - att39\n",
    "\n",
    "# 4. Attribute7 & Attribute8 column are all same & both are multiple of two so, first devide attribute7 by '2' & then make it square of that column & delete attribute8 column. - att78\n",
    "\n",
    "# 5. Attribute4 & Attribute5 we will not do any thing\n",
    "\n",
    "# 6. Attribute1 is continuous varibale & multiple of 8 so devide it by 8 - att1\n",
    "\n",
    "# 7. Add column of working_days \n",
    "\n",
    "# 8. Add column of device_type - S1F, W1F, Z1F -categorical variable\n",
    "\n",
    "# 9. Add column of month\n"
   ]
  },
  {
   "cell_type": "code",
   "execution_count": 54,
   "metadata": {
    "collapsed": true
   },
   "outputs": [],
   "source": [
    "df1['date'] = pd.to_datetime(df1['date'])"
   ]
  },
  {
   "cell_type": "code",
   "execution_count": 55,
   "metadata": {
    "collapsed": true
   },
   "outputs": [],
   "source": [
    "df1['work_days']=df1.groupby('device')['date'].rank(method='dense')"
   ]
  },
  {
   "cell_type": "code",
   "execution_count": 56,
   "metadata": {},
   "outputs": [
    {
     "data": {
      "text/html": [
       "<div>\n",
       "<style>\n",
       "    .dataframe thead tr:only-child th {\n",
       "        text-align: right;\n",
       "    }\n",
       "\n",
       "    .dataframe thead th {\n",
       "        text-align: left;\n",
       "    }\n",
       "\n",
       "    .dataframe tbody tr th {\n",
       "        vertical-align: top;\n",
       "    }\n",
       "</style>\n",
       "<table border=\"1\" class=\"dataframe\">\n",
       "  <thead>\n",
       "    <tr style=\"text-align: right;\">\n",
       "      <th></th>\n",
       "      <th>date</th>\n",
       "      <th>device</th>\n",
       "      <th>failure</th>\n",
       "      <th>attribute1</th>\n",
       "      <th>attribute2</th>\n",
       "      <th>attribute3</th>\n",
       "      <th>attribute4</th>\n",
       "      <th>attribute5</th>\n",
       "      <th>attribute6</th>\n",
       "      <th>attribute7</th>\n",
       "      <th>attribute8</th>\n",
       "      <th>attribute9</th>\n",
       "      <th>work_days</th>\n",
       "    </tr>\n",
       "  </thead>\n",
       "  <tbody>\n",
       "    <tr>\n",
       "      <th>0</th>\n",
       "      <td>2015-01-01</td>\n",
       "      <td>S1F01085</td>\n",
       "      <td>0</td>\n",
       "      <td>215630672</td>\n",
       "      <td>56</td>\n",
       "      <td>0</td>\n",
       "      <td>52</td>\n",
       "      <td>6</td>\n",
       "      <td>407438</td>\n",
       "      <td>0</td>\n",
       "      <td>0</td>\n",
       "      <td>7</td>\n",
       "      <td>1.0</td>\n",
       "    </tr>\n",
       "    <tr>\n",
       "      <th>1</th>\n",
       "      <td>2015-01-01</td>\n",
       "      <td>S1F0166B</td>\n",
       "      <td>0</td>\n",
       "      <td>61370680</td>\n",
       "      <td>0</td>\n",
       "      <td>3</td>\n",
       "      <td>0</td>\n",
       "      <td>6</td>\n",
       "      <td>403174</td>\n",
       "      <td>0</td>\n",
       "      <td>0</td>\n",
       "      <td>0</td>\n",
       "      <td>1.0</td>\n",
       "    </tr>\n",
       "    <tr>\n",
       "      <th>2</th>\n",
       "      <td>2015-01-01</td>\n",
       "      <td>S1F01E6Y</td>\n",
       "      <td>0</td>\n",
       "      <td>173295968</td>\n",
       "      <td>0</td>\n",
       "      <td>0</td>\n",
       "      <td>0</td>\n",
       "      <td>12</td>\n",
       "      <td>237394</td>\n",
       "      <td>0</td>\n",
       "      <td>0</td>\n",
       "      <td>0</td>\n",
       "      <td>1.0</td>\n",
       "    </tr>\n",
       "    <tr>\n",
       "      <th>3</th>\n",
       "      <td>2015-01-01</td>\n",
       "      <td>S1F01JE0</td>\n",
       "      <td>0</td>\n",
       "      <td>79694024</td>\n",
       "      <td>0</td>\n",
       "      <td>0</td>\n",
       "      <td>0</td>\n",
       "      <td>6</td>\n",
       "      <td>410186</td>\n",
       "      <td>0</td>\n",
       "      <td>0</td>\n",
       "      <td>0</td>\n",
       "      <td>1.0</td>\n",
       "    </tr>\n",
       "    <tr>\n",
       "      <th>4</th>\n",
       "      <td>2015-01-01</td>\n",
       "      <td>S1F01R2B</td>\n",
       "      <td>0</td>\n",
       "      <td>135970480</td>\n",
       "      <td>0</td>\n",
       "      <td>0</td>\n",
       "      <td>0</td>\n",
       "      <td>15</td>\n",
       "      <td>313173</td>\n",
       "      <td>0</td>\n",
       "      <td>0</td>\n",
       "      <td>3</td>\n",
       "      <td>1.0</td>\n",
       "    </tr>\n",
       "  </tbody>\n",
       "</table>\n",
       "</div>"
      ],
      "text/plain": [
       "        date    device  failure  attribute1  attribute2  attribute3  \\\n",
       "0 2015-01-01  S1F01085        0   215630672          56           0   \n",
       "1 2015-01-01  S1F0166B        0    61370680           0           3   \n",
       "2 2015-01-01  S1F01E6Y        0   173295968           0           0   \n",
       "3 2015-01-01  S1F01JE0        0    79694024           0           0   \n",
       "4 2015-01-01  S1F01R2B        0   135970480           0           0   \n",
       "\n",
       "   attribute4  attribute5  attribute6  attribute7  attribute8  attribute9  \\\n",
       "0          52           6      407438           0           0           7   \n",
       "1           0           6      403174           0           0           0   \n",
       "2           0          12      237394           0           0           0   \n",
       "3           0           6      410186           0           0           0   \n",
       "4           0          15      313173           0           0           3   \n",
       "\n",
       "   work_days  \n",
       "0        1.0  \n",
       "1        1.0  \n",
       "2        1.0  \n",
       "3        1.0  \n",
       "4        1.0  "
      ]
     },
     "execution_count": 56,
     "metadata": {},
     "output_type": "execute_result"
    }
   ],
   "source": [
    "df1.head()"
   ]
  },
  {
   "cell_type": "code",
   "execution_count": null,
   "metadata": {
    "collapsed": true
   },
   "outputs": [],
   "source": [
    "#df1[(df1['device']=='S1F01085') & (df1['failure']==1)]"
   ]
  },
  {
   "cell_type": "code",
   "execution_count": null,
   "metadata": {
    "collapsed": true
   },
   "outputs": [],
   "source": [
    "#df1[(df1['device']=='S1F01085') & (df1['failure']==0)]"
   ]
  },
  {
   "cell_type": "code",
   "execution_count": 58,
   "metadata": {
    "collapsed": true
   },
   "outputs": [],
   "source": [
    "df1['device_type']=df1['device'].apply(lambda x: str(x)[0:3])"
   ]
  },
  {
   "cell_type": "code",
   "execution_count": 59,
   "metadata": {},
   "outputs": [
    {
     "data": {
      "text/html": [
       "<div>\n",
       "<style>\n",
       "    .dataframe thead tr:only-child th {\n",
       "        text-align: right;\n",
       "    }\n",
       "\n",
       "    .dataframe thead th {\n",
       "        text-align: left;\n",
       "    }\n",
       "\n",
       "    .dataframe tbody tr th {\n",
       "        vertical-align: top;\n",
       "    }\n",
       "</style>\n",
       "<table border=\"1\" class=\"dataframe\">\n",
       "  <thead>\n",
       "    <tr style=\"text-align: right;\">\n",
       "      <th></th>\n",
       "      <th>date</th>\n",
       "      <th>device</th>\n",
       "      <th>failure</th>\n",
       "      <th>attribute1</th>\n",
       "      <th>attribute2</th>\n",
       "      <th>attribute3</th>\n",
       "      <th>attribute4</th>\n",
       "      <th>attribute5</th>\n",
       "      <th>attribute6</th>\n",
       "      <th>attribute7</th>\n",
       "      <th>attribute8</th>\n",
       "      <th>attribute9</th>\n",
       "      <th>work_days</th>\n",
       "      <th>device_type</th>\n",
       "    </tr>\n",
       "  </thead>\n",
       "  <tbody>\n",
       "    <tr>\n",
       "      <th>0</th>\n",
       "      <td>2015-01-01</td>\n",
       "      <td>S1F01085</td>\n",
       "      <td>0</td>\n",
       "      <td>215630672</td>\n",
       "      <td>56</td>\n",
       "      <td>0</td>\n",
       "      <td>52</td>\n",
       "      <td>6</td>\n",
       "      <td>407438</td>\n",
       "      <td>0</td>\n",
       "      <td>0</td>\n",
       "      <td>7</td>\n",
       "      <td>1.0</td>\n",
       "      <td>S1F</td>\n",
       "    </tr>\n",
       "    <tr>\n",
       "      <th>1</th>\n",
       "      <td>2015-01-01</td>\n",
       "      <td>S1F0166B</td>\n",
       "      <td>0</td>\n",
       "      <td>61370680</td>\n",
       "      <td>0</td>\n",
       "      <td>3</td>\n",
       "      <td>0</td>\n",
       "      <td>6</td>\n",
       "      <td>403174</td>\n",
       "      <td>0</td>\n",
       "      <td>0</td>\n",
       "      <td>0</td>\n",
       "      <td>1.0</td>\n",
       "      <td>S1F</td>\n",
       "    </tr>\n",
       "    <tr>\n",
       "      <th>2</th>\n",
       "      <td>2015-01-01</td>\n",
       "      <td>S1F01E6Y</td>\n",
       "      <td>0</td>\n",
       "      <td>173295968</td>\n",
       "      <td>0</td>\n",
       "      <td>0</td>\n",
       "      <td>0</td>\n",
       "      <td>12</td>\n",
       "      <td>237394</td>\n",
       "      <td>0</td>\n",
       "      <td>0</td>\n",
       "      <td>0</td>\n",
       "      <td>1.0</td>\n",
       "      <td>S1F</td>\n",
       "    </tr>\n",
       "    <tr>\n",
       "      <th>3</th>\n",
       "      <td>2015-01-01</td>\n",
       "      <td>S1F01JE0</td>\n",
       "      <td>0</td>\n",
       "      <td>79694024</td>\n",
       "      <td>0</td>\n",
       "      <td>0</td>\n",
       "      <td>0</td>\n",
       "      <td>6</td>\n",
       "      <td>410186</td>\n",
       "      <td>0</td>\n",
       "      <td>0</td>\n",
       "      <td>0</td>\n",
       "      <td>1.0</td>\n",
       "      <td>S1F</td>\n",
       "    </tr>\n",
       "    <tr>\n",
       "      <th>4</th>\n",
       "      <td>2015-01-01</td>\n",
       "      <td>S1F01R2B</td>\n",
       "      <td>0</td>\n",
       "      <td>135970480</td>\n",
       "      <td>0</td>\n",
       "      <td>0</td>\n",
       "      <td>0</td>\n",
       "      <td>15</td>\n",
       "      <td>313173</td>\n",
       "      <td>0</td>\n",
       "      <td>0</td>\n",
       "      <td>3</td>\n",
       "      <td>1.0</td>\n",
       "      <td>S1F</td>\n",
       "    </tr>\n",
       "  </tbody>\n",
       "</table>\n",
       "</div>"
      ],
      "text/plain": [
       "        date    device  failure  attribute1  attribute2  attribute3  \\\n",
       "0 2015-01-01  S1F01085        0   215630672          56           0   \n",
       "1 2015-01-01  S1F0166B        0    61370680           0           3   \n",
       "2 2015-01-01  S1F01E6Y        0   173295968           0           0   \n",
       "3 2015-01-01  S1F01JE0        0    79694024           0           0   \n",
       "4 2015-01-01  S1F01R2B        0   135970480           0           0   \n",
       "\n",
       "   attribute4  attribute5  attribute6  attribute7  attribute8  attribute9  \\\n",
       "0          52           6      407438           0           0           7   \n",
       "1           0           6      403174           0           0           0   \n",
       "2           0          12      237394           0           0           0   \n",
       "3           0           6      410186           0           0           0   \n",
       "4           0          15      313173           0           0           3   \n",
       "\n",
       "   work_days device_type  \n",
       "0        1.0         S1F  \n",
       "1        1.0         S1F  \n",
       "2        1.0         S1F  \n",
       "3        1.0         S1F  \n",
       "4        1.0         S1F  "
      ]
     },
     "execution_count": 59,
     "metadata": {},
     "output_type": "execute_result"
    }
   ],
   "source": [
    "df1.head()"
   ]
  },
  {
   "cell_type": "code",
   "execution_count": 60,
   "metadata": {
    "collapsed": true
   },
   "outputs": [],
   "source": [
    "df1['att2']=df1['attribute2'].apply(lambda x: x/8)"
   ]
  },
  {
   "cell_type": "code",
   "execution_count": 61,
   "metadata": {
    "collapsed": true
   },
   "outputs": [],
   "source": [
    "df1['att1']=df1['attribute1'].apply(lambda x: x/8)"
   ]
  },
  {
   "cell_type": "code",
   "execution_count": 62,
   "metadata": {
    "collapsed": true
   },
   "outputs": [],
   "source": [
    "df1['att39']=df1['attribute3']+df1['attribute9']"
   ]
  },
  {
   "cell_type": "code",
   "execution_count": 63,
   "metadata": {
    "collapsed": true
   },
   "outputs": [],
   "source": [
    "df1['attribute7']=df1['attribute7'].apply(lambda x:x/2)"
   ]
  },
  {
   "cell_type": "code",
   "execution_count": 64,
   "metadata": {
    "collapsed": true
   },
   "outputs": [],
   "source": [
    "df1['att78']=df1['attribute7'].apply(lambda x:x**2)"
   ]
  },
  {
   "cell_type": "code",
   "execution_count": 65,
   "metadata": {
    "collapsed": true
   },
   "outputs": [],
   "source": [
    "df1['month']=df1['date'].apply(lambda x: x.strftime('%m'))"
   ]
  },
  {
   "cell_type": "markdown",
   "metadata": {},
   "source": [
    "#  Change Datatypes"
   ]
  },
  {
   "cell_type": "code",
   "execution_count": 66,
   "metadata": {
    "collapsed": true
   },
   "outputs": [],
   "source": [
    "df1['work_days']=df1['work_days'].astype('int')"
   ]
  },
  {
   "cell_type": "code",
   "execution_count": 67,
   "metadata": {
    "collapsed": true
   },
   "outputs": [],
   "source": [
    "df1['att2']=df1['att2'].astype('int')"
   ]
  },
  {
   "cell_type": "code",
   "execution_count": 68,
   "metadata": {
    "collapsed": true
   },
   "outputs": [],
   "source": [
    "df1['att1']=df1['att1'].astype('int')"
   ]
  },
  {
   "cell_type": "code",
   "execution_count": 69,
   "metadata": {
    "collapsed": true
   },
   "outputs": [],
   "source": [
    "df1['att78']=df1['att78'].astype('int')"
   ]
  },
  {
   "cell_type": "code",
   "execution_count": 70,
   "metadata": {
    "collapsed": true
   },
   "outputs": [],
   "source": [
    "df1['month']=df1['month'].astype('int')"
   ]
  },
  {
   "cell_type": "markdown",
   "metadata": {},
   "source": [
    "# Now Calculating Total miles run by truck"
   ]
  },
  {
   "cell_type": "code",
   "execution_count": 71,
   "metadata": {
    "collapsed": true
   },
   "outputs": [],
   "source": [
    "prep1=df1.groupby(['device']).max()"
   ]
  },
  {
   "cell_type": "code",
   "execution_count": null,
   "metadata": {
    "collapsed": true
   },
   "outputs": [],
   "source": [
    "prep1=prep1.reset_index(0)"
   ]
  },
  {
   "cell_type": "code",
   "execution_count": null,
   "metadata": {
    "collapsed": true
   },
   "outputs": [],
   "source": [
    "prep2=df1.groupby(['device']).min()"
   ]
  },
  {
   "cell_type": "code",
   "execution_count": null,
   "metadata": {
    "collapsed": true
   },
   "outputs": [],
   "source": [
    "prep2=prep2.reset_index(0)"
   ]
  },
  {
   "cell_type": "code",
   "execution_count": null,
   "metadata": {
    "collapsed": true
   },
   "outputs": [],
   "source": [
    "prep1['att6']=prep2['attribute6']"
   ]
  },
  {
   "cell_type": "code",
   "execution_count": null,
   "metadata": {
    "collapsed": true
   },
   "outputs": [],
   "source": [
    "prep1['total_mile']=prep1['attribute6']-prep1['att6']"
   ]
  },
  {
   "cell_type": "code",
   "execution_count": null,
   "metadata": {
    "collapsed": true
   },
   "outputs": [],
   "source": [
    "prep=prep1.copy()"
   ]
  },
  {
   "cell_type": "code",
   "execution_count": null,
   "metadata": {
    "collapsed": true
   },
   "outputs": [],
   "source": [
    "prep=prep.drop(['attribute1','attribute2','attribute3','attribute6','attribute7','attribute8','attribute9','att6'],axis=1)"
   ]
  },
  {
   "cell_type": "code",
   "execution_count": null,
   "metadata": {
    "collapsed": true
   },
   "outputs": [],
   "source": [
    "prep.info()"
   ]
  },
  {
   "cell_type": "code",
   "execution_count": null,
   "metadata": {
    "collapsed": true
   },
   "outputs": [],
   "source": [
    "c={'S1F':0,'W1F':1, 'Z1F':2}\n",
    "prep['device_type']=prep['device_type'].map(c)"
   ]
  },
  {
   "cell_type": "code",
   "execution_count": null,
   "metadata": {
    "collapsed": true
   },
   "outputs": [],
   "source": [
    "prep.info()"
   ]
  },
  {
   "cell_type": "code",
   "execution_count": null,
   "metadata": {
    "collapsed": true
   },
   "outputs": [],
   "source": [
    "fig, ax = plt.subplots(figsize=(10, 7))\n",
    "Corr = prep[prep.columns].corr()\n",
    "sns.heatmap(Corr,annot=True,linewidths=0.5)"
   ]
  },
  {
   "cell_type": "code",
   "execution_count": null,
   "metadata": {
    "collapsed": true
   },
   "outputs": [],
   "source": [
    "prep['attribute4']=prep['attribute4'].astype('category')\n",
    "prep['attribute5']=prep['attribute5'].astype('category')\n",
    "prep['device_type']=prep['device_type'].astype('category')\n",
    "prep['att39']=prep['att39'].astype('category')\n",
    "prep['att78']=prep['att78'].astype('category')\n",
    "prep['att2']=prep['att2'].astype('category')\n",
    "prep['month']=prep['month'].astype('category')"
   ]
  },
  {
   "cell_type": "code",
   "execution_count": null,
   "metadata": {
    "collapsed": true
   },
   "outputs": [],
   "source": [
    "prep=prep.drop(['device','date'],axis=1)"
   ]
  },
  {
   "cell_type": "code",
   "execution_count": null,
   "metadata": {
    "collapsed": true
   },
   "outputs": [],
   "source": [
    "prep.info()"
   ]
  },
  {
   "cell_type": "code",
   "execution_count": null,
   "metadata": {
    "collapsed": true
   },
   "outputs": [],
   "source": [
    "prep.to_csv('dataprep.csv', sep=',')"
   ]
  }
 ],
 "metadata": {
  "kernelspec": {
   "display_name": "Python 3",
   "language": "python",
   "name": "python3"
  },
  "language_info": {
   "codemirror_mode": {
    "name": "ipython",
    "version": 3
   },
   "file_extension": ".py",
   "mimetype": "text/x-python",
   "name": "python",
   "nbconvert_exporter": "python",
   "pygments_lexer": "ipython3",
   "version": "3.6.3"
  }
 },
 "nbformat": 4,
 "nbformat_minor": 2
}
